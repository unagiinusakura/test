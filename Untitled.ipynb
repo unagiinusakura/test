{
 "cells": [
  {
   "cell_type": "code",
   "execution_count": 10,
   "metadata": {},
   "outputs": [],
   "source": [
    "import openpyxl as xl\n",
    "import pandas as pd\n",
    "import datetime"
   ]
  },
  {
   "cell_type": "code",
   "execution_count": 23,
   "metadata": {},
   "outputs": [],
   "source": [
    "wb = xl.load_workbook('book1.xlsx')"
   ]
  },
  {
   "cell_type": "code",
   "execution_count": 24,
   "metadata": {},
   "outputs": [],
   "source": [
    "sheet = wb['Sheet1']"
   ]
  },
  {
   "cell_type": "code",
   "execution_count": 25,
   "metadata": {},
   "outputs": [
    {
     "data": {
      "text/plain": [
       "datetime.datetime(2020, 8, 7, 0, 0)"
      ]
     },
     "execution_count": 25,
     "metadata": {},
     "output_type": "execute_result"
    }
   ],
   "source": [
    "sheet['H1'].value\n"
   ]
  },
  {
   "cell_type": "code",
   "execution_count": 12,
   "metadata": {},
   "outputs": [
    {
     "data": {
      "text/plain": [
       "'2020/08/07'"
      ]
     },
     "execution_count": 12,
     "metadata": {},
     "output_type": "execute_result"
    }
   ],
   "source": [
    "sheet['H1'].value.strftime('%Y/%m/%d')"
   ]
  },
  {
   "cell_type": "code",
   "execution_count": 39,
   "metadata": {},
   "outputs": [],
   "source": [
    "max_c =sheet.max_column\n",
    "max_c +=1"
   ]
  },
  {
   "cell_type": "code",
   "execution_count": 40,
   "metadata": {},
   "outputs": [],
   "source": [
    "for i in range(1,max_c):\n",
    "    try:\n",
    "        s =sheet.cell(row=1, column = i).value.strftime('%Y/%m/%d')\n",
    "        sheet.cell(row=1, column = i).value = s\n",
    "    except AttributeError:\n",
    "       pass"
   ]
  },
  {
   "cell_type": "code",
   "execution_count": 42,
   "metadata": {},
   "outputs": [],
   "source": [
    "data =list(sheet.values)"
   ]
  },
  {
   "cell_type": "code",
   "execution_count": 44,
   "metadata": {},
   "outputs": [],
   "source": [
    "df = pd.DataFrame(data[1:], columns=data[0])"
   ]
  },
  {
   "cell_type": "code",
   "execution_count": 47,
   "metadata": {},
   "outputs": [
    {
     "data": {
      "text/html": [
       "<div>\n",
       "<style scoped>\n",
       "    .dataframe tbody tr th:only-of-type {\n",
       "        vertical-align: middle;\n",
       "    }\n",
       "\n",
       "    .dataframe tbody tr th {\n",
       "        vertical-align: top;\n",
       "    }\n",
       "\n",
       "    .dataframe thead th {\n",
       "        text-align: right;\n",
       "    }\n",
       "</style>\n",
       "<table border=\"1\" class=\"dataframe\">\n",
       "  <thead>\n",
       "    <tr style=\"text-align: right;\">\n",
       "      <th></th>\n",
       "      <th>日付</th>\n",
       "      <th>2020/08/01</th>\n",
       "      <th>2020/08/02</th>\n",
       "      <th>2020/08/03</th>\n",
       "      <th>2020/08/04</th>\n",
       "      <th>2020/08/05</th>\n",
       "      <th>2020/08/06</th>\n",
       "      <th>2020/08/07</th>\n",
       "      <th>2020/08/08</th>\n",
       "      <th>2020/08/09</th>\n",
       "      <th>2020/08/10</th>\n",
       "      <th>2020/08/11</th>\n",
       "      <th>2020/08/12</th>\n",
       "    </tr>\n",
       "  </thead>\n",
       "  <tbody>\n",
       "    <tr>\n",
       "      <td>0</td>\n",
       "      <td>a</td>\n",
       "      <td>10</td>\n",
       "      <td>10</td>\n",
       "      <td>10</td>\n",
       "      <td>10</td>\n",
       "      <td>10</td>\n",
       "      <td>10</td>\n",
       "      <td>10</td>\n",
       "      <td>10</td>\n",
       "      <td>10</td>\n",
       "      <td>10</td>\n",
       "      <td>10</td>\n",
       "      <td>10</td>\n",
       "    </tr>\n",
       "    <tr>\n",
       "      <td>1</td>\n",
       "      <td>b</td>\n",
       "      <td>20</td>\n",
       "      <td>20</td>\n",
       "      <td>20</td>\n",
       "      <td>20</td>\n",
       "      <td>20</td>\n",
       "      <td>20</td>\n",
       "      <td>20</td>\n",
       "      <td>20</td>\n",
       "      <td>20</td>\n",
       "      <td>20</td>\n",
       "      <td>20</td>\n",
       "      <td>20</td>\n",
       "    </tr>\n",
       "  </tbody>\n",
       "</table>\n",
       "</div>"
      ],
      "text/plain": [
       "  日付  2020/08/01  2020/08/02  2020/08/03  2020/08/04  2020/08/05  2020/08/06  \\\n",
       "0  a          10          10          10          10          10          10   \n",
       "1  b          20          20          20          20          20          20   \n",
       "\n",
       "   2020/08/07  2020/08/08  2020/08/09  2020/08/10  2020/08/11  2020/08/12  \n",
       "0          10          10          10          10          10          10  \n",
       "1          20          20          20          20          20          20  "
      ]
     },
     "execution_count": 47,
     "metadata": {},
     "output_type": "execute_result"
    }
   ],
   "source": [
    "df"
   ]
  },
  {
   "cell_type": "code",
   "execution_count": 50,
   "metadata": {},
   "outputs": [
    {
     "data": {
      "text/plain": [
       "0  2020/08/01    10\n",
       "   2020/08/02    10\n",
       "   2020/08/03    10\n",
       "   2020/08/04    10\n",
       "   2020/08/05    10\n",
       "   2020/08/06    10\n",
       "   2020/08/07    10\n",
       "   2020/08/08    10\n",
       "   2020/08/09    10\n",
       "   2020/08/10    10\n",
       "   2020/08/11    10\n",
       "   2020/08/12    10\n",
       "1  2020/08/01    20\n",
       "   2020/08/02    20\n",
       "   2020/08/03    20\n",
       "   2020/08/04    20\n",
       "   2020/08/05    20\n",
       "   2020/08/06    20\n",
       "   2020/08/07    20\n",
       "   2020/08/08    20\n",
       "   2020/08/09    20\n",
       "   2020/08/10    20\n",
       "   2020/08/11    20\n",
       "   2020/08/12    20\n",
       "dtype: int64"
      ]
     },
     "execution_count": 50,
     "metadata": {},
     "output_type": "execute_result"
    }
   ],
   "source": [
    "df.iloc[:,1:].stack()"
   ]
  },
  {
   "cell_type": "code",
   "execution_count": 53,
   "metadata": {},
   "outputs": [],
   "source": [
    "melted = pd.melt(df,['日付'])"
   ]
  },
  {
   "cell_type": "code",
   "execution_count": 54,
   "metadata": {},
   "outputs": [
    {
     "data": {
      "text/html": [
       "<div>\n",
       "<style scoped>\n",
       "    .dataframe tbody tr th:only-of-type {\n",
       "        vertical-align: middle;\n",
       "    }\n",
       "\n",
       "    .dataframe tbody tr th {\n",
       "        vertical-align: top;\n",
       "    }\n",
       "\n",
       "    .dataframe thead th {\n",
       "        text-align: right;\n",
       "    }\n",
       "</style>\n",
       "<table border=\"1\" class=\"dataframe\">\n",
       "  <thead>\n",
       "    <tr style=\"text-align: right;\">\n",
       "      <th></th>\n",
       "      <th>日付</th>\n",
       "      <th>variable</th>\n",
       "      <th>value</th>\n",
       "    </tr>\n",
       "  </thead>\n",
       "  <tbody>\n",
       "    <tr>\n",
       "      <td>0</td>\n",
       "      <td>a</td>\n",
       "      <td>2020/08/01</td>\n",
       "      <td>10</td>\n",
       "    </tr>\n",
       "    <tr>\n",
       "      <td>1</td>\n",
       "      <td>b</td>\n",
       "      <td>2020/08/01</td>\n",
       "      <td>20</td>\n",
       "    </tr>\n",
       "    <tr>\n",
       "      <td>2</td>\n",
       "      <td>a</td>\n",
       "      <td>2020/08/02</td>\n",
       "      <td>10</td>\n",
       "    </tr>\n",
       "    <tr>\n",
       "      <td>3</td>\n",
       "      <td>b</td>\n",
       "      <td>2020/08/02</td>\n",
       "      <td>20</td>\n",
       "    </tr>\n",
       "    <tr>\n",
       "      <td>4</td>\n",
       "      <td>a</td>\n",
       "      <td>2020/08/03</td>\n",
       "      <td>10</td>\n",
       "    </tr>\n",
       "    <tr>\n",
       "      <td>5</td>\n",
       "      <td>b</td>\n",
       "      <td>2020/08/03</td>\n",
       "      <td>20</td>\n",
       "    </tr>\n",
       "    <tr>\n",
       "      <td>6</td>\n",
       "      <td>a</td>\n",
       "      <td>2020/08/04</td>\n",
       "      <td>10</td>\n",
       "    </tr>\n",
       "    <tr>\n",
       "      <td>7</td>\n",
       "      <td>b</td>\n",
       "      <td>2020/08/04</td>\n",
       "      <td>20</td>\n",
       "    </tr>\n",
       "    <tr>\n",
       "      <td>8</td>\n",
       "      <td>a</td>\n",
       "      <td>2020/08/05</td>\n",
       "      <td>10</td>\n",
       "    </tr>\n",
       "    <tr>\n",
       "      <td>9</td>\n",
       "      <td>b</td>\n",
       "      <td>2020/08/05</td>\n",
       "      <td>20</td>\n",
       "    </tr>\n",
       "    <tr>\n",
       "      <td>10</td>\n",
       "      <td>a</td>\n",
       "      <td>2020/08/06</td>\n",
       "      <td>10</td>\n",
       "    </tr>\n",
       "    <tr>\n",
       "      <td>11</td>\n",
       "      <td>b</td>\n",
       "      <td>2020/08/06</td>\n",
       "      <td>20</td>\n",
       "    </tr>\n",
       "    <tr>\n",
       "      <td>12</td>\n",
       "      <td>a</td>\n",
       "      <td>2020/08/07</td>\n",
       "      <td>10</td>\n",
       "    </tr>\n",
       "    <tr>\n",
       "      <td>13</td>\n",
       "      <td>b</td>\n",
       "      <td>2020/08/07</td>\n",
       "      <td>20</td>\n",
       "    </tr>\n",
       "    <tr>\n",
       "      <td>14</td>\n",
       "      <td>a</td>\n",
       "      <td>2020/08/08</td>\n",
       "      <td>10</td>\n",
       "    </tr>\n",
       "    <tr>\n",
       "      <td>15</td>\n",
       "      <td>b</td>\n",
       "      <td>2020/08/08</td>\n",
       "      <td>20</td>\n",
       "    </tr>\n",
       "    <tr>\n",
       "      <td>16</td>\n",
       "      <td>a</td>\n",
       "      <td>2020/08/09</td>\n",
       "      <td>10</td>\n",
       "    </tr>\n",
       "    <tr>\n",
       "      <td>17</td>\n",
       "      <td>b</td>\n",
       "      <td>2020/08/09</td>\n",
       "      <td>20</td>\n",
       "    </tr>\n",
       "    <tr>\n",
       "      <td>18</td>\n",
       "      <td>a</td>\n",
       "      <td>2020/08/10</td>\n",
       "      <td>10</td>\n",
       "    </tr>\n",
       "    <tr>\n",
       "      <td>19</td>\n",
       "      <td>b</td>\n",
       "      <td>2020/08/10</td>\n",
       "      <td>20</td>\n",
       "    </tr>\n",
       "    <tr>\n",
       "      <td>20</td>\n",
       "      <td>a</td>\n",
       "      <td>2020/08/11</td>\n",
       "      <td>10</td>\n",
       "    </tr>\n",
       "    <tr>\n",
       "      <td>21</td>\n",
       "      <td>b</td>\n",
       "      <td>2020/08/11</td>\n",
       "      <td>20</td>\n",
       "    </tr>\n",
       "    <tr>\n",
       "      <td>22</td>\n",
       "      <td>a</td>\n",
       "      <td>2020/08/12</td>\n",
       "      <td>10</td>\n",
       "    </tr>\n",
       "    <tr>\n",
       "      <td>23</td>\n",
       "      <td>b</td>\n",
       "      <td>2020/08/12</td>\n",
       "      <td>20</td>\n",
       "    </tr>\n",
       "  </tbody>\n",
       "</table>\n",
       "</div>"
      ],
      "text/plain": [
       "   日付    variable  value\n",
       "0   a  2020/08/01     10\n",
       "1   b  2020/08/01     20\n",
       "2   a  2020/08/02     10\n",
       "3   b  2020/08/02     20\n",
       "4   a  2020/08/03     10\n",
       "5   b  2020/08/03     20\n",
       "6   a  2020/08/04     10\n",
       "7   b  2020/08/04     20\n",
       "8   a  2020/08/05     10\n",
       "9   b  2020/08/05     20\n",
       "10  a  2020/08/06     10\n",
       "11  b  2020/08/06     20\n",
       "12  a  2020/08/07     10\n",
       "13  b  2020/08/07     20\n",
       "14  a  2020/08/08     10\n",
       "15  b  2020/08/08     20\n",
       "16  a  2020/08/09     10\n",
       "17  b  2020/08/09     20\n",
       "18  a  2020/08/10     10\n",
       "19  b  2020/08/10     20\n",
       "20  a  2020/08/11     10\n",
       "21  b  2020/08/11     20\n",
       "22  a  2020/08/12     10\n",
       "23  b  2020/08/12     20"
      ]
     },
     "execution_count": 54,
     "metadata": {},
     "output_type": "execute_result"
    }
   ],
   "source": [
    "melted"
   ]
  },
  {
   "cell_type": "code",
   "execution_count": 55,
   "metadata": {},
   "outputs": [
    {
     "data": {
      "text/plain": [
       "pandas.core.series.Series"
      ]
     },
     "execution_count": 55,
     "metadata": {},
     "output_type": "execute_result"
    }
   ],
   "source": [
    "type(df.iloc[:,1:].stack())"
   ]
  },
  {
   "cell_type": "code",
   "execution_count": 22,
   "metadata": {},
   "outputs": [
    {
     "data": {
      "text/plain": [
       "[('日付',\n",
       "  '2020/08/01',\n",
       "  '2020/08/02',\n",
       "  '2020/08/03',\n",
       "  '2020/08/04',\n",
       "  '2020/08/05',\n",
       "  '2020/08/06',\n",
       "  '2020/08/07',\n",
       "  '2020/08/08',\n",
       "  '2020/08/09',\n",
       "  '2020/08/10',\n",
       "  datetime.datetime(2020, 8, 11, 0, 0),\n",
       "  datetime.datetime(2020, 8, 12, 0, 0)),\n",
       " ('a', 10, 10, 10, 10, 10, 10, 10, 10, 10, 10, 10, 10),\n",
       " ('b', 20, 20, 20, 20, 20, 20, 20, 20, 20, 20, 20, 20)]"
      ]
     },
     "execution_count": 22,
     "metadata": {},
     "output_type": "execute_result"
    }
   ],
   "source": [
    "list(sheet.values)"
   ]
  },
  {
   "cell_type": "code",
   "execution_count": null,
   "metadata": {},
   "outputs": [],
   "source": []
  }
 ],
 "metadata": {
  "kernelspec": {
   "display_name": "Python 3",
   "language": "python",
   "name": "python3"
  },
  "language_info": {
   "codemirror_mode": {
    "name": "ipython",
    "version": 3
   },
   "file_extension": ".py",
   "mimetype": "text/x-python",
   "name": "python",
   "nbconvert_exporter": "python",
   "pygments_lexer": "ipython3",
   "version": "3.7.4"
  }
 },
 "nbformat": 4,
 "nbformat_minor": 4
}

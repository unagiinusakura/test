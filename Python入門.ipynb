{
 "cells": [
  {
   "cell_type": "markdown",
   "metadata": {},
   "source": [
    "## 14.文字の代入"
   ]
  },
  {
   "cell_type": "code",
   "execution_count": 3,
   "metadata": {},
   "outputs": [
    {
     "data": {
      "text/plain": [
       "'a is test'"
      ]
     },
     "execution_count": 3,
     "metadata": {},
     "output_type": "execute_result"
    }
   ],
   "source": [
    "# format関数で文字を代入\n",
    "'a is {}'.format('test')"
   ]
  },
  {
   "cell_type": "code",
   "execution_count": 4,
   "metadata": {},
   "outputs": [
    {
     "data": {
      "text/plain": [
       "'a is 1 2 3'"
      ]
     },
     "execution_count": 4,
     "metadata": {},
     "output_type": "execute_result"
    }
   ],
   "source": [
    "# 数字を入れても文字列となる\n",
    "'a is {} {} {}'.format(1,2,3)"
   ]
  },
  {
   "cell_type": "code",
   "execution_count": 5,
   "metadata": {},
   "outputs": [
    {
     "data": {
      "text/plain": [
       "'a is 3 2 1'"
      ]
     },
     "execution_count": 5,
     "metadata": {},
     "output_type": "execute_result"
    }
   ],
   "source": [
    "# インデックスを指定出来る\n",
    "'a is {2} {1} {0}'.format(1,2,3)"
   ]
  },
  {
   "cell_type": "code",
   "execution_count": 7,
   "metadata": {},
   "outputs": [
    {
     "data": {
      "text/plain": [
       "'a is ya mi'"
      ]
     },
     "execution_count": 7,
     "metadata": {},
     "output_type": "execute_result"
    }
   ],
   "source": [
    "# 変数で指定出来る\n",
    "'a is {name} {family}'.format(name='ya',family='mi')"
   ]
  },
  {
   "cell_type": "code",
   "execution_count": 10,
   "metadata": {},
   "outputs": [
    {
     "name": "stdout",
     "output_type": "stream",
     "text": [
      " a is 1,2,3\n"
     ]
    }
   ],
   "source": [
    "# f-stringsがpython3.6で使える\n",
    "x,y,z = 1,2,3\n",
    "print(f' a is {x},{y},{z}')"
   ]
  },
  {
   "cell_type": "markdown",
   "metadata": {},
   "source": [
    "## 16.リスト型"
   ]
  },
  {
   "cell_type": "code",
   "execution_count": 5,
   "metadata": {},
   "outputs": [
    {
     "name": "stdout",
     "output_type": "stream",
     "text": [
      "[1, 20, 4, 50]\n"
     ]
    }
   ],
   "source": [
    "l = [1,20,4,50]\n",
    "print(l)"
   ]
  },
  {
   "cell_type": "code",
   "execution_count": 6,
   "metadata": {},
   "outputs": [
    {
     "data": {
      "text/plain": [
       "4"
      ]
     },
     "execution_count": 6,
     "metadata": {},
     "output_type": "execute_result"
    }
   ],
   "source": [
    "#スライス\n",
    "l[2]"
   ]
  },
  {
   "cell_type": "code",
   "execution_count": 7,
   "metadata": {},
   "outputs": [
    {
     "data": {
      "text/plain": [
       "4"
      ]
     },
     "execution_count": 7,
     "metadata": {},
     "output_type": "execute_result"
    }
   ],
   "source": [
    "#配列の個数を調べる\n",
    "len(l)"
   ]
  },
  {
   "cell_type": "code",
   "execution_count": 8,
   "metadata": {},
   "outputs": [
    {
     "data": {
      "text/plain": [
       "['a', 'b', 'c', 'd', 'e', 'f', 'g']"
      ]
     },
     "execution_count": 8,
     "metadata": {},
     "output_type": "execute_result"
    }
   ],
   "source": [
    "#文字もリストになる\n",
    "list('abcdefg')"
   ]
  },
  {
   "cell_type": "code",
   "execution_count": 10,
   "metadata": {},
   "outputs": [
    {
     "data": {
      "text/plain": [
       "[['a', 'b', 'c'], [1, 2, 3]]"
      ]
     },
     "execution_count": 10,
     "metadata": {},
     "output_type": "execute_result"
    }
   ],
   "source": [
    "#ネストしたリスト\n",
    "a = ['a','b','c']\n",
    "n = [1,2,3]\n",
    "x = [a,n]\n",
    "x"
   ]
  },
  {
   "cell_type": "code",
   "execution_count": 11,
   "metadata": {},
   "outputs": [
    {
     "data": {
      "text/plain": [
       "'c'"
      ]
     },
     "execution_count": 11,
     "metadata": {},
     "output_type": "execute_result"
    }
   ],
   "source": [
    "#ネストしたリストのスライス\n",
    "x[0][2]"
   ]
  },
  {
   "cell_type": "markdown",
   "metadata": {},
   "source": [
    "## 17.リストの操作"
   ]
  },
  {
   "cell_type": "code",
   "execution_count": 22,
   "metadata": {},
   "outputs": [
    {
     "data": {
      "text/plain": [
       "['X', 'b', 'c', 'd', 'e', 'f', 'g']"
      ]
     },
     "execution_count": 22,
     "metadata": {},
     "output_type": "execute_result"
    }
   ],
   "source": [
    "#配列のデータ書き換え\n",
    "s = ['a', 'b', 'c', 'd', 'e', 'f', 'g']\n",
    "s[0] = 'X'\n",
    "s"
   ]
  },
  {
   "cell_type": "code",
   "execution_count": 23,
   "metadata": {},
   "outputs": [
    {
     "data": {
      "text/plain": [
       "['X', 'b', 'C', 'D', 'E', 'f', 'g']"
      ]
     },
     "execution_count": 23,
     "metadata": {},
     "output_type": "execute_result"
    }
   ],
   "source": [
    "#配列のデータ書き換え複数\n",
    "s[2:5] = ['C', 'D', 'E']\n",
    "s"
   ]
  },
  {
   "cell_type": "code",
   "execution_count": 24,
   "metadata": {},
   "outputs": [
    {
     "data": {
      "text/plain": [
       "['X', 'b', 'C', 'D', 'E']"
      ]
     },
     "execution_count": 24,
     "metadata": {},
     "output_type": "execute_result"
    }
   ],
   "source": [
    "#配列に空の配列を入れる\n",
    "s[5:] = []\n",
    "s"
   ]
  },
  {
   "cell_type": "code",
   "execution_count": 25,
   "metadata": {},
   "outputs": [
    {
     "data": {
      "text/plain": [
       "['X', 'b', 'C', 'D', 'E', 'H']"
      ]
     },
     "execution_count": 25,
     "metadata": {},
     "output_type": "execute_result"
    }
   ],
   "source": [
    "#データの追加1(配列の最後に追加される)\n",
    "s.append('H')\n",
    "s"
   ]
  },
  {
   "cell_type": "code",
   "execution_count": 26,
   "metadata": {},
   "outputs": [
    {
     "data": {
      "text/plain": [
       "['z', 'X', 'b', 'C', 'D', 'E', 'H']"
      ]
     },
     "execution_count": 26,
     "metadata": {},
     "output_type": "execute_result"
    }
   ],
   "source": [
    "#データの追加2(指定場所に追加)\n",
    "s.insert(0,'z')\n",
    "s"
   ]
  },
  {
   "cell_type": "code",
   "execution_count": 27,
   "metadata": {},
   "outputs": [
    {
     "data": {
      "text/plain": [
       "'H'"
      ]
     },
     "execution_count": 27,
     "metadata": {},
     "output_type": "execute_result"
    }
   ],
   "source": [
    "#データの削除1(最後のデータ削除)\n",
    "s.pop()"
   ]
  },
  {
   "cell_type": "code",
   "execution_count": 28,
   "metadata": {},
   "outputs": [
    {
     "data": {
      "text/plain": [
       "'z'"
      ]
     },
     "execution_count": 28,
     "metadata": {},
     "output_type": "execute_result"
    }
   ],
   "source": [
    "#データの削除2(indexの場所を削除)\n",
    "s.pop(0)"
   ]
  },
  {
   "cell_type": "code",
   "execution_count": 29,
   "metadata": {},
   "outputs": [
    {
     "name": "stdout",
     "output_type": "stream",
     "text": [
      "['b', 'C', 'D', 'E']\n"
     ]
    }
   ],
   "source": [
    "#データの削除3\n",
    "del s[0]\n",
    "print(s)"
   ]
  },
  {
   "cell_type": "code",
   "execution_count": 31,
   "metadata": {},
   "outputs": [
    {
     "name": "stdout",
     "output_type": "stream",
     "text": [
      "[1, 2, 2, 3]\n"
     ]
    }
   ],
   "source": [
    "#データの削除4(取り除く物がなくなればエラーとなる)\n",
    "n = [1,2,2,2,3]\n",
    "n.remove(2)\n",
    "print(n)"
   ]
  },
  {
   "cell_type": "code",
   "execution_count": 41,
   "metadata": {},
   "outputs": [
    {
     "name": "stdout",
     "output_type": "stream",
     "text": [
      "[1, 2, 3, 4, 5, 6, 7, 8, 9, 10]\n"
     ]
    }
   ],
   "source": [
    "#リストの追加\n",
    "a = [1,2,3,4,5]\n",
    "b = [6,7,8,9,10]\n",
    "x = a + b\n",
    "print(x)"
   ]
  },
  {
   "cell_type": "code",
   "execution_count": 42,
   "metadata": {},
   "outputs": [
    {
     "name": "stdout",
     "output_type": "stream",
     "text": [
      "[1, 2, 3, 4, 5, 6, 7, 8, 9, 10]\n"
     ]
    }
   ],
   "source": [
    "#リストの追加2\n",
    "a +=b\n",
    "print(a)"
   ]
  },
  {
   "cell_type": "code",
   "execution_count": 43,
   "metadata": {},
   "outputs": [
    {
     "name": "stdout",
     "output_type": "stream",
     "text": [
      "[1, 2, 3, 4, 5, 6, 7, 8, 9, 10, 6, 7, 8, 9, 10]\n"
     ]
    }
   ],
   "source": [
    "#リストの追加3\n",
    "a.extend(b)\n",
    "print(a)"
   ]
  },
  {
   "cell_type": "markdown",
   "metadata": {},
   "source": [
    "## 18.リストのメソッド"
   ]
  },
  {
   "cell_type": "code",
   "execution_count": 11,
   "metadata": {},
   "outputs": [
    {
     "data": {
      "text/plain": [
       "2"
      ]
     },
     "execution_count": 11,
     "metadata": {},
     "output_type": "execute_result"
    }
   ],
   "source": [
    "# リスト内のindexを調べる\n",
    "r = [1,2,3,4,5,1,2,3]\n",
    "r.index(3)"
   ]
  },
  {
   "cell_type": "code",
   "execution_count": 45,
   "metadata": {},
   "outputs": [
    {
     "data": {
      "text/plain": [
       "7"
      ]
     },
     "execution_count": 45,
     "metadata": {},
     "output_type": "execute_result"
    }
   ],
   "source": [
    "# indexを調べる2(3を3番目から調べる)\n",
    "r.index(3,3)"
   ]
  },
  {
   "cell_type": "code",
   "execution_count": 46,
   "metadata": {},
   "outputs": [
    {
     "data": {
      "text/plain": [
       "2"
      ]
     },
     "execution_count": 46,
     "metadata": {},
     "output_type": "execute_result"
    }
   ],
   "source": [
    "# 数を数える\n",
    "r.count(3)"
   ]
  },
  {
   "cell_type": "code",
   "execution_count": 47,
   "metadata": {},
   "outputs": [
    {
     "name": "stdout",
     "output_type": "stream",
     "text": [
      "exist\n"
     ]
    }
   ],
   "source": [
    "# 該当データがlist内にあるか\n",
    "if 5 in r:\n",
    "    print('exist')"
   ]
  },
  {
   "cell_type": "code",
   "execution_count": 49,
   "metadata": {},
   "outputs": [
    {
     "name": "stdout",
     "output_type": "stream",
     "text": [
      "[1, 1, 2, 2, 3, 3, 4, 5]\n"
     ]
    }
   ],
   "source": [
    "# ソートする\n",
    "r.sort()\n",
    "print(r)"
   ]
  },
  {
   "cell_type": "code",
   "execution_count": 50,
   "metadata": {},
   "outputs": [
    {
     "name": "stdout",
     "output_type": "stream",
     "text": [
      "[5, 4, 3, 3, 2, 2, 1, 1]\n"
     ]
    }
   ],
   "source": [
    "# 逆ソート\n",
    "r.sort(reverse =True)\n",
    "print(r)"
   ]
  },
  {
   "cell_type": "code",
   "execution_count": 52,
   "metadata": {},
   "outputs": [
    {
     "name": "stdout",
     "output_type": "stream",
     "text": [
      "['My', 'name', 'is', 'Mike.']\n"
     ]
    }
   ],
   "source": [
    "# 文字を分けてリストにする\n",
    "s = 'My name is Mike.'\n",
    "to_split = s.split(' ')\n",
    "print(to_split)"
   ]
  },
  {
   "cell_type": "code",
   "execution_count": 56,
   "metadata": {},
   "outputs": [
    {
     "name": "stdout",
     "output_type": "stream",
     "text": [
      "My name is Mike.\n"
     ]
    }
   ],
   "source": [
    "# listの文字を空白でつなげる\n",
    "x = ' '.join(to_split)\n",
    "print(x)"
   ]
  },
  {
   "cell_type": "code",
   "execution_count": 57,
   "metadata": {},
   "outputs": [
    {
     "name": "stdout",
     "output_type": "stream",
     "text": [
      "Help on class list in module builtins:\n",
      "\n",
      "class list(object)\n",
      " |  list(iterable=(), /)\n",
      " |  \n",
      " |  Built-in mutable sequence.\n",
      " |  \n",
      " |  If no argument is given, the constructor creates a new empty list.\n",
      " |  The argument must be an iterable if specified.\n",
      " |  \n",
      " |  Methods defined here:\n",
      " |  \n",
      " |  __add__(self, value, /)\n",
      " |      Return self+value.\n",
      " |  \n",
      " |  __contains__(self, key, /)\n",
      " |      Return key in self.\n",
      " |  \n",
      " |  __delitem__(self, key, /)\n",
      " |      Delete self[key].\n",
      " |  \n",
      " |  __eq__(self, value, /)\n",
      " |      Return self==value.\n",
      " |  \n",
      " |  __ge__(self, value, /)\n",
      " |      Return self>=value.\n",
      " |  \n",
      " |  __getattribute__(self, name, /)\n",
      " |      Return getattr(self, name).\n",
      " |  \n",
      " |  __getitem__(...)\n",
      " |      x.__getitem__(y) <==> x[y]\n",
      " |  \n",
      " |  __gt__(self, value, /)\n",
      " |      Return self>value.\n",
      " |  \n",
      " |  __iadd__(self, value, /)\n",
      " |      Implement self+=value.\n",
      " |  \n",
      " |  __imul__(self, value, /)\n",
      " |      Implement self*=value.\n",
      " |  \n",
      " |  __init__(self, /, *args, **kwargs)\n",
      " |      Initialize self.  See help(type(self)) for accurate signature.\n",
      " |  \n",
      " |  __iter__(self, /)\n",
      " |      Implement iter(self).\n",
      " |  \n",
      " |  __le__(self, value, /)\n",
      " |      Return self<=value.\n",
      " |  \n",
      " |  __len__(self, /)\n",
      " |      Return len(self).\n",
      " |  \n",
      " |  __lt__(self, value, /)\n",
      " |      Return self<value.\n",
      " |  \n",
      " |  __mul__(self, value, /)\n",
      " |      Return self*value.\n",
      " |  \n",
      " |  __ne__(self, value, /)\n",
      " |      Return self!=value.\n",
      " |  \n",
      " |  __repr__(self, /)\n",
      " |      Return repr(self).\n",
      " |  \n",
      " |  __reversed__(self, /)\n",
      " |      Return a reverse iterator over the list.\n",
      " |  \n",
      " |  __rmul__(self, value, /)\n",
      " |      Return value*self.\n",
      " |  \n",
      " |  __setitem__(self, key, value, /)\n",
      " |      Set self[key] to value.\n",
      " |  \n",
      " |  __sizeof__(self, /)\n",
      " |      Return the size of the list in memory, in bytes.\n",
      " |  \n",
      " |  append(self, object, /)\n",
      " |      Append object to the end of the list.\n",
      " |  \n",
      " |  clear(self, /)\n",
      " |      Remove all items from list.\n",
      " |  \n",
      " |  copy(self, /)\n",
      " |      Return a shallow copy of the list.\n",
      " |  \n",
      " |  count(self, value, /)\n",
      " |      Return number of occurrences of value.\n",
      " |  \n",
      " |  extend(self, iterable, /)\n",
      " |      Extend list by appending elements from the iterable.\n",
      " |  \n",
      " |  index(self, value, start=0, stop=9223372036854775807, /)\n",
      " |      Return first index of value.\n",
      " |      \n",
      " |      Raises ValueError if the value is not present.\n",
      " |  \n",
      " |  insert(self, index, object, /)\n",
      " |      Insert object before index.\n",
      " |  \n",
      " |  pop(self, index=-1, /)\n",
      " |      Remove and return item at index (default last).\n",
      " |      \n",
      " |      Raises IndexError if list is empty or index is out of range.\n",
      " |  \n",
      " |  remove(self, value, /)\n",
      " |      Remove first occurrence of value.\n",
      " |      \n",
      " |      Raises ValueError if the value is not present.\n",
      " |  \n",
      " |  reverse(self, /)\n",
      " |      Reverse *IN PLACE*.\n",
      " |  \n",
      " |  sort(self, /, *, key=None, reverse=False)\n",
      " |      Stable sort *IN PLACE*.\n",
      " |  \n",
      " |  ----------------------------------------------------------------------\n",
      " |  Static methods defined here:\n",
      " |  \n",
      " |  __new__(*args, **kwargs) from builtins.type\n",
      " |      Create and return a new object.  See help(type) for accurate signature.\n",
      " |  \n",
      " |  ----------------------------------------------------------------------\n",
      " |  Data and other attributes defined here:\n",
      " |  \n",
      " |  __hash__ = None\n",
      "\n",
      "None\n"
     ]
    }
   ],
   "source": [
    "# メソッドを確認したい場合はhelpを使う\n",
    "print(help(list))"
   ]
  },
  {
   "cell_type": "markdown",
   "metadata": {},
   "source": [
    "## 19.リストのコピー"
   ]
  },
  {
   "cell_type": "code",
   "execution_count": 58,
   "metadata": {},
   "outputs": [
    {
     "name": "stdout",
     "output_type": "stream",
     "text": [
      "i: [100, 2, 3, 4, 5]\n",
      "j: [100, 2, 3, 4, 5]\n"
     ]
    }
   ],
   "source": [
    "# リストのコピーは参照渡し\n",
    "i = [1,2,3,4,5]\n",
    "j = i\n",
    "j[0] = 100\n",
    "print('i:',i)\n",
    "print('j:',j)"
   ]
  },
  {
   "cell_type": "code",
   "execution_count": 59,
   "metadata": {},
   "outputs": [
    {
     "name": "stdout",
     "output_type": "stream",
     "text": [
      "x: [1, 2, 3, 4, 5]\n",
      "y: [100, 2, 3, 4, 5]\n"
     ]
    }
   ],
   "source": [
    "# コピーメソッドを使えば値渡し\n",
    "x = [1,2,3,4,5]\n",
    "y = x.copy()\n",
    "y[0] = 100\n",
    "print('x:', x)\n",
    "print('y:', y)"
   ]
  },
  {
   "cell_type": "code",
   "execution_count": 61,
   "metadata": {},
   "outputs": [
    {
     "name": "stdout",
     "output_type": "stream",
     "text": [
      "1802090355336\n",
      "1802089427016\n"
     ]
    }
   ],
   "source": [
    "# オブジェクトのid番号を調べる\n",
    "print(id(x))\n",
    "print(id(y))"
   ]
  },
  {
   "cell_type": "markdown",
   "metadata": {},
   "source": [
    "## 20.リストの使い所"
   ]
  },
  {
   "cell_type": "code",
   "execution_count": 2,
   "metadata": {},
   "outputs": [
    {
     "name": "stdout",
     "output_type": "stream",
     "text": [
      "append ok\n"
     ]
    },
    {
     "data": {
      "text/plain": [
       "'p'"
      ]
     },
     "execution_count": 2,
     "metadata": {},
     "output_type": "execute_result"
    }
   ],
   "source": [
    "# データの変動があるような物をリストに入れて使う\n",
    "seat = []\n",
    "min = 0\n",
    "max = 5\n",
    "if min <= len(seat) < max:\n",
    "    print('append ok')\n",
    "seat.append('p')\n",
    "seat.pop(0)"
   ]
  },
  {
   "cell_type": "markdown",
   "metadata": {},
   "source": [
    "## 21.タプル型"
   ]
  },
  {
   "cell_type": "code",
   "execution_count": 12,
   "metadata": {},
   "outputs": [],
   "source": [
    "# タプルは値の代入・削除が出来ない\n",
    "# 読み込み専用として使う\n",
    "t = (1,2,3,4,5)"
   ]
  },
  {
   "cell_type": "code",
   "execution_count": 13,
   "metadata": {},
   "outputs": [
    {
     "name": "stdout",
     "output_type": "stream",
     "text": [
      "1\n",
      "(3, 4, 5)\n",
      "0\n",
      "1\n"
     ]
    }
   ],
   "source": [
    "# listと同じスライスやメソッドが使える\n",
    "a = t[0]\n",
    "b = t[2:5]\n",
    "c = t.index(1)\n",
    "d = t.count(1)\n",
    "print(a)\n",
    "print(b)\n",
    "print(c)\n",
    "print(d)"
   ]
  },
  {
   "cell_type": "code",
   "execution_count": 14,
   "metadata": {},
   "outputs": [
    {
     "name": "stdout",
     "output_type": "stream",
     "text": [
      "([1, 2, 3], [4, 5, 6])\n"
     ]
    }
   ],
   "source": [
    "# タプル内にリストを入れる事が出来る\n",
    "t = ([1,2,3],[4,5,6])\n",
    "print(t)"
   ]
  },
  {
   "cell_type": "code",
   "execution_count": 16,
   "metadata": {},
   "outputs": [
    {
     "name": "stdout",
     "output_type": "stream",
     "text": [
      "([100, 2, 3], [4, 5, 6])\n"
     ]
    }
   ],
   "source": [
    "# タプル内にリストを書き換える事は出来る\n",
    "t[0][0] = 100\n",
    "print(t)"
   ]
  },
  {
   "cell_type": "code",
   "execution_count": 17,
   "metadata": {},
   "outputs": [
    {
     "name": "stdout",
     "output_type": "stream",
     "text": [
      "(1, 2, 3)\n"
     ]
    }
   ],
   "source": [
    "# カンマを入れた時点でタプルと認識\n",
    "t =1,2,3\n",
    "print(t)"
   ]
  },
  {
   "cell_type": "code",
   "execution_count": 18,
   "metadata": {},
   "outputs": [
    {
     "data": {
      "text/plain": [
       "(1, 2, 3, 4, 5, 6)"
      ]
     },
     "execution_count": 18,
     "metadata": {},
     "output_type": "execute_result"
    }
   ],
   "source": [
    "# タプル同士を＋ことは出来る\n",
    "(1,2,3)+(4,5,6)"
   ]
  },
  {
   "cell_type": "markdown",
   "metadata": {},
   "source": [
    "## 22.タプルのアンパッキング"
   ]
  },
  {
   "cell_type": "code",
   "execution_count": 19,
   "metadata": {},
   "outputs": [
    {
     "name": "stdout",
     "output_type": "stream",
     "text": [
      "10 20\n"
     ]
    }
   ],
   "source": [
    "# 変数宣言等に使う\n",
    "num_tuple = (10,20)\n",
    "x,y = num_tuple\n",
    "print(x,y)"
   ]
  },
  {
   "cell_type": "code",
   "execution_count": 21,
   "metadata": {},
   "outputs": [
    {
     "name": "stdout",
     "output_type": "stream",
     "text": [
      "200 100\n"
     ]
    }
   ],
   "source": [
    "# 変数の入れ替えを行う場合\n",
    "a=100\n",
    "b=200\n",
    "a,b = b,a\n",
    "print(a,b)"
   ]
  },
  {
   "cell_type": "markdown",
   "metadata": {},
   "source": [
    "## 24.辞書型"
   ]
  },
  {
   "cell_type": "code",
   "execution_count": 39,
   "metadata": {},
   "outputs": [
    {
     "data": {
      "text/plain": [
       "10"
      ]
     },
     "execution_count": 39,
     "metadata": {},
     "output_type": "execute_result"
    }
   ],
   "source": [
    "d = {'x':10,'y':20}\n",
    "d['x']"
   ]
  },
  {
   "cell_type": "code",
   "execution_count": 40,
   "metadata": {},
   "outputs": [
    {
     "data": {
      "text/plain": [
       "{'x': 100, 'y': 20}"
      ]
     },
     "execution_count": 40,
     "metadata": {},
     "output_type": "execute_result"
    }
   ],
   "source": [
    "#値を代入するには\n",
    "d['x'] = 100\n",
    "d"
   ]
  },
  {
   "cell_type": "code",
   "execution_count": 41,
   "metadata": {},
   "outputs": [
    {
     "data": {
      "text/plain": [
       "{'x': 100, 'y': 20, 'z': 200}"
      ]
     },
     "execution_count": 41,
     "metadata": {},
     "output_type": "execute_result"
    }
   ],
   "source": [
    "#値を追加するには\n",
    "d['z'] = 200\n",
    "d"
   ]
  },
  {
   "cell_type": "code",
   "execution_count": 42,
   "metadata": {},
   "outputs": [
    {
     "data": {
      "text/plain": [
       "{'x': 100, 'y': 20, 'z': 200, 1: 1000}"
      ]
     },
     "execution_count": 42,
     "metadata": {},
     "output_type": "execute_result"
    }
   ],
   "source": [
    "#キーは数値でもOK\n",
    "d[1] = 1000\n",
    "d"
   ]
  },
  {
   "cell_type": "markdown",
   "metadata": {},
   "source": [
    "## 25.辞書型のメソッド"
   ]
  },
  {
   "cell_type": "code",
   "execution_count": 24,
   "metadata": {},
   "outputs": [
    {
     "data": {
      "text/plain": [
       "dict_keys(['x', 'y'])"
      ]
     },
     "execution_count": 24,
     "metadata": {},
     "output_type": "execute_result"
    }
   ],
   "source": [
    "# キーだけ取り出したい場合\n",
    "d.keys()"
   ]
  },
  {
   "cell_type": "code",
   "execution_count": 25,
   "metadata": {},
   "outputs": [
    {
     "data": {
      "text/plain": [
       "dict_values([10, 20])"
      ]
     },
     "execution_count": 25,
     "metadata": {},
     "output_type": "execute_result"
    }
   ],
   "source": [
    "# 値だけ取り出したい場合\n",
    "d.values()"
   ]
  },
  {
   "cell_type": "code",
   "execution_count": 27,
   "metadata": {},
   "outputs": [
    {
     "name": "stdout",
     "output_type": "stream",
     "text": [
      "{'x': 1000, 'y': 20, 'j': 500}\n"
     ]
    }
   ],
   "source": [
    "# 今ある辞書を他の辞書でアップデートする場合\n",
    "d2 = {'x':1000,'j':500}\n",
    "d.update(d2)\n",
    "print(d)"
   ]
  },
  {
   "cell_type": "code",
   "execution_count": 28,
   "metadata": {},
   "outputs": [
    {
     "name": "stdout",
     "output_type": "stream",
     "text": [
      "1000 1000\n"
     ]
    }
   ],
   "source": [
    "# 値を取り出す方法\n",
    "# キーがない場合、d['x']はエラー、d.get('x')はNoneとなる\n",
    "a = d['x']\n",
    "b = d.get('x')\n",
    "print(a,b)"
   ]
  },
  {
   "cell_type": "code",
   "execution_count": 29,
   "metadata": {},
   "outputs": [
    {
     "data": {
      "text/plain": [
       "1000"
      ]
     },
     "execution_count": 29,
     "metadata": {},
     "output_type": "execute_result"
    }
   ],
   "source": [
    "# 辞書からデータを削除1\n",
    "d.pop('x')"
   ]
  },
  {
   "cell_type": "code",
   "execution_count": 30,
   "metadata": {},
   "outputs": [
    {
     "name": "stdout",
     "output_type": "stream",
     "text": [
      "{'j': 500}\n"
     ]
    }
   ],
   "source": [
    "# 辞書からデータを削除2\n",
    "del d['y']\n",
    "print(d)"
   ]
  },
  {
   "cell_type": "code",
   "execution_count": 32,
   "metadata": {},
   "outputs": [
    {
     "name": "stdout",
     "output_type": "stream",
     "text": [
      "{}\n"
     ]
    }
   ],
   "source": [
    "# 中身をクリアする方法\n",
    "d.clear()\n",
    "print(d)"
   ]
  },
  {
   "cell_type": "code",
   "execution_count": 33,
   "metadata": {},
   "outputs": [
    {
     "data": {
      "text/plain": [
       "True"
      ]
     },
     "execution_count": 33,
     "metadata": {},
     "output_type": "execute_result"
    }
   ],
   "source": [
    "# 辞書にキーが含まれているかの確認\n",
    "d = {'x':10,'y':20}\n",
    "'x' in d"
   ]
  },
  {
   "cell_type": "markdown",
   "metadata": {},
   "source": [
    "## 26.辞書型のコピー"
   ]
  },
  {
   "cell_type": "code",
   "execution_count": 35,
   "metadata": {},
   "outputs": [
    {
     "name": "stdout",
     "output_type": "stream",
     "text": [
      "{'a': 1000}\n"
     ]
    }
   ],
   "source": [
    "# 辞書は参照渡し\n",
    "x= {'a':1}\n",
    "y = x\n",
    "y['a'] = 1000\n",
    "print(x)"
   ]
  },
  {
   "cell_type": "code",
   "execution_count": 37,
   "metadata": {},
   "outputs": [
    {
     "name": "stdout",
     "output_type": "stream",
     "text": [
      "{'a': 1}\n",
      "{'a': 1000}\n"
     ]
    }
   ],
   "source": [
    "# 値渡しにする場合はcopyメソッドを使う\n",
    "x= {'a':1}\n",
    "y = x.copy()\n",
    "y['a'] =1000\n",
    "print(x)\n",
    "print(y)"
   ]
  },
  {
   "cell_type": "markdown",
   "metadata": {},
   "source": [
    "## 28.集合型"
   ]
  },
  {
   "cell_type": "code",
   "execution_count": 45,
   "metadata": {},
   "outputs": [
    {
     "name": "stdout",
     "output_type": "stream",
     "text": [
      "{1, 2, 3, 4, 5, 6}\n"
     ]
    }
   ],
   "source": [
    "# 集合は{}\n",
    "a = {1,2,2,3,4,4,4,5,6}\n",
    "print(a)"
   ]
  },
  {
   "cell_type": "code",
   "execution_count": 48,
   "metadata": {},
   "outputs": [
    {
     "name": "stdout",
     "output_type": "stream",
     "text": [
      "{2, 3, 6, 7}\n"
     ]
    },
    {
     "data": {
      "text/plain": [
       "{1, 4, 5}"
      ]
     },
     "execution_count": 48,
     "metadata": {},
     "output_type": "execute_result"
    }
   ],
   "source": [
    "b = {2,3,3,6,7}\n",
    "print(b)\n",
    "a-b"
   ]
  },
  {
   "cell_type": "code",
   "execution_count": 47,
   "metadata": {},
   "outputs": [
    {
     "data": {
      "text/plain": [
       "{7}"
      ]
     },
     "execution_count": 47,
     "metadata": {},
     "output_type": "execute_result"
    }
   ],
   "source": [
    "b - a "
   ]
  },
  {
   "cell_type": "code",
   "execution_count": 49,
   "metadata": {},
   "outputs": [
    {
     "data": {
      "text/plain": [
       "{2, 3, 6}"
      ]
     },
     "execution_count": 49,
     "metadata": {},
     "output_type": "execute_result"
    }
   ],
   "source": [
    "# aかつb\n",
    "a & b"
   ]
  },
  {
   "cell_type": "code",
   "execution_count": 50,
   "metadata": {},
   "outputs": [
    {
     "data": {
      "text/plain": [
       "{1, 2, 3, 4, 5, 6, 7}"
      ]
     },
     "execution_count": 50,
     "metadata": {},
     "output_type": "execute_result"
    }
   ],
   "source": [
    "# a 又は b\n",
    "a | b"
   ]
  },
  {
   "cell_type": "code",
   "execution_count": 51,
   "metadata": {},
   "outputs": [
    {
     "data": {
      "text/plain": [
       "{1, 4, 5, 7}"
      ]
     },
     "execution_count": 51,
     "metadata": {},
     "output_type": "execute_result"
    }
   ],
   "source": [
    "# aとbでどちらかにあり、重複してないもの\n",
    "a ^ b"
   ]
  },
  {
   "cell_type": "markdown",
   "metadata": {},
   "source": [
    "## 29.集合のメソッド"
   ]
  },
  {
   "cell_type": "code",
   "execution_count": 52,
   "metadata": {},
   "outputs": [],
   "source": [
    "# listと違いindexがない\n",
    "s= {1,2,3,4,5}\n",
    "# s[0]はNG"
   ]
  },
  {
   "cell_type": "code",
   "execution_count": 54,
   "metadata": {},
   "outputs": [
    {
     "name": "stdout",
     "output_type": "stream",
     "text": [
      "{1, 2, 3, 4, 5, 6}\n"
     ]
    }
   ],
   "source": [
    "# 集合に追加\n",
    "s.add(6)\n",
    "print(s)"
   ]
  },
  {
   "cell_type": "code",
   "execution_count": 55,
   "metadata": {},
   "outputs": [
    {
     "name": "stdout",
     "output_type": "stream",
     "text": [
      "{1, 2, 3, 4, 5}\n"
     ]
    }
   ],
   "source": [
    "# 集合から削除\n",
    "s.remove(6)\n",
    "print(s)"
   ]
  },
  {
   "cell_type": "code",
   "execution_count": 56,
   "metadata": {},
   "outputs": [
    {
     "name": "stdout",
     "output_type": "stream",
     "text": [
      "set()\n"
     ]
    }
   ],
   "source": [
    "# 中身のクリア\n",
    "s.clear()\n",
    "print(s)"
   ]
  },
  {
   "cell_type": "markdown",
   "metadata": {},
   "source": [
    "## 30.集合の使い所"
   ]
  },
  {
   "cell_type": "code",
   "execution_count": 57,
   "metadata": {},
   "outputs": [
    {
     "data": {
      "text/plain": [
       "{'aa', 'bb'}"
      ]
     },
     "execution_count": 57,
     "metadata": {},
     "output_type": "execute_result"
    }
   ],
   "source": [
    "# 共通点を見つける時に集合を使う\n",
    "# listからsetに型を変えると重複削除に使える\n",
    "f = ['aa','bb','aa','bb']\n",
    "set(f)"
   ]
  },
  {
   "cell_type": "markdown",
   "metadata": {},
   "source": [
    "# セクション5:制御フローとコード構造"
   ]
  },
  {
   "cell_type": "markdown",
   "metadata": {},
   "source": [
    "## 31.コメント"
   ]
  },
  {
   "cell_type": "code",
   "execution_count": 63,
   "metadata": {},
   "outputs": [
    {
     "data": {
      "text/plain": [
       "'\\nこれで\\n複数\\nコメント\\n'"
      ]
     },
     "execution_count": 63,
     "metadata": {},
     "output_type": "execute_result"
    }
   ],
   "source": [
    "#を入れるとコメント\n",
    "\"\"\"\n",
    "これで\n",
    "複数\n",
    "コメント\n",
    "\"\"\"\n",
    "# 変数に対するコメントは上に書く"
   ]
  },
  {
   "cell_type": "markdown",
   "metadata": {},
   "source": [
    "## 32.　1行が長くなる時"
   ]
  },
  {
   "cell_type": "code",
   "execution_count": 68,
   "metadata": {},
   "outputs": [
    {
     "name": "stdout",
     "output_type": "stream",
     "text": [
      "aaaaaaaaaaabbbbbbbbb\n"
     ]
    }
   ],
   "source": [
    "# 改行する時にバックスラッシュ\\を入れる\n",
    "s = \"aaaaaaaaaaa\" \\\n",
    "    + \"bbbbbbbbb\"\n",
    "print(s)"
   ]
  },
  {
   "cell_type": "code",
   "execution_count": 70,
   "metadata": {},
   "outputs": [],
   "source": [
    "# 長い場合は()でもOK\n",
    "s = (\"aaaaaaaaaaa\"\n",
    "     + \"bbbbbbbbb\")"
   ]
  },
  {
   "cell_type": "markdown",
   "metadata": {},
   "source": [
    "## 33. if文"
   ]
  },
  {
   "cell_type": "code",
   "execution_count": 71,
   "metadata": {},
   "outputs": [
    {
     "name": "stdout",
     "output_type": "stream",
     "text": [
      "negative\n"
     ]
    }
   ],
   "source": [
    "# if文1回\n",
    "x = -10\n",
    "if x < 0:\n",
    "    print('negative')"
   ]
  },
  {
   "cell_type": "code",
   "execution_count": 72,
   "metadata": {},
   "outputs": [
    {
     "name": "stdout",
     "output_type": "stream",
     "text": [
      "positive\n"
     ]
    }
   ],
   "source": [
    "# if文2回\n",
    "x = 10\n",
    "if x < 0:\n",
    "    print('negative')\n",
    "else:\n",
    "     print('positive')"
   ]
  },
  {
   "cell_type": "code",
   "execution_count": 73,
   "metadata": {},
   "outputs": [
    {
     "name": "stdout",
     "output_type": "stream",
     "text": [
      "zero\n"
     ]
    }
   ],
   "source": [
    "# if文複数回\n",
    "x = 0\n",
    "if x < 0:\n",
    "    print('negative')\n",
    "elif x == 0:\n",
    "    print('zero')  \n",
    "elif x == 10:\n",
    "    print('10')   \n",
    "else:\n",
    "    print('positive')"
   ]
  },
  {
   "cell_type": "code",
   "execution_count": 74,
   "metadata": {},
   "outputs": [
    {
     "name": "stdout",
     "output_type": "stream",
     "text": [
      "a is positive\n",
      "b is positive\n"
     ]
    }
   ],
   "source": [
    "# if文のネスト\n",
    "a = 5\n",
    "b = 10\n",
    "if a > 0:\n",
    "    print('a is positive')\n",
    "    if b > 0:\n",
    "        print('b is positive')"
   ]
  },
  {
   "cell_type": "markdown",
   "metadata": {},
   "source": [
    "## 35. 比較演算子と論理演算子"
   ]
  },
  {
   "cell_type": "code",
   "execution_count": 77,
   "metadata": {},
   "outputs": [],
   "source": [
    "a = 1\n",
    "b = 1"
   ]
  },
  {
   "cell_type": "code",
   "execution_count": 78,
   "metadata": {},
   "outputs": [
    {
     "data": {
      "text/plain": [
       "True"
      ]
     },
     "execution_count": 78,
     "metadata": {},
     "output_type": "execute_result"
    }
   ],
   "source": [
    "# aがbと等しい\n",
    "a == b"
   ]
  },
  {
   "cell_type": "code",
   "execution_count": 79,
   "metadata": {},
   "outputs": [
    {
     "data": {
      "text/plain": [
       "False"
      ]
     },
     "execution_count": 79,
     "metadata": {},
     "output_type": "execute_result"
    }
   ],
   "source": [
    "# aがｂと異なる\n",
    "a != b"
   ]
  },
  {
   "cell_type": "code",
   "execution_count": 80,
   "metadata": {},
   "outputs": [
    {
     "data": {
      "text/plain": [
       "False"
      ]
     },
     "execution_count": 80,
     "metadata": {},
     "output_type": "execute_result"
    }
   ],
   "source": [
    "#a が bよりも小さい\n",
    "a < b"
   ]
  },
  {
   "cell_type": "code",
   "execution_count": 81,
   "metadata": {},
   "outputs": [
    {
     "data": {
      "text/plain": [
       "False"
      ]
     },
     "execution_count": 81,
     "metadata": {},
     "output_type": "execute_result"
    }
   ],
   "source": [
    "#a が bよりも大きい\n",
    "a > b"
   ]
  },
  {
   "cell_type": "code",
   "execution_count": 82,
   "metadata": {},
   "outputs": [
    {
     "data": {
      "text/plain": [
       "True"
      ]
     },
     "execution_count": 82,
     "metadata": {},
     "output_type": "execute_result"
    }
   ],
   "source": [
    "#a が b以下である\n",
    "a <= b"
   ]
  },
  {
   "cell_type": "code",
   "execution_count": 83,
   "metadata": {},
   "outputs": [
    {
     "data": {
      "text/plain": [
       "True"
      ]
     },
     "execution_count": 83,
     "metadata": {},
     "output_type": "execute_result"
    }
   ],
   "source": [
    "#a が b以上である\n",
    "a >= b"
   ]
  },
  {
   "cell_type": "code",
   "execution_count": 84,
   "metadata": {},
   "outputs": [
    {
     "data": {
      "text/plain": [
       "True"
      ]
     },
     "execution_count": 84,
     "metadata": {},
     "output_type": "execute_result"
    }
   ],
   "source": [
    "#a も bも真であれば真\n",
    "a > 0 and b > 0"
   ]
  },
  {
   "cell_type": "code",
   "execution_count": 85,
   "metadata": {},
   "outputs": [
    {
     "data": {
      "text/plain": [
       "True"
      ]
     },
     "execution_count": 85,
     "metadata": {},
     "output_type": "execute_result"
    }
   ],
   "source": [
    "#a 又は bが真であれば真\n",
    "a > 0 or b > 0"
   ]
  },
  {
   "cell_type": "markdown",
   "metadata": {},
   "source": [
    "## 36. INとNOTの使い所"
   ]
  },
  {
   "cell_type": "code",
   "execution_count": 86,
   "metadata": {},
   "outputs": [
    {
     "name": "stdout",
     "output_type": "stream",
     "text": [
      "in\n"
     ]
    }
   ],
   "source": [
    "y = [1,2,3]\n",
    "x = 1\n",
    "\n",
    "# xがyの中に入っているか？\n",
    "if x in y:\n",
    "    print('in')"
   ]
  },
  {
   "cell_type": "code",
   "execution_count": 88,
   "metadata": {},
   "outputs": [
    {
     "name": "stdout",
     "output_type": "stream",
     "text": [
      "not in\n"
     ]
    }
   ],
   "source": [
    "# 100がyの中に入っていないか？\n",
    "if 100 not in y:\n",
    "    print('not in') "
   ]
  },
  {
   "cell_type": "code",
   "execution_count": 90,
   "metadata": {},
   "outputs": [
    {
     "name": "stdout",
     "output_type": "stream",
     "text": [
      "OK\n"
     ]
    }
   ],
   "source": [
    "# PythonではTrueの場合if is_ok == Tureとする必要なし\n",
    "is_ok = True\n",
    "if is_ok:\n",
    "    print('OK')"
   ]
  },
  {
   "cell_type": "code",
   "execution_count": 91,
   "metadata": {},
   "outputs": [],
   "source": [
    "# Boolen型を否定するときにnotを使う\n",
    "if not is_ok:\n",
    "    print('OH_NO')"
   ]
  },
  {
   "cell_type": "markdown",
   "metadata": {},
   "source": [
    "## 37. 値が入っていない判定をするテクニック"
   ]
  },
  {
   "cell_type": "code",
   "execution_count": 94,
   "metadata": {},
   "outputs": [
    {
     "data": {
      "text/plain": [
       "\"\\n変数に値が入っていると、Trueと判定する,文字列,リストでもいい\\n数が空かどうかを判定する時に使える\\nFalseは0,0.0,'',[],,(),{},set()\\n\""
      ]
     },
     "execution_count": 94,
     "metadata": {},
     "output_type": "execute_result"
    }
   ],
   "source": [
    "\"\"\"\n",
    "変数に値が入っていると、Trueと判定する,文字列,リストでもいい\n",
    "数が空かどうかを判定する時に使える\n",
    "Falseは0,0.0,'',[],,(),{},set()\n",
    "\"\"\""
   ]
  },
  {
   "cell_type": "code",
   "execution_count": 93,
   "metadata": {},
   "outputs": [
    {
     "name": "stdout",
     "output_type": "stream",
     "text": [
      "100\n"
     ]
    }
   ],
   "source": [
    "is_ok = 100\n",
    "if is_ok:\n",
    "    print('100')\n",
    "else:\n",
    "    print('No')  "
   ]
  },
  {
   "cell_type": "code",
   "execution_count": 95,
   "metadata": {},
   "outputs": [
    {
     "name": "stdout",
     "output_type": "stream",
     "text": [
      "OK\n"
     ]
    }
   ],
   "source": [
    "is_ok = [1,2,3,4,5]\n",
    "if is_ok:\n",
    "    print('OK') "
   ]
  },
  {
   "cell_type": "markdown",
   "metadata": {},
   "source": [
    "## 38. Noneを判定する場合"
   ]
  },
  {
   "cell_type": "code",
   "execution_count": 96,
   "metadata": {},
   "outputs": [],
   "source": [
    "# Pythonでは何も値が入っていないのはNoneとなる  nullオブジェクト\n",
    "# 変数宣言はするが何も入れたくない場合に使う\n",
    "is_empty = None"
   ]
  },
  {
   "cell_type": "code",
   "execution_count": 97,
   "metadata": {},
   "outputs": [
    {
     "name": "stdout",
     "output_type": "stream",
     "text": [
      "None\n"
     ]
    }
   ],
   "source": [
    "# Pythonでは=でNoneの判定はおすすめしない  \n",
    "if is_empty == None:\n",
    "    print('None')"
   ]
  },
  {
   "cell_type": "code",
   "execution_count": 98,
   "metadata": {},
   "outputs": [
    {
     "name": "stdout",
     "output_type": "stream",
     "text": [
      "None!!\n"
     ]
    }
   ],
   "source": [
    "# Noneの判定はisを使う\n",
    "if is_empty is None:\n",
    "    print('None!!')"
   ]
  },
  {
   "cell_type": "markdown",
   "metadata": {},
   "source": [
    "## 39. while文とcontinue文とbreak文"
   ]
  },
  {
   "cell_type": "code",
   "execution_count": 1,
   "metadata": {},
   "outputs": [
    {
     "name": "stdout",
     "output_type": "stream",
     "text": [
      "0\n",
      "1\n",
      "2\n",
      "3\n",
      "4\n"
     ]
    }
   ],
   "source": [
    "# while\n",
    "count = 0\n",
    "while count < 5:\n",
    "    print(count)\n",
    "    count += 1"
   ]
  },
  {
   "cell_type": "code",
   "execution_count": 2,
   "metadata": {},
   "outputs": [
    {
     "name": "stdout",
     "output_type": "stream",
     "text": [
      "0\n",
      "1\n",
      "2\n",
      "3\n",
      "4\n",
      "5\n"
     ]
    }
   ],
   "source": [
    "# break文\n",
    "# 条件が整ったらwhile文を抜ける\n",
    "count = 0\n",
    "while True:\n",
    "    if count > 5:\n",
    "        break\n",
    "    print(count)\n",
    "    count += 1"
   ]
  },
  {
   "cell_type": "code",
   "execution_count": 5,
   "metadata": {},
   "outputs": [
    {
     "name": "stdout",
     "output_type": "stream",
     "text": [
      "0\n",
      "1\n",
      "3\n",
      "4\n",
      "5\n"
     ]
    }
   ],
   "source": [
    "# coutinue文\n",
    "# 条件が整ったら下の文をスキップして次のwhileに移る \n",
    "count = 0\n",
    "while True:\n",
    "    if count > 5:\n",
    "        break\n",
    "        \n",
    "    if count == 2:\n",
    "        count +=1\n",
    "        continue\n",
    "        \n",
    "    print(count)\n",
    "    count +=1"
   ]
  },
  {
   "cell_type": "markdown",
   "metadata": {},
   "source": [
    "## 40. while else文"
   ]
  },
  {
   "cell_type": "code",
   "execution_count": 1,
   "metadata": {},
   "outputs": [
    {
     "name": "stdout",
     "output_type": "stream",
     "text": [
      "0\n",
      "1\n",
      "2\n",
      "3\n",
      "4\n",
      "done\n"
     ]
    }
   ],
   "source": [
    "# while文の条件に合わなかった時に実行される\n",
    "# while-break文でbreakで抜けなければelseが実行される\n",
    "\n",
    "count = 0\n",
    "while count < 5:\n",
    "    print(count)\n",
    "    count +=1\n",
    "else:\n",
    "    print('done')"
   ]
  },
  {
   "cell_type": "code",
   "execution_count": null,
   "metadata": {},
   "outputs": [
    {
     "name": "stdout",
     "output_type": "stream",
     "text": [
      "0\n",
      "1\n",
      "2\n",
      "3\n",
      "4\n"
     ]
    }
   ],
   "source": [
    "count = 0\n",
    "while True:\n",
    "    if count < 5:\n",
    "        print(count)\n",
    "        count +=1\n",
    "else:\n",
    "    print('done')"
   ]
  },
  {
   "cell_type": "markdown",
   "metadata": {},
   "source": [
    "## 41. input文"
   ]
  },
  {
   "cell_type": "code",
   "execution_count": 1,
   "metadata": {},
   "outputs": [
    {
     "name": "stdin",
     "output_type": "stream",
     "text": [
      "Enter: y\n"
     ]
    },
    {
     "name": "stdout",
     "output_type": "stream",
     "text": [
      "next\n"
     ]
    },
    {
     "name": "stdin",
     "output_type": "stream",
     "text": [
      "Enter: ok\n"
     ]
    }
   ],
   "source": [
    "while True:\n",
    "    word = input('Enter:')\n",
    "    if word == 'ok':\n",
    "        break\n",
    "    print('next')    "
   ]
  },
  {
   "cell_type": "markdown",
   "metadata": {},
   "source": [
    "## 42. for文とbreak文とcontiune文"
   ]
  },
  {
   "cell_type": "code",
   "execution_count": 1,
   "metadata": {},
   "outputs": [
    {
     "name": "stdout",
     "output_type": "stream",
     "text": [
      "1\n",
      "2\n",
      "3\n",
      "4\n",
      "5\n"
     ]
    }
   ],
   "source": [
    "some_list = [1,2,3,4,5]\n",
    "i = 0\n",
    "while i < len(some_list):\n",
    "    print(some_list[i])\n",
    "    i +=1"
   ]
  },
  {
   "cell_type": "code",
   "execution_count": 4,
   "metadata": {},
   "outputs": [
    {
     "name": "stdout",
     "output_type": "stream",
     "text": [
      "1\n",
      "2\n",
      "3\n",
      "4\n",
      "5\n"
     ]
    }
   ],
   "source": [
    "# for文で上記と同じ処理をする\n",
    "for i in some_list:\n",
    "    print(i)"
   ]
  },
  {
   "cell_type": "code",
   "execution_count": 5,
   "metadata": {},
   "outputs": [
    {
     "name": "stdout",
     "output_type": "stream",
     "text": [
      "a\n",
      "b\n",
      "c\n",
      "d\n",
      "e\n"
     ]
    }
   ],
   "source": [
    "# 反復処理をイテレータ\n",
    "for s in 'abcde':\n",
    "    print(s)"
   ]
  },
  {
   "cell_type": "code",
   "execution_count": 6,
   "metadata": {},
   "outputs": [
    {
     "name": "stdout",
     "output_type": "stream",
     "text": [
      "My\n"
     ]
    }
   ],
   "source": [
    "# break文をつかった場合\n",
    "for word in ['My', 'name', 'is', 'Mike']:\n",
    "    if word == 'name':\n",
    "        break\n",
    "    print(word)    "
   ]
  },
  {
   "cell_type": "code",
   "execution_count": 7,
   "metadata": {},
   "outputs": [
    {
     "name": "stdout",
     "output_type": "stream",
     "text": [
      "My\n",
      "is\n",
      "Mike\n"
     ]
    }
   ],
   "source": [
    "# continue文も使える\n",
    "for word in ['My', 'name', 'is', 'Mike']:\n",
    "    if word == 'name':\n",
    "        continue\n",
    "    print(word)        \n",
    "\n"
   ]
  },
  {
   "cell_type": "markdown",
   "metadata": {},
   "source": [
    "## 43. for else文"
   ]
  },
  {
   "cell_type": "code",
   "execution_count": 8,
   "metadata": {},
   "outputs": [
    {
     "name": "stdout",
     "output_type": "stream",
     "text": [
      "apple\n",
      "banana\n",
      "orange\n",
      "I ate all!\n"
     ]
    }
   ],
   "source": [
    "# for文が終了したらelseが実行される\n",
    "for fruit in ['apple', 'banana', 'orange']:\n",
    "    print(fruit)\n",
    "else:\n",
    "    print('I ate all!')"
   ]
  },
  {
   "cell_type": "code",
   "execution_count": 9,
   "metadata": {},
   "outputs": [
    {
     "name": "stdout",
     "output_type": "stream",
     "text": [
      "apple\n",
      "stop eating\n"
     ]
    }
   ],
   "source": [
    "# for-break文でbreakで抜けなければelseが実行される\n",
    "for fruit in ['apple', 'banana', 'orange']:\n",
    "    if fruit == 'banana':\n",
    "        print('stop eating')\n",
    "        break\n",
    "    print(fruit)\n",
    "else:\n",
    "    print('I ate all!')"
   ]
  },
  {
   "cell_type": "markdown",
   "metadata": {},
   "source": [
    "## 44. range関数"
   ]
  },
  {
   "cell_type": "code",
   "execution_count": 10,
   "metadata": {},
   "outputs": [
    {
     "name": "stdout",
     "output_type": "stream",
     "text": [
      "0\n",
      "1\n",
      "2\n",
      "3\n",
      "4\n",
      "5\n",
      "6\n",
      "7\n",
      "8\n",
      "9\n"
     ]
    }
   ],
   "source": [
    "for i in range(10):\n",
    "    print(i)"
   ]
  },
  {
   "cell_type": "code",
   "execution_count": 11,
   "metadata": {},
   "outputs": [
    {
     "name": "stdout",
     "output_type": "stream",
     "text": [
      "2\n",
      "3\n",
      "4\n",
      "5\n",
      "6\n",
      "7\n",
      "8\n",
      "9\n"
     ]
    }
   ],
   "source": [
    "# 2から始める場合\n",
    "for i in range(2,10):\n",
    "    print(i)"
   ]
  },
  {
   "cell_type": "code",
   "execution_count": 12,
   "metadata": {},
   "outputs": [
    {
     "name": "stdout",
     "output_type": "stream",
     "text": [
      "2\n",
      "5\n",
      "8\n"
     ]
    }
   ],
   "source": [
    "# 3個飛ばしの場合\n",
    "for i in range(2,10,3):\n",
    "    print(i)"
   ]
  },
  {
   "cell_type": "code",
   "execution_count": 13,
   "metadata": {},
   "outputs": [
    {
     "name": "stdout",
     "output_type": "stream",
     "text": [
      "hello\n",
      "hello\n",
      "hello\n",
      "hello\n",
      "hello\n",
      "hello\n",
      "hello\n",
      "hello\n",
      "hello\n",
      "hello\n"
     ]
    }
   ],
   "source": [
    "# 10回分なにか処理をしたい場合\n",
    "for i in range(10):\n",
    "    print('hello')"
   ]
  },
  {
   "cell_type": "code",
   "execution_count": 14,
   "metadata": {},
   "outputs": [
    {
     "name": "stdout",
     "output_type": "stream",
     "text": [
      "good\n",
      "good\n",
      "good\n",
      "good\n",
      "good\n",
      "good\n",
      "good\n",
      "good\n",
      "good\n",
      "good\n"
     ]
    }
   ],
   "source": [
    "# App開発などで、iが必要ない場合は、明示的に_とする\n",
    "for _ in range(10):\n",
    "    print('good')"
   ]
  },
  {
   "cell_type": "markdown",
   "metadata": {},
   "source": [
    "## 45. enumerate関数"
   ]
  },
  {
   "cell_type": "code",
   "execution_count": 15,
   "metadata": {},
   "outputs": [
    {
     "name": "stdout",
     "output_type": "stream",
     "text": [
      "0 apple\n",
      "1 banana\n",
      "2 orange\n"
     ]
    }
   ],
   "source": [
    "# indexの番号を表示するときに使用する\n",
    "\n",
    "for i,fruit in enumerate(['apple', 'banana', 'orange']):\n",
    "    print(i, fruit)"
   ]
  },
  {
   "cell_type": "code",
   "execution_count": 16,
   "metadata": {},
   "outputs": [
    {
     "name": "stdout",
     "output_type": "stream",
     "text": [
      "0 apple\n",
      "1 banana\n",
      "2 orange\n"
     ]
    }
   ],
   "source": [
    "# enumerateを使わない場合\n",
    "i = 0\n",
    "for fruit in ['apple', 'banana', 'orange']:\n",
    "    print(i,fruit)\n",
    "    i +=1"
   ]
  },
  {
   "cell_type": "code",
   "execution_count": 21,
   "metadata": {},
   "outputs": [
    {
     "name": "stdout",
     "output_type": "stream",
     "text": [
      "x: <enumerate object at 0x0000019E2F9213B8>\n",
      "y: {0: 'apple', 1: 'banana', 2: 'orange'}\n"
     ]
    }
   ],
   "source": [
    "# enumerateで辞書を作る\n",
    "x = enumerate(['apple','banana', 'orange'])\n",
    "print('x:',x)\n",
    "y = dict(x)\n",
    "print('y:',y)"
   ]
  },
  {
   "cell_type": "markdown",
   "metadata": {},
   "source": [
    "## 46.zip関数"
   ]
  },
  {
   "cell_type": "code",
   "execution_count": 22,
   "metadata": {},
   "outputs": [
    {
     "name": "stdout",
     "output_type": "stream",
     "text": [
      "Mon apple coffee\n",
      "Tue banana tea\n",
      "Wed orange beer\n"
     ]
    }
   ],
   "source": [
    "days = ['Mon', 'Tue', 'Wed']\n",
    "fruits = ['apple', 'banana', 'orange']\n",
    "drinks = ['coffee', 'tea', 'beer']\n",
    "\n",
    "for i in range(len(days)):\n",
    "    print(days[i], fruits[i], drinks[i])"
   ]
  },
  {
   "cell_type": "code",
   "execution_count": 23,
   "metadata": {},
   "outputs": [
    {
     "name": "stdout",
     "output_type": "stream",
     "text": [
      "Mon apple coffee\n",
      "Tue banana tea\n",
      "Wed orange beer\n"
     ]
    }
   ],
   "source": [
    "# zip関数の場合\n",
    "for day, fruit, drink in zip(days, fruits, drinks):\n",
    "    print(day, fruit, drink)"
   ]
  },
  {
   "cell_type": "markdown",
   "metadata": {},
   "source": [
    "## 47. 辞書をfor文で処理をする"
   ]
  },
  {
   "cell_type": "code",
   "execution_count": 24,
   "metadata": {},
   "outputs": [
    {
     "name": "stdout",
     "output_type": "stream",
     "text": [
      "x\n",
      "y\n"
     ]
    }
   ],
   "source": [
    "d = {'x':100, 'y': 200}\n",
    "\n",
    "for v in d:\n",
    "    print(v)"
   ]
  },
  {
   "cell_type": "code",
   "execution_count": 26,
   "metadata": {},
   "outputs": [
    {
     "name": "stdout",
     "output_type": "stream",
     "text": [
      "dict_items([('x', 100), ('y', 200)])\n",
      "x : 100\n",
      "y : 200\n"
     ]
    }
   ],
   "source": [
    "print(d.items())\n",
    "for k, v in d.items():\n",
    "    print(k,':',v)"
   ]
  },
  {
   "cell_type": "markdown",
   "metadata": {},
   "source": [
    "## 48. 関数の作り方"
   ]
  },
  {
   "cell_type": "code",
   "execution_count": 27,
   "metadata": {},
   "outputs": [
    {
     "name": "stdout",
     "output_type": "stream",
     "text": [
      "hi\n"
     ]
    }
   ],
   "source": [
    "def say_something():\n",
    "    print('hi')\n",
    "    \n",
    "say_something()    "
   ]
  },
  {
   "cell_type": "code",
   "execution_count": 29,
   "metadata": {},
   "outputs": [
    {
     "name": "stdout",
     "output_type": "stream",
     "text": [
      "<function say_something at 0x0000019E2F900708>\n",
      "hi\n"
     ]
    }
   ],
   "source": [
    "f = say_something\n",
    "print(f)\n",
    "f()"
   ]
  },
  {
   "cell_type": "code",
   "execution_count": 30,
   "metadata": {},
   "outputs": [
    {
     "name": "stdout",
     "output_type": "stream",
     "text": [
      "hii\n"
     ]
    }
   ],
   "source": [
    "# 関数を呼び出した時、何か返す場合\n",
    "def say_something2():\n",
    "    s = 'hii'\n",
    "    return s\n",
    "\n",
    "result = say_something2()\n",
    "print(result)"
   ]
  },
  {
   "cell_type": "code",
   "execution_count": 31,
   "metadata": {},
   "outputs": [
    {
     "name": "stdout",
     "output_type": "stream",
     "text": [
      "red\n"
     ]
    }
   ],
   "source": [
    "# 引数を使う場合\n",
    "def what_is_this(color):\n",
    "    print(color)\n",
    "    \n",
    "what_is_this('red')    "
   ]
  },
  {
   "cell_type": "code",
   "execution_count": 32,
   "metadata": {},
   "outputs": [
    {
     "data": {
      "text/plain": [
       "'green pepper'"
      ]
     },
     "execution_count": 32,
     "metadata": {},
     "output_type": "execute_result"
    }
   ],
   "source": [
    "def what_is_this2(color):\n",
    "    if color == 'red':\n",
    "        return 'tomato'\n",
    "    elif color == 'green':\n",
    "        return 'green pepper'\n",
    "    else:\n",
    "        return \"I don't know\"\n",
    "    \n",
    "what_is_this2('green')    "
   ]
  },
  {
   "cell_type": "markdown",
   "metadata": {},
   "source": [
    "## 50. 位置引数とキーワード引数とデフォルト引数"
   ]
  },
  {
   "cell_type": "code",
   "execution_count": 33,
   "metadata": {},
   "outputs": [
    {
     "name": "stdout",
     "output_type": "stream",
     "text": [
      "beef\n",
      "beer\n",
      "ice\n"
     ]
    }
   ],
   "source": [
    "def menu(entree,drink,dessert):\n",
    "    print(entree)\n",
    "    print(drink)\n",
    "    print(dessert)\n",
    "    \n",
    "# 順番を間違えるとNG    \n",
    "menu('beef','beer','ice')    "
   ]
  },
  {
   "cell_type": "code",
   "execution_count": 34,
   "metadata": {},
   "outputs": [
    {
     "name": "stdout",
     "output_type": "stream",
     "text": [
      "beef\n",
      "beer\n",
      "ice\n"
     ]
    }
   ],
   "source": [
    "# キーワードアーギュメント\n",
    "menu(drink='beer', dessert= 'ice', entree = 'beef')"
   ]
  },
  {
   "cell_type": "code",
   "execution_count": 35,
   "metadata": {},
   "outputs": [
    {
     "name": "stdout",
     "output_type": "stream",
     "text": [
      "beef\n",
      "wine\n",
      "ice\n"
     ]
    }
   ],
   "source": [
    "# デフォルト引数\n",
    "def menu(entree='beef', drink= 'wine', dessert= 'ice'):\n",
    "    print(entree)\n",
    "    print(drink)\n",
    "    print(dessert)\n",
    "    \n",
    "menu()    "
   ]
  },
  {
   "cell_type": "code",
   "execution_count": 36,
   "metadata": {},
   "outputs": [
    {
     "name": "stdout",
     "output_type": "stream",
     "text": [
      "chicken\n",
      "wine\n",
      "ice\n"
     ]
    }
   ],
   "source": [
    "menu(entree = 'chicken')"
   ]
  },
  {
   "cell_type": "markdown",
   "metadata": {},
   "source": [
    "## 51. デフォルト引数で気をつけること"
   ]
  },
  {
   "cell_type": "code",
   "execution_count": 37,
   "metadata": {},
   "outputs": [
    {
     "name": "stdout",
     "output_type": "stream",
     "text": [
      "[100]\n"
     ]
    }
   ],
   "source": [
    "def test_func(x, l= []):\n",
    "    l.append(x)\n",
    "    return l\n",
    "\n",
    "r = test_func(100)\n",
    "print(r)"
   ]
  },
  {
   "cell_type": "code",
   "execution_count": 38,
   "metadata": {},
   "outputs": [
    {
     "name": "stdout",
     "output_type": "stream",
     "text": [
      "[100, 100]\n"
     ]
    }
   ],
   "source": [
    "# listや辞書は参照渡しなので引数のlistに追加される\n",
    "r = test_func(100)\n",
    "print(r)"
   ]
  },
  {
   "cell_type": "code",
   "execution_count": 42,
   "metadata": {},
   "outputs": [
    {
     "name": "stdout",
     "output_type": "stream",
     "text": [
      "r: [2]\n",
      "r2: [100]\n",
      "r3: [1, 2, 5]\n"
     ]
    }
   ],
   "source": [
    "# 解決方法\n",
    "def test_func(x, l = None):\n",
    "    if l is None:\n",
    "        l = []\n",
    "    l.append(x)\n",
    "    return l\n",
    "\n",
    "r = test_func(2)\n",
    "print('r:',r)\n",
    "r2 = test_func(100)\n",
    "print('r2:', r2)\n",
    "\n",
    "r3 = test_func(5,[1,2])\n",
    "print('r3:', r3)"
   ]
  },
  {
   "cell_type": "markdown",
   "metadata": {},
   "source": [
    "## 52. 位置引数のタプル化"
   ]
  },
  {
   "cell_type": "code",
   "execution_count": 43,
   "metadata": {},
   "outputs": [
    {
     "name": "stdout",
     "output_type": "stream",
     "text": [
      "('Hi', 'Mike', 'Nance')\n"
     ]
    }
   ],
   "source": [
    "def say_something(*args):\n",
    "    print(args)\n",
    "\n",
    "# まとめてタプルに入れてくれる    \n",
    "say_something('Hi', 'Mike', 'Nance')    "
   ]
  },
  {
   "cell_type": "code",
   "execution_count": 44,
   "metadata": {},
   "outputs": [
    {
     "name": "stdout",
     "output_type": "stream",
     "text": [
      "Hi\n",
      "Mike\n",
      "Nance\n"
     ]
    }
   ],
   "source": [
    "def say_something(*args):\n",
    "    for arg in args:\n",
    "        print(arg)\n",
    "        \n",
    "say_something('Hi', 'Mike', 'Nance')        "
   ]
  },
  {
   "cell_type": "code",
   "execution_count": 45,
   "metadata": {},
   "outputs": [
    {
     "name": "stdout",
     "output_type": "stream",
     "text": [
      "word= Hi\n",
      "Mike\n",
      "Nance\n"
     ]
    }
   ],
   "source": [
    "# 位置引数も使える\n",
    "def say_something(word, *args):\n",
    "    print('word=', word)\n",
    "    for arg in args:\n",
    "        print(arg)\n",
    "\n",
    "say_something('Hi', 'Mike', 'Nance')       "
   ]
  },
  {
   "cell_type": "code",
   "execution_count": 46,
   "metadata": {},
   "outputs": [
    {
     "name": "stdout",
     "output_type": "stream",
     "text": [
      "word= Hi\n",
      "Mike\n",
      "Nancy\n"
     ]
    }
   ],
   "source": [
    "# 入力側でタプルにしても同じ結果となる(※最近はあまり使われない)\n",
    "t = ('Mike','Nancy')\n",
    "say_something('Hi', *t)"
   ]
  },
  {
   "cell_type": "markdown",
   "metadata": {},
   "source": [
    "## 53. キーワード引数の辞書化"
   ]
  },
  {
   "cell_type": "code",
   "execution_count": 47,
   "metadata": {},
   "outputs": [
    {
     "name": "stdout",
     "output_type": "stream",
     "text": [
      "{'entree': 'beef', 'drink': 'coffee'}\n"
     ]
    }
   ],
   "source": [
    "def menu(**kwargs):\n",
    "    print(kwargs)\n",
    "    \n",
    "menu(entree = 'beef', drink = 'coffee')    "
   ]
  },
  {
   "cell_type": "code",
   "execution_count": 48,
   "metadata": {},
   "outputs": [
    {
     "name": "stdout",
     "output_type": "stream",
     "text": [
      "entree beef\n",
      "drink coffee\n"
     ]
    }
   ],
   "source": [
    "def menu(**kwargs):\n",
    "    for k,v in kwargs.items():\n",
    "        print(k,v)\n",
    "        \n",
    "menu(entree = 'beef', drink = 'coffee')        "
   ]
  },
  {
   "cell_type": "code",
   "execution_count": 49,
   "metadata": {},
   "outputs": [
    {
     "name": "stdout",
     "output_type": "stream",
     "text": [
      "entree beef\n",
      "drink ice coffee\n",
      "dessert ice\n"
     ]
    }
   ],
   "source": [
    "# 辞書を渡して展開する(App開発でよく見られる)\n",
    "d = {\n",
    "    'entree': 'beef',\n",
    "    'drink': 'ice coffee',\n",
    "    'dessert': 'ice'\n",
    "}\n",
    "\n",
    "# 辞書に**をつけて展開する\n",
    "menu(**d)"
   ]
  },
  {
   "cell_type": "code",
   "execution_count": 50,
   "metadata": {},
   "outputs": [
    {
     "name": "stdout",
     "output_type": "stream",
     "text": [
      "banana\n",
      "('apple', 'orange')\n",
      "{'entree': 'beef', 'drink': 'coffee'}\n"
     ]
    }
   ],
   "source": [
    "# 位置引数、タプル化、辞書化を全て使う事が出来る\n",
    "# 順序は重要\n",
    "def menu(food,*args, **kwargs):\n",
    "    print(food)\n",
    "    print(args)\n",
    "    print(kwargs)\n",
    "    \n",
    "menu('banana','apple','orange',entree='beef', drink = 'coffee')    "
   ]
  },
  {
   "cell_type": "markdown",
   "metadata": {},
   "source": [
    "## 54. Docstringsとは"
   ]
  },
  {
   "cell_type": "code",
   "execution_count": 51,
   "metadata": {},
   "outputs": [
    {
     "name": "stdout",
     "output_type": "stream",
     "text": [
      "\n",
      "    関数機能の説明を書く\n",
      "    \n",
      "    \n"
     ]
    }
   ],
   "source": [
    "# Pythonでは関数内に説明文を書くのが基本\n",
    "def example_func(para1, para2):\n",
    "    \"\"\"\n",
    "    関数機能の説明を書く\n",
    "    \n",
    "    \"\"\"\n",
    "    print(para1)\n",
    "    print(para2)\n",
    "    return Ture\n",
    "\n",
    "#関数の説明を見る時はdocを見る\n",
    "print(example_func.__doc__)\n"
   ]
  },
  {
   "cell_type": "code",
   "execution_count": 52,
   "metadata": {},
   "outputs": [
    {
     "name": "stdout",
     "output_type": "stream",
     "text": [
      "Help on function example_func in module __main__:\n",
      "\n",
      "example_func(para1, para2)\n",
      "    関数機能の説明を書く\n",
      "\n"
     ]
    }
   ],
   "source": [
    "# help関数でも見る事ができる\n",
    "help(example_func)"
   ]
  },
  {
   "cell_type": "markdown",
   "metadata": {},
   "source": [
    "## 55.関数内関数とは"
   ]
  },
  {
   "cell_type": "code",
   "execution_count": 53,
   "metadata": {},
   "outputs": [
    {
     "name": "stdout",
     "output_type": "stream",
     "text": [
      "6\n"
     ]
    }
   ],
   "source": [
    "# 関数内だけで関数を使う場合に使用する\n",
    "def outer(a,b):\n",
    "    \n",
    "    def plus(c,d):\n",
    "        return c + d\n",
    "    \n",
    "    r = plus(a,b)\n",
    "    print(r)\n",
    "    \n",
    "outer(1,5)    "
   ]
  },
  {
   "cell_type": "markdown",
   "metadata": {},
   "source": [
    "## 56. クロージャー"
   ]
  },
  {
   "cell_type": "code",
   "execution_count": 54,
   "metadata": {},
   "outputs": [],
   "source": [
    "# 実行結果を後で処理したい場合に使う\n",
    "def outer(a,b):\n",
    "    \n",
    "    def inner():\n",
    "        return a + b\n",
    "    #実行ではなくオブジェクトを返す\n",
    "    return inner"
   ]
  },
  {
   "cell_type": "code",
   "execution_count": 55,
   "metadata": {},
   "outputs": [
    {
     "name": "stdout",
     "output_type": "stream",
     "text": [
      "4\n"
     ]
    }
   ],
   "source": [
    "f = outer(1,3)\n",
    "#ここでインナー関数を実行する\n",
    "r = f()\n",
    "print(r)"
   ]
  },
  {
   "cell_type": "code",
   "execution_count": 58,
   "metadata": {},
   "outputs": [
    {
     "name": "stdout",
     "output_type": "stream",
     "text": [
      "cal1: 314.0\n",
      "cal2: 314.1592\n"
     ]
    }
   ],
   "source": [
    "# 初めに設定した引数を後々用途で使い分ける場合などに使用\n",
    "def circle_area_func(pi):\n",
    "    def circle_area(radius):\n",
    "        return pi * radius * radius\n",
    "    \n",
    "    return circle_area\n",
    "\n",
    "cal1 = circle_area_func(3.14)\n",
    "cal2 = circle_area_func(3.141592)\n",
    "\n",
    "print('cal1:',cal1(10))\n",
    "print('cal2:',cal2(10))"
   ]
  },
  {
   "cell_type": "markdown",
   "metadata": {},
   "source": [
    "## 57. デコレータ"
   ]
  },
  {
   "cell_type": "code",
   "execution_count": 59,
   "metadata": {},
   "outputs": [
    {
     "name": "stdout",
     "output_type": "stream",
     "text": [
      "start\n",
      "end\n",
      "30\n"
     ]
    }
   ],
   "source": [
    "# 関数の実行前後に何か処理を行いたい場合\n",
    "\n",
    "#例\n",
    "def add_num(a,b):\n",
    "    return a+b\n",
    "\n",
    "print('start')　#関数前に処理\n",
    "r = add_num(10,20)\n",
    "print('end')　#関数後に処理\n",
    "\n",
    "print(r)"
   ]
  },
  {
   "cell_type": "code",
   "execution_count": 60,
   "metadata": {},
   "outputs": [
    {
     "name": "stdout",
     "output_type": "stream",
     "text": [
      "start\n",
      "end\n",
      "30\n"
     ]
    }
   ],
   "source": [
    "# 引数にfuncと書くとデコレータになる\n",
    "\n",
    "def print_info(func):\n",
    "    def wrapper(*args,**kwargs):\n",
    "        print('start')\n",
    "        result = func(*args,**kwargs)\n",
    "        print('end')\n",
    "        return result\n",
    "    return wrapper\n",
    "\n",
    "\n",
    "@print_info\n",
    "def add_num(a,b):\n",
    "    return a + b\n",
    "\n",
    "r = add_num(10,20)\n",
    "print(r)"
   ]
  },
  {
   "cell_type": "code",
   "execution_count": 66,
   "metadata": {},
   "outputs": [
    {
     "name": "stdout",
     "output_type": "stream",
     "text": [
      "func: add_num\n",
      "args: (10, 20)\n",
      "kwargs: {}\n",
      "result: 30\n",
      "30\n"
     ]
    }
   ],
   "source": [
    "# デコレータを使うと違うfunctionでも使用可能になる \n",
    "def print_more(func):    \n",
    "    def wrapper(*args,**kwargs):\n",
    "        print('func:',func.__name__)\n",
    "        print('args:', args)\n",
    "        print('kwargs:',kwargs)\n",
    "        result = func(*args,**kwargs)\n",
    "        print('result:',result)\n",
    "        return result\n",
    "    return wrapper \n",
    "\n",
    "@print_more\n",
    "def add_num(a,b):\n",
    "    return a + b\n",
    "\n",
    "r = add_num(10,20)\n",
    "print(r)"
   ]
  },
  {
   "cell_type": "code",
   "execution_count": 67,
   "metadata": {},
   "outputs": [
    {
     "name": "stdout",
     "output_type": "stream",
     "text": [
      "start\n",
      "func: add_num\n",
      "args: (10, 20)\n",
      "kwargs: {}\n",
      "result: 30\n",
      "end\n",
      "30\n"
     ]
    }
   ],
   "source": [
    "# print_infoとprint_moreを両方実行する場合\n",
    "\n",
    "@print_info\n",
    "@print_more\n",
    "def add_num(a,b):\n",
    "    return a + b\n",
    "\n",
    "r2 = add_num(10,20)\n",
    "print(r2)\n"
   ]
  },
  {
   "cell_type": "markdown",
   "metadata": {},
   "source": [
    "## 58.ラムダ"
   ]
  },
  {
   "cell_type": "code",
   "execution_count": 4,
   "metadata": {},
   "outputs": [
    {
     "name": "stdout",
     "output_type": "stream",
     "text": [
      "Mon\n",
      "Tue\n",
      "Wed\n",
      "Thu\n"
     ]
    }
   ],
   "source": [
    "l = ['Mon', 'tue', 'Wed', 'Thu']\n",
    "\n",
    "def change_words(words,func):\n",
    "    for word in words:\n",
    "        print(func(word))\n",
    "        \n",
    "def sample_func(word):\n",
    "    return word.capitalize()\n",
    "\n",
    "\n",
    "change_words(l, sample_func)"
   ]
  },
  {
   "cell_type": "code",
   "execution_count": 5,
   "metadata": {},
   "outputs": [],
   "source": [
    "# ラムダを使うと関数定義しなくても書ける\n",
    "sample_func = lambda word: word.capitalize()"
   ]
  },
  {
   "cell_type": "code",
   "execution_count": 6,
   "metadata": {},
   "outputs": [
    {
     "name": "stdout",
     "output_type": "stream",
     "text": [
      "Mon\n",
      "Tue\n",
      "Wed\n",
      "Thu\n"
     ]
    }
   ],
   "source": [
    "#　ラムダを使った例\n",
    "change_words(l, lambda word: word.capitalize())"
   ]
  },
  {
   "cell_type": "markdown",
   "metadata": {},
   "source": [
    "## 59. ジェネレータ \n",
    "- イテレータ: 要素を反復して取り出すことが出来る\n",
    "- ジェネレータ: イテレータの一種であり、1要素を取り出そうとする度に処理を行い、要素をジェネレート"
   ]
  },
  {
   "cell_type": "code",
   "execution_count": 8,
   "metadata": {},
   "outputs": [
    {
     "name": "stdout",
     "output_type": "stream",
     "text": [
      "Good morning\n",
      "Good afternoon\n",
      "Good night\n"
     ]
    }
   ],
   "source": [
    "# イテレータの例\n",
    "l = ['Good morning', 'Good afternoon', 'Good night']\n",
    "for i in l:\n",
    "    print(i)"
   ]
  },
  {
   "cell_type": "code",
   "execution_count": 9,
   "metadata": {},
   "outputs": [
    {
     "name": "stdout",
     "output_type": "stream",
     "text": [
      "Good morning\n",
      "@@@@\n",
      "Good afternoon\n",
      "@@@@\n",
      "Good night\n"
     ]
    }
   ],
   "source": [
    "# ジェネレータの例\n",
    "def greeting():\n",
    "    yield 'Good morning'\n",
    "    yield 'Good afternoon'\n",
    "    yield 'Good night'\n",
    "    \n",
    "g = greeting()\n",
    "print(next(g))\n",
    "print('@@@@')\n",
    "print(next(g))\n",
    "print('@@@@')\n",
    "print(next(g))"
   ]
  },
  {
   "cell_type": "code",
   "execution_count": 12,
   "metadata": {},
   "outputs": [
    {
     "name": "stdout",
     "output_type": "stream",
     "text": [
      "Good morning\n",
      "run\n",
      "run\n",
      "run\n",
      "run\n",
      "Good afternoon\n"
     ]
    }
   ],
   "source": [
    "def counter(num=10):\n",
    "    for _ in range(num):\n",
    "        yield 'run'\n",
    "        \n",
    "g = greeting()\n",
    "c = counter()        \n",
    "print(next(g))\n",
    "print(next(c))\n",
    "print(next(c))\n",
    "print(next(c))\n",
    "print(next(c))\n",
    "print(next(g))"
   ]
  },
  {
   "cell_type": "code",
   "execution_count": 14,
   "metadata": {},
   "outputs": [],
   "source": [
    "# ジェネレータは呼び出された時にyield間の処理を行うのでメモリ消費が少ない\n",
    "def greeting():\n",
    "    yield 'Good morning'\n",
    "    for i in range(100):\n",
    "        print(i)\n",
    "    yield 'Good afternoon'\n",
    "    for i in range(500):\n",
    "        print(i)\n",
    "    yield 'Good night'    "
   ]
  },
  {
   "cell_type": "markdown",
   "metadata": {},
   "source": [
    "## 60. リスト内包表記"
   ]
  },
  {
   "cell_type": "code",
   "execution_count": 16,
   "metadata": {},
   "outputs": [
    {
     "name": "stdout",
     "output_type": "stream",
     "text": [
      "[1, 2, 3, 4, 5]\n"
     ]
    }
   ],
   "source": [
    "t = (1,2,3,4,5)\n",
    "\n",
    "r = []\n",
    "for i in t:\n",
    "    r.append(i)\n",
    "    \n",
    "print(r)    "
   ]
  },
  {
   "cell_type": "code",
   "execution_count": 17,
   "metadata": {},
   "outputs": [
    {
     "name": "stdout",
     "output_type": "stream",
     "text": [
      "[1, 2, 3, 4, 5]\n"
     ]
    }
   ],
   "source": [
    "#上記をリスト内包表記にすると\n",
    "r = [i for i in t]\n",
    "print(r)"
   ]
  },
  {
   "cell_type": "code",
   "execution_count": 18,
   "metadata": {},
   "outputs": [
    {
     "name": "stdout",
     "output_type": "stream",
     "text": [
      "[2, 4]\n"
     ]
    }
   ],
   "source": [
    "r = []\n",
    "for i in t:\n",
    "    if i % 2 == 0:\n",
    "        r.append(i)\n",
    "print(r)        "
   ]
  },
  {
   "cell_type": "code",
   "execution_count": 19,
   "metadata": {},
   "outputs": [
    {
     "name": "stdout",
     "output_type": "stream",
     "text": [
      "[2, 4]\n"
     ]
    }
   ],
   "source": [
    "#上記をリスト内包表記にすると\n",
    "r = [i for i in t if i % 2 == 0]\n",
    "print(r)"
   ]
  },
  {
   "cell_type": "code",
   "execution_count": 20,
   "metadata": {},
   "outputs": [
    {
     "name": "stdout",
     "output_type": "stream",
     "text": [
      "[5, 6, 7, 8, 9, 10, 10, 12, 14, 16, 18, 20, 15, 18, 21, 24, 27, 30, 20, 24, 28, 32, 36, 40, 25, 30, 35, 40, 45, 50]\n"
     ]
    }
   ],
   "source": [
    "t = (1,2,3,4,5)\n",
    "t2 = (5,6,7,8,9,10)\n",
    "r = []\n",
    "for i in t:\n",
    "    for j in t2:\n",
    "        r.append(i*j)\n",
    "print(r)        "
   ]
  },
  {
   "cell_type": "code",
   "execution_count": 21,
   "metadata": {},
   "outputs": [
    {
     "name": "stdout",
     "output_type": "stream",
     "text": [
      "[5, 6, 7, 8, 9, 10, 10, 12, 14, 16, 18, 20, 15, 18, 21, 24, 27, 30, 20, 24, 28, 32, 36, 40, 25, 30, 35, 40, 45, 50]\n"
     ]
    }
   ],
   "source": [
    "#上記をリスト内包表記にすると\n",
    "r = [i*j for i in t for j in t2]\n",
    "print(r)"
   ]
  },
  {
   "cell_type": "markdown",
   "metadata": {},
   "source": [
    "## 61. 辞書内包表記"
   ]
  },
  {
   "cell_type": "code",
   "execution_count": 22,
   "metadata": {},
   "outputs": [
    {
     "name": "stdout",
     "output_type": "stream",
     "text": [
      "{'mon': 'coffee', 'tue': 'milk', 'wed': 'water'}\n"
     ]
    }
   ],
   "source": [
    "w = ['mon', 'tue', 'wed']\n",
    "f = ['coffee', 'milk', 'water']\n",
    "\n",
    "d = {}\n",
    "for x,y in zip(w,f):\n",
    "    d[x]=y\n",
    "print(d)    "
   ]
  },
  {
   "cell_type": "code",
   "execution_count": 23,
   "metadata": {},
   "outputs": [
    {
     "name": "stdout",
     "output_type": "stream",
     "text": [
      "{'mon': 'coffee', 'tue': 'milk', 'wed': 'water'}\n"
     ]
    }
   ],
   "source": [
    "# 上記を辞書内包表記でやると\n",
    "d = {x:y for x,y in zip(w,f) }\n",
    "print(d)"
   ]
  },
  {
   "cell_type": "markdown",
   "metadata": {},
   "source": [
    "## 62. 集合内包表記"
   ]
  },
  {
   "cell_type": "code",
   "execution_count": 24,
   "metadata": {},
   "outputs": [
    {
     "name": "stdout",
     "output_type": "stream",
     "text": [
      "{0, 1, 2, 3, 4, 5, 6, 7, 8, 9}\n"
     ]
    }
   ],
   "source": [
    "s = set()\n",
    "\n",
    "for i in range(10):\n",
    "    s.add(i)\n",
    "    \n",
    "print(s)    "
   ]
  },
  {
   "cell_type": "code",
   "execution_count": 26,
   "metadata": {},
   "outputs": [
    {
     "name": "stdout",
     "output_type": "stream",
     "text": [
      "{0, 1, 2, 3, 4, 5, 6, 7, 8, 9}\n"
     ]
    }
   ],
   "source": [
    "# 上記を集合内包表記にすると\n",
    "s = {i for i in range(10)}\n",
    "print(s)"
   ]
  },
  {
   "cell_type": "code",
   "execution_count": 28,
   "metadata": {},
   "outputs": [
    {
     "name": "stdout",
     "output_type": "stream",
     "text": [
      "{0, 2, 4, 6, 8}\n"
     ]
    }
   ],
   "source": [
    "s2 = set()\n",
    "for i in range(10):\n",
    "    if i % 2 == 0:\n",
    "        s2.add(i)\n",
    "print(s2)        "
   ]
  },
  {
   "cell_type": "code",
   "execution_count": 29,
   "metadata": {},
   "outputs": [
    {
     "name": "stdout",
     "output_type": "stream",
     "text": [
      "{0, 2, 4, 6, 8}\n"
     ]
    }
   ],
   "source": [
    "# 上記を集合内包表記にすると\n",
    "s = {i for i in range(10) if i % 2 == 0}\n",
    "print(s)"
   ]
  },
  {
   "cell_type": "markdown",
   "metadata": {},
   "source": [
    "## 63.　ジェネレータ内包表記"
   ]
  },
  {
   "cell_type": "code",
   "execution_count": 30,
   "metadata": {},
   "outputs": [
    {
     "name": "stdout",
     "output_type": "stream",
     "text": [
      "0\n",
      "1\n"
     ]
    }
   ],
   "source": [
    "def g():\n",
    "    for i in range(10):\n",
    "        yield(i)\n",
    "        \n",
    "g = g()\n",
    "print(next(g))\n",
    "print(next(g))"
   ]
  },
  {
   "cell_type": "code",
   "execution_count": 35,
   "metadata": {},
   "outputs": [
    {
     "name": "stdout",
     "output_type": "stream",
     "text": [
      "0\n",
      "1\n",
      "2\n"
     ]
    }
   ],
   "source": [
    "# 上記をジェネレータ内包表記にすると\n",
    "g2 = (i for i in range(10))\n",
    "\n",
    "print(next(g2))\n",
    "print(next(g2))\n",
    "print(next(g2))"
   ]
  },
  {
   "cell_type": "code",
   "execution_count": 36,
   "metadata": {},
   "outputs": [
    {
     "name": "stdout",
     "output_type": "stream",
     "text": [
      "<class 'tuple'>\n"
     ]
    }
   ],
   "source": [
    "# タプルにする場合\n",
    "t = tuple(i for i in range(10))\n",
    "print(type(t))"
   ]
  },
  {
   "cell_type": "markdown",
   "metadata": {},
   "source": [
    "## 64. 名前空間とスコープ"
   ]
  },
  {
   "cell_type": "code",
   "execution_count": 37,
   "metadata": {},
   "outputs": [
    {
     "name": "stdout",
     "output_type": "stream",
     "text": [
      "cat\n"
     ]
    }
   ],
   "source": [
    "# function内からグローバル変数を使う事は出来る\n",
    "animal = 'cat'\n",
    "\n",
    "def f():\n",
    "    print(animal)\n",
    "    \n",
    "f()    "
   ]
  },
  {
   "cell_type": "code",
   "execution_count": 39,
   "metadata": {},
   "outputs": [
    {
     "ename": "UnboundLocalError",
     "evalue": "local variable 'animal' referenced before assignment",
     "output_type": "error",
     "traceback": [
      "\u001b[1;31m---------------------------------------------------------------------------\u001b[0m",
      "\u001b[1;31mUnboundLocalError\u001b[0m                         Traceback (most recent call last)",
      "\u001b[1;32m<ipython-input-39-914dd00a2389>\u001b[0m in \u001b[0;36m<module>\u001b[1;34m\u001b[0m\n\u001b[0;32m      5\u001b[0m     \u001b[0mprint\u001b[0m\u001b[1;33m(\u001b[0m\u001b[1;34m'after:'\u001b[0m\u001b[1;33m,\u001b[0m \u001b[0manimal\u001b[0m\u001b[1;33m)\u001b[0m\u001b[1;33m\u001b[0m\u001b[1;33m\u001b[0m\u001b[0m\n\u001b[0;32m      6\u001b[0m \u001b[1;33m\u001b[0m\u001b[0m\n\u001b[1;32m----> 7\u001b[1;33m \u001b[0mf\u001b[0m\u001b[1;33m(\u001b[0m\u001b[1;33m)\u001b[0m\u001b[1;33m\u001b[0m\u001b[1;33m\u001b[0m\u001b[0m\n\u001b[0m",
      "\u001b[1;32m<ipython-input-39-914dd00a2389>\u001b[0m in \u001b[0;36mf\u001b[1;34m()\u001b[0m\n\u001b[0;32m      1\u001b[0m \u001b[1;31m# func内でグローバル変数使用後にローカル変数で書き替えはNG\u001b[0m\u001b[1;33m\u001b[0m\u001b[1;33m\u001b[0m\u001b[1;33m\u001b[0m\u001b[0m\n\u001b[0;32m      2\u001b[0m \u001b[1;32mdef\u001b[0m \u001b[0mf\u001b[0m\u001b[1;33m(\u001b[0m\u001b[1;33m)\u001b[0m\u001b[1;33m:\u001b[0m\u001b[1;33m\u001b[0m\u001b[1;33m\u001b[0m\u001b[0m\n\u001b[1;32m----> 3\u001b[1;33m     \u001b[0mprint\u001b[0m\u001b[1;33m(\u001b[0m\u001b[0manimal\u001b[0m\u001b[1;33m)\u001b[0m\u001b[1;33m\u001b[0m\u001b[1;33m\u001b[0m\u001b[0m\n\u001b[0m\u001b[0;32m      4\u001b[0m     \u001b[0manimal\u001b[0m \u001b[1;33m=\u001b[0m \u001b[1;34m'dog'\u001b[0m\u001b[1;33m\u001b[0m\u001b[1;33m\u001b[0m\u001b[0m\n\u001b[0;32m      5\u001b[0m     \u001b[0mprint\u001b[0m\u001b[1;33m(\u001b[0m\u001b[1;34m'after:'\u001b[0m\u001b[1;33m,\u001b[0m \u001b[0manimal\u001b[0m\u001b[1;33m)\u001b[0m\u001b[1;33m\u001b[0m\u001b[1;33m\u001b[0m\u001b[0m\n",
      "\u001b[1;31mUnboundLocalError\u001b[0m: local variable 'animal' referenced before assignment"
     ]
    }
   ],
   "source": [
    "# func内でグローバル変数使用後にローカル変数で書き替えはNG\n",
    "def f():\n",
    "    print(animal)\n",
    "    animal = 'dog'\n",
    "    print('after:', animal)\n",
    "    \n",
    "f()    "
   ]
  },
  {
   "cell_type": "code",
   "execution_count": 40,
   "metadata": {},
   "outputs": [
    {
     "name": "stdout",
     "output_type": "stream",
     "text": [
      "after: dog\n",
      "global cat\n"
     ]
    }
   ],
   "source": [
    "# dunc内でglobal参照前に変更はOK\n",
    "\n",
    "def f():\n",
    "    animal = 'dog'\n",
    "    print('after:', animal)\n",
    "    \n",
    "f()\n",
    "print('global',animal)"
   ]
  },
  {
   "cell_type": "code",
   "execution_count": 42,
   "metadata": {},
   "outputs": [
    {
     "name": "stdout",
     "output_type": "stream",
     "text": [
      "local: dog\n",
      "global: dog\n"
     ]
    }
   ],
   "source": [
    "# 関数内でグローバル変数を書き換える場合\n",
    "# animalがglobalとlocal両方でdogになる\n",
    "def f():\n",
    "    #まずglobal変数を宣言する\n",
    "    global animal\n",
    "    animal = 'dog'\n",
    "    print('local:', animal)\n",
    "    \n",
    "f()\n",
    "print('global:', animal)"
   ]
  },
  {
   "cell_type": "code",
   "execution_count": 43,
   "metadata": {},
   "outputs": [
    {
     "name": "stdout",
     "output_type": "stream",
     "text": [
      "local: {'animal': 'dog'}\n"
     ]
    }
   ],
   "source": [
    "# 関数内のローカル変数を出力する場合はlovals()\n",
    "\n",
    "def f():\n",
    "    animal = 'dog'\n",
    "    print('local:', locals())\n",
    "    \n",
    "f()    "
   ]
  },
  {
   "cell_type": "code",
   "execution_count": 45,
   "metadata": {},
   "outputs": [
    {
     "name": "stdout",
     "output_type": "stream",
     "text": [
      "global:\n"
     ]
    }
   ],
   "source": [
    "# global変数を出力する場合　globals()\n",
    "print('global:', globals())"
   ]
  },
  {
   "cell_type": "code",
   "execution_count": 46,
   "metadata": {},
   "outputs": [
    {
     "name": "stdout",
     "output_type": "stream",
     "text": [
      "__main__\n"
     ]
    }
   ],
   "source": [
    "# __name__がmainだと一番の実行ファイルを意味する\n",
    "print(__name__)"
   ]
  },
  {
   "cell_type": "markdown",
   "metadata": {},
   "source": [
    "## 65.例外処理"
   ]
  },
  {
   "cell_type": "code",
   "execution_count": 2,
   "metadata": {},
   "outputs": [
    {
     "name": "stdout",
     "output_type": "stream",
     "text": [
      "don't worry\n",
      "last\n"
     ]
    }
   ],
   "source": [
    "#例外が発生してもプログラムが終了しない\n",
    "l = [1,2,3]\n",
    "i = 5\n",
    "\n",
    "try:\n",
    "    l[i]\n",
    "except:\n",
    "    print(\"don't worry\")\n",
    "    \n",
    "print('last')    "
   ]
  },
  {
   "cell_type": "code",
   "execution_count": 3,
   "metadata": {},
   "outputs": [
    {
     "name": "stdout",
     "output_type": "stream",
     "text": [
      "Sorry\n",
      "last\n"
     ]
    }
   ],
   "source": [
    "# indexエラーが発生した場合のみ次のコードにいく\n",
    "\n",
    "l = [1,2,3]\n",
    "i = 5\n",
    "\n",
    "try:\n",
    "    l[i]\n",
    "except IndexError:\n",
    "    print('Sorry')\n",
    "    \n",
    "print('last')    "
   ]
  },
  {
   "cell_type": "code",
   "execution_count": 4,
   "metadata": {},
   "outputs": [
    {
     "name": "stdout",
     "output_type": "stream",
     "text": [
      "Sorry:list index out of range\n",
      "last\n"
     ]
    }
   ],
   "source": [
    "# 例外処理を変数に入れて表示する\n",
    "l = [1,2,3]\n",
    "i = 5\n",
    "\n",
    "try:\n",
    "    l[i]\n",
    "except IndexError as ex:\n",
    "    print('Sorry:{}'.format(ex))\n",
    "    \n",
    "print('last')  "
   ]
  },
  {
   "cell_type": "code",
   "execution_count": 7,
   "metadata": {},
   "outputs": [
    {
     "name": "stdout",
     "output_type": "stream",
     "text": [
      "name 'l' is not defined\n",
      "last\n"
     ]
    }
   ],
   "source": [
    "# 例外内容毎に記述する\n",
    "l = [1,2,3]\n",
    "i = 5\n",
    "del l\n",
    "\n",
    "try:\n",
    "    l[i]\n",
    "except IndexError as ex:\n",
    "    print('Sorry:{}'.format(ex))\n",
    "except NameError as ex:\n",
    "    print(ex)\n",
    "    \n",
    "print('last')  "
   ]
  },
  {
   "cell_type": "code",
   "execution_count": 8,
   "metadata": {},
   "outputs": [
    {
     "name": "stdout",
     "output_type": "stream",
     "text": [
      "other:can only concatenate tuple (not \"list\") to tuple\n",
      "last\n"
     ]
    }
   ],
   "source": [
    "# 指定以外の例外処理を回避する場合\n",
    "l = [1,2,3]\n",
    "i = 5\n",
    "\n",
    "try:\n",
    "    () + l \n",
    "except IndexError as ex:\n",
    "    print('Sorry:{}'.format(ex))\n",
    "except NameError as ex:\n",
    "    print(ex)\n",
    "except Exception as ex:\n",
    "    print('other:{}'.format(ex))\n",
    "    \n",
    "print('last')  "
   ]
  },
  {
   "cell_type": "markdown",
   "metadata": {},
   "source": [
    "### 公式ドキュメントの例外処理リスト\n",
    "- https://docs.python.org/ja/3.7/library/exceptions.html"
   ]
  },
  {
   "cell_type": "code",
   "execution_count": 9,
   "metadata": {},
   "outputs": [
    {
     "name": "stdout",
     "output_type": "stream",
     "text": [
      "other:can only concatenate tuple (not \"list\") to tuple\n",
      "clean up\n"
     ]
    }
   ],
   "source": [
    "# finallyを使うとTry-exept間処理後に必ず実行される\n",
    "l = [1,2,3]\n",
    "i = 5\n",
    "\n",
    "try:\n",
    "    () + l \n",
    "except IndexError as ex:\n",
    "    print('Sorry:{}'.format(ex))\n",
    "except NameError as ex:\n",
    "    print(ex)\n",
    "except Exception as ex:\n",
    "    print('other:{}'.format(ex))\n",
    "finally:\n",
    "    print('clean up')"
   ]
  },
  {
   "cell_type": "code",
   "execution_count": 10,
   "metadata": {},
   "outputs": [
    {
     "name": "stdout",
     "output_type": "stream",
     "text": [
      "done\n",
      "clean up\n"
     ]
    }
   ],
   "source": [
    "# elseを入れるとエラーが発生しなかった場合にプログラムが処理される\n",
    "l = [1,2,3]\n",
    "\n",
    "\n",
    "try:\n",
    "    l[1]\n",
    "except IndexError as ex:\n",
    "    print('Sorry:{}'.format(ex))\n",
    "except NameError as ex:\n",
    "    print(ex)\n",
    "except Exception as ex:\n",
    "    print('other:{}'.format(ex))\n",
    "else:\n",
    "    print('done')\n",
    "finally:\n",
    "    print('clean up')"
   ]
  },
  {
   "cell_type": "markdown",
   "metadata": {},
   "source": [
    "## 66. 独自例外の作成"
   ]
  },
  {
   "cell_type": "code",
   "execution_count": 11,
   "metadata": {},
   "outputs": [
    {
     "ename": "IndexError",
     "evalue": "test error",
     "output_type": "error",
     "traceback": [
      "\u001b[1;31m---------------------------------------------------------------------------\u001b[0m",
      "\u001b[1;31mIndexError\u001b[0m                                Traceback (most recent call last)",
      "\u001b[1;32m<ipython-input-11-771b51b2a9f8>\u001b[0m in \u001b[0;36m<module>\u001b[1;34m\u001b[0m\n\u001b[0;32m      1\u001b[0m \u001b[1;31m# raiseを使って例外を発生させる\u001b[0m\u001b[1;33m\u001b[0m\u001b[1;33m\u001b[0m\u001b[1;33m\u001b[0m\u001b[0m\n\u001b[1;32m----> 2\u001b[1;33m \u001b[1;32mraise\u001b[0m \u001b[0mIndexError\u001b[0m\u001b[1;33m(\u001b[0m\u001b[1;34m'test error'\u001b[0m\u001b[1;33m)\u001b[0m\u001b[1;33m\u001b[0m\u001b[1;33m\u001b[0m\u001b[0m\n\u001b[0m",
      "\u001b[1;31mIndexError\u001b[0m: test error"
     ]
    }
   ],
   "source": [
    "# raiseを使って例外を発生させる\n",
    "raise IndexError('test error')"
   ]
  },
  {
   "cell_type": "code",
   "execution_count": 14,
   "metadata": {},
   "outputs": [
    {
     "ename": "UpperError",
     "evalue": "APPLE",
     "output_type": "error",
     "traceback": [
      "\u001b[1;31m---------------------------------------------------------------------------\u001b[0m",
      "\u001b[1;31mUpperError\u001b[0m                                Traceback (most recent call last)",
      "\u001b[1;32m<ipython-input-14-4471f3127ed8>\u001b[0m in \u001b[0;36m<module>\u001b[1;34m\u001b[0m\n\u001b[0;32m     10\u001b[0m             \u001b[1;32mraise\u001b[0m \u001b[0mUpperError\u001b[0m\u001b[1;33m(\u001b[0m\u001b[0mword\u001b[0m\u001b[1;33m)\u001b[0m\u001b[1;33m\u001b[0m\u001b[1;33m\u001b[0m\u001b[0m\n\u001b[0;32m     11\u001b[0m \u001b[1;33m\u001b[0m\u001b[0m\n\u001b[1;32m---> 12\u001b[1;33m \u001b[0mcheck\u001b[0m\u001b[1;33m(\u001b[0m\u001b[1;33m)\u001b[0m\u001b[1;33m\u001b[0m\u001b[1;33m\u001b[0m\u001b[0m\n\u001b[0m",
      "\u001b[1;32m<ipython-input-14-4471f3127ed8>\u001b[0m in \u001b[0;36mcheck\u001b[1;34m()\u001b[0m\n\u001b[0;32m      8\u001b[0m     \u001b[1;32mfor\u001b[0m \u001b[0mword\u001b[0m \u001b[1;32min\u001b[0m \u001b[0mwords\u001b[0m\u001b[1;33m:\u001b[0m\u001b[1;33m\u001b[0m\u001b[1;33m\u001b[0m\u001b[0m\n\u001b[0;32m      9\u001b[0m         \u001b[1;32mif\u001b[0m \u001b[0mword\u001b[0m\u001b[1;33m.\u001b[0m\u001b[0misupper\u001b[0m\u001b[1;33m(\u001b[0m\u001b[1;33m)\u001b[0m\u001b[1;33m:\u001b[0m\u001b[1;33m\u001b[0m\u001b[1;33m\u001b[0m\u001b[0m\n\u001b[1;32m---> 10\u001b[1;33m             \u001b[1;32mraise\u001b[0m \u001b[0mUpperError\u001b[0m\u001b[1;33m(\u001b[0m\u001b[0mword\u001b[0m\u001b[1;33m)\u001b[0m\u001b[1;33m\u001b[0m\u001b[1;33m\u001b[0m\u001b[0m\n\u001b[0m\u001b[0;32m     11\u001b[0m \u001b[1;33m\u001b[0m\u001b[0m\n\u001b[0;32m     12\u001b[0m \u001b[0mcheck\u001b[0m\u001b[1;33m(\u001b[0m\u001b[1;33m)\u001b[0m\u001b[1;33m\u001b[0m\u001b[1;33m\u001b[0m\u001b[0m\n",
      "\u001b[1;31mUpperError\u001b[0m: APPLE"
     ]
    }
   ],
   "source": [
    "# 例外処理をclassで作り独自例外を発生させたい場合\n",
    "class UpperError(Exception):\n",
    "    pass\n",
    "\n",
    "\n",
    "def check():\n",
    "    words = ['APPLE','orange', 'banana']\n",
    "    for word in words:\n",
    "        if word.isupper():\n",
    "            raise UpperError(word)\n",
    "            \n",
    "check()"
   ]
  },
  {
   "cell_type": "markdown",
   "metadata": {},
   "source": [
    "# セクション6：モジュールとパッケージ"
   ]
  },
  {
   "cell_type": "markdown",
   "metadata": {},
   "source": [
    "## 67.コマンドライン引数"
   ]
  },
  {
   "cell_type": "code",
   "execution_count": 16,
   "metadata": {},
   "outputs": [
    {
     "name": "stdout",
     "output_type": "stream",
     "text": [
      " ドライブ D のボリューム ラベルは DATA です\n",
      " ボリューム シリアル番号は 8E0D-4CBA です\n",
      "\n",
      " D:\\Python\\Python入門3 のディレクトリ\n",
      "\n",
      "2020/07/12  10:34    <DIR>          .\n",
      "2020/07/12  10:34    <DIR>          ..\n",
      "2020/07/08  08:06    <DIR>          .ipynb_checkpoints\n",
      "2020/07/12  10:34            91,960 Python入門.ipynb\n",
      "               1 個のファイル              91,960 バイト\n",
      "               3 個のディレクトリ  580,450,820,096 バイトの空き領域\n"
     ]
    }
   ],
   "source": [
    "# ディレクトリとファイル一覧を取得\n",
    "%ls"
   ]
  },
  {
   "cell_type": "code",
   "execution_count": 17,
   "metadata": {},
   "outputs": [
    {
     "data": {
      "text/plain": [
       "'D:\\\\Python\\\\Python入門3'"
      ]
     },
     "execution_count": 17,
     "metadata": {},
     "output_type": "execute_result"
    }
   ],
   "source": [
    "# 在開いているノートのディレクトリ（カレントディレクトリ）のフルパスを取得\n",
    "%pwd"
   ]
  },
  {
   "cell_type": "code",
   "execution_count": 25,
   "metadata": {},
   "outputs": [
    {
     "data": {
      "text/plain": [
       "'\\n.pyファイルを実行する方法\\ncosole画面で.py保存先フォルダに移動して以下を実行\\n%run\\u3000-i\\u3000ファイル(.py)\\u3000：\\u3000ファイル(.py)の実行\\n'"
      ]
     },
     "execution_count": 25,
     "metadata": {},
     "output_type": "execute_result"
    }
   ],
   "source": [
    "\"\"\"\n",
    ".pyファイルを実行する方法\n",
    "cosole画面で.py保存先フォルダに移動して以下を実行\n",
    "%run　-i　ファイル(.py)　：　ファイル(.py)の実行\n",
    "\"\"\""
   ]
  },
  {
   "cell_type": "code",
   "execution_count": 19,
   "metadata": {},
   "outputs": [
    {
     "data": {
      "text/plain": [
       "'\\n.pyに引数をいれる場合は\\u3000lesson.py option1 option2\\n引数を使う場合は.pyファイルの中に\\nimport sys\\nprint(sys.argv) ←これだと引数を表示する\\n\\nプログラム内で使う場合は、例えばfor文\\nfor i in argv:\\n    print(i)\\n'"
      ]
     },
     "execution_count": 19,
     "metadata": {},
     "output_type": "execute_result"
    }
   ],
   "source": [
    "\"\"\"\n",
    ".pyに引数をいれる場合は　lesson.py option1 option2\n",
    "引数を使う場合は.pyファイルの中に\n",
    "import sys\n",
    "print(sys.argv) ←これだと引数を表示する\n",
    "\n",
    "プログラム内で使う場合は、例えばfor文\n",
    "for i in argv:\n",
    "    print(i)\n",
    "\"\"\" "
   ]
  },
  {
   "cell_type": "markdown",
   "metadata": {},
   "source": [
    "## 68.import文とAs"
   ]
  },
  {
   "cell_type": "code",
   "execution_count": 21,
   "metadata": {},
   "outputs": [],
   "source": [
    "# モジュールを作る場合は、フォルダ作成しその中に実行ファイル.pyと__init__.pyを作る\n",
    "# __init__.pyは他pyファイルからlesson_packageを読み込んだ時に最初に読み込まれるファイル"
   ]
  },
  {
   "cell_type": "code",
   "execution_count": 24,
   "metadata": {},
   "outputs": [
    {
     "name": "stdout",
     "output_type": "stream",
     "text": [
      "hello!hello!\n"
     ]
    }
   ],
   "source": [
    "# 自分で作成したモジュールをインポート(FullPath)\n",
    "import lesson_package.utils\n",
    "\n",
    "r =lesson_package.utils.say_twice('hello')\n",
    "print(r)"
   ]
  },
  {
   "cell_type": "code",
   "execution_count": 25,
   "metadata": {},
   "outputs": [
    {
     "name": "stdout",
     "output_type": "stream",
     "text": [
      "hello!hello!\n"
     ]
    }
   ],
   "source": [
    "# fromで特定の実行ファイルを指定できる\n",
    "from lesson_package import utils\n",
    "\n",
    "r2 =utils.say_twice('hello')\n",
    "print(r2)"
   ]
  },
  {
   "cell_type": "code",
   "execution_count": 27,
   "metadata": {},
   "outputs": [
    {
     "name": "stdout",
     "output_type": "stream",
     "text": [
      "hello!hello!\n"
     ]
    }
   ],
   "source": [
    "# 関数だけをインポートする場合(お勧めではない)\n",
    "from lesson_package.utils import say_twice\n",
    "\n",
    "r = say_twice('hello')\n",
    "print(r)"
   ]
  },
  {
   "cell_type": "code",
   "execution_count": 28,
   "metadata": {},
   "outputs": [
    {
     "name": "stdout",
     "output_type": "stream",
     "text": [
      "hello!hello!\n"
     ]
    }
   ],
   "source": [
    "# asを使って名前を書き換える事が出来る  ※これもあまり好まれていない\n",
    "from lesson_package import utils as u\n",
    "\n",
    "r = u.say_twice('hello')\n",
    "print(r)"
   ]
  },
  {
   "cell_type": "markdown",
   "metadata": {},
   "source": [
    "## 69. 絶対パスと相対パスのImport"
   ]
  },
  {
   "cell_type": "code",
   "execution_count": 1,
   "metadata": {},
   "outputs": [],
   "source": [
    "%reload_ext autoreload\n",
    "\n",
    "from lesson_package.talk import human"
   ]
  },
  {
   "cell_type": "code",
   "execution_count": 2,
   "metadata": {},
   "outputs": [
    {
     "name": "stdout",
     "output_type": "stream",
     "text": [
      "sing\n"
     ]
    }
   ],
   "source": [
    "print(human.sing())"
   ]
  },
  {
   "cell_type": "code",
   "execution_count": 3,
   "metadata": {},
   "outputs": [
    {
     "data": {
      "text/plain": [
       "'sing'"
      ]
     },
     "execution_count": 3,
     "metadata": {},
     "output_type": "execute_result"
    }
   ],
   "source": [
    "human.sing()"
   ]
  },
  {
   "cell_type": "code",
   "execution_count": 57,
   "metadata": {},
   "outputs": [],
   "source": [
    "#human.pyからutilsを使う場合\n",
    "# from lesson_package.tools import utils  絶対pass\n",
    "# from ..tools import utils  #相対pass　　※..はあまり推奨されていない"
   ]
  },
  {
   "cell_type": "code",
   "execution_count": 4,
   "metadata": {},
   "outputs": [
    {
     "data": {
      "text/plain": [
       "'cry!cry!'"
      ]
     },
     "execution_count": 4,
     "metadata": {},
     "output_type": "execute_result"
    }
   ],
   "source": [
    "human.cry()"
   ]
  },
  {
   "cell_type": "markdown",
   "metadata": {},
   "source": [
    "## 70.アスタリスクのインポートと__init__.pyと__all__の意味"
   ]
  },
  {
   "cell_type": "code",
   "execution_count": 5,
   "metadata": {},
   "outputs": [
    {
     "name": "stdout",
     "output_type": "stream",
     "text": [
      "fnaifjaksing\n",
      "jfaiofjaiocry!jfaiofjaiocry!\n"
     ]
    }
   ],
   "source": [
    "from lesson_package.talk import animal\n",
    "\n",
    "print(animal.sing())\n",
    "print(animal.cry())"
   ]
  },
  {
   "cell_type": "code",
   "execution_count": 6,
   "metadata": {},
   "outputs": [
    {
     "name": "stdout",
     "output_type": "stream",
     "text": [
      "sing\n"
     ]
    }
   ],
   "source": [
    "# import時にフォルダ内の実行ファイルを全て読み込む場合　import *\n",
    "# 但し__init__に　__all__=['animal','human']\n",
    "from lesson_package.talk import *\n",
    "\n",
    "print(human.sing())"
   ]
  },
  {
   "cell_type": "markdown",
   "metadata": {},
   "source": [
    "## 71. importErrorの使いところ"
   ]
  },
  {
   "cell_type": "code",
   "execution_count": 8,
   "metadata": {},
   "outputs": [
    {
     "data": {
      "text/plain": [
       "'word!word!'"
      ]
     },
     "execution_count": 8,
     "metadata": {},
     "output_type": "execute_result"
    }
   ],
   "source": [
    "# .pyファイルを移動した場合につかう\n",
    "# 新しいモジュールがでたときに、古いモジュールを削除しても大丈夫なようにつかう\n",
    "\n",
    "try:\n",
    "    from lesson_package import utils\n",
    "except ImportError:\n",
    "    from lesson_package.tools import utils \n",
    "    \n",
    "    \n",
    "utils.say_twice('word')"
   ]
  },
  {
   "cell_type": "markdown",
   "metadata": {},
   "source": [
    "## 72. setup.pyでパッケージ化して配布する"
   ]
  },
  {
   "cell_type": "code",
   "execution_count": 9,
   "metadata": {},
   "outputs": [
    {
     "data": {
      "text/plain": [
       "'\\nモジュールを配布する場合\\n① setup.pyファイルを作る（書き方フォーマットあり）\\n② ターミナルor cmdで\\u3000python setup.py sdist\\u3000\\n③ distフォルダが作成され、tar.gzファイルをつくる事ができる\\n'"
      ]
     },
     "execution_count": 9,
     "metadata": {},
     "output_type": "execute_result"
    }
   ],
   "source": [
    "\"\"\"\n",
    "モジュールを配布する場合\n",
    "① setup.pyファイルを作る（書き方フォーマットあり）\n",
    "② ターミナルor cmdで　python setup.py sdist　\n",
    "③ distフォルダが作成され、tar.gzファイルをつくる事ができる\n",
    "\"\"\""
   ]
  },
  {
   "cell_type": "markdown",
   "metadata": {},
   "source": [
    "## 73.組み込み関数"
   ]
  },
  {
   "cell_type": "code",
   "execution_count": 19,
   "metadata": {},
   "outputs": [
    {
     "name": "stdout",
     "output_type": "stream",
     "text": [
      "['A', 'C', 'B']\n"
     ]
    }
   ],
   "source": [
    "# sorted関数は並び替えたい場合\n",
    "\n",
    "ranking = {\n",
    "    'A':100,\n",
    "    'B':85,\n",
    "    'C':95    \n",
    "}\n",
    "\n",
    "print(sorted(ranking, key=ranking.get, reverse = True))"
   ]
  },
  {
   "cell_type": "markdown",
   "metadata": {},
   "source": [
    "## 74. 標準ライブラリ\n",
    "### 公式のライブラリの一覧\n",
    "- https://docs.python.org/ja/3.7/library/index.html"
   ]
  },
  {
   "cell_type": "code",
   "execution_count": 20,
   "metadata": {},
   "outputs": [
    {
     "name": "stdout",
     "output_type": "stream",
     "text": [
      "{'f': 3, 'a': 3, 'j': 3, 's': 0, 'k': 2, 'l': 2}\n"
     ]
    }
   ],
   "source": [
    "# collections\n",
    "#ある文字列のアルファベットが何個あるか？\n",
    "\n",
    "s = 'fafjasklfjklajfklaj'\n",
    "\n",
    "d = {}\n",
    "for c in s:\n",
    "    if c not in d:\n",
    "        d[c] = 0\n",
    "    else:\n",
    "        d[c] +=1\n",
    "        \n",
    "print(d)        "
   ]
  },
  {
   "cell_type": "code",
   "execution_count": 21,
   "metadata": {},
   "outputs": [
    {
     "name": "stdout",
     "output_type": "stream",
     "text": [
      "{'f': 4, 'a': 4, 'j': 4, 's': 1, 'k': 3, 'l': 3}\n"
     ]
    }
   ],
   "source": [
    "# if文を使わなくても辞書のsetdefaultを使えば同様な事が出来る\n",
    "d = {}\n",
    "for c in s:\n",
    "    d.setdefault(c,0)\n",
    "    d[c] +=1\n",
    "        \n",
    "print(d)    "
   ]
  },
  {
   "cell_type": "code",
   "execution_count": 24,
   "metadata": {},
   "outputs": [
    {
     "name": "stdout",
     "output_type": "stream",
     "text": [
      "defaultdict(<class 'int'>, {'f': 4, 'a': 4, 'j': 4, 's': 1, 'k': 3, 'l': 3})\n"
     ]
    }
   ],
   "source": [
    "# setdefaultの代わりにdefaultdictを使用する\n",
    "from collections import defaultdict\n",
    "\n",
    "d = defaultdict(int)\n",
    "\n",
    "for c in s:\n",
    "    d[c] +=1\n",
    "print(d)    "
   ]
  },
  {
   "cell_type": "markdown",
   "metadata": {},
   "source": [
    "## 75. サードパーティのライブラリ\n",
    "### サードパーティライブラリの保存先\n",
    "- https://pypi.python.org/pypi"
   ]
  },
  {
   "cell_type": "code",
   "execution_count": 27,
   "metadata": {},
   "outputs": [],
   "source": [
    "from termcolor import colored"
   ]
  },
  {
   "cell_type": "code",
   "execution_count": 30,
   "metadata": {},
   "outputs": [
    {
     "name": "stdout",
     "output_type": "stream",
     "text": [
      "\u001b[44m\u001b[31mtest\u001b[0m\n"
     ]
    }
   ],
   "source": [
    "print(colored('test', 'red','on_blue'))"
   ]
  },
  {
   "cell_type": "code",
   "execution_count": 29,
   "metadata": {},
   "outputs": [
    {
     "name": "stdout",
     "output_type": "stream",
     "text": [
      "Help on function colored in module termcolor:\n",
      "\n",
      "colored(text, color=None, on_color=None, attrs=None)\n",
      "    Colorize text.\n",
      "    \n",
      "    Available text colors:\n",
      "        red, green, yellow, blue, magenta, cyan, white.\n",
      "    \n",
      "    Available text highlights:\n",
      "        on_red, on_green, on_yellow, on_blue, on_magenta, on_cyan, on_white.\n",
      "    \n",
      "    Available attributes:\n",
      "        bold, dark, underline, blink, reverse, concealed.\n",
      "    \n",
      "    Example:\n",
      "        colored('Hello, World!', 'red', 'on_grey', ['blue', 'blink'])\n",
      "        colored('Hello, World!', 'green')\n",
      "\n",
      "None\n"
     ]
    }
   ],
   "source": [
    "print(help(colored))"
   ]
  },
  {
   "cell_type": "markdown",
   "metadata": {},
   "source": [
    "## 76. importする際の記述の仕方"
   ]
  },
  {
   "cell_type": "code",
   "execution_count": 33,
   "metadata": {},
   "outputs": [
    {
     "name": "stdout",
     "output_type": "stream",
     "text": [
      "C:\\Users\\mikam\\Anaconda3\\lib\\site-packages\\ipykernel_launcher.py\n",
      "-f\n",
      "C:\\Users\\mikam\\AppData\\Roaming\\jupyter\\runtime\\kernel-7eff96fc-48f5-42d7-8d31-932903c09b4d.json\n"
     ]
    }
   ],
   "source": [
    "#一番上は標準ライブラリを書く\n",
    "#アルファベット順にする方が良い\n",
    "import collections \n",
    "import os\n",
    "import sys          \n",
    "\n",
    "#サードパーティライブラリは標準ライブラリと1行あける方が良い\n",
    "import termcolor    \n",
    "\n",
    "#自分達が作ったパッケージも開けた方が良い\n",
    "import lesson_package \n",
    "\n",
    "#最後はローカルファイルにする\n",
    "import config       "
   ]
  },
  {
   "cell_type": "code",
   "execution_count": 34,
   "metadata": {},
   "outputs": [
    {
     "name": "stdout",
     "output_type": "stream",
     "text": [
      "C:\\Users\\mikam\\Anaconda3\\lib\\site-packages\\termcolor.py\n"
     ]
    }
   ],
   "source": [
    "print(termcolor.__file__)"
   ]
  },
  {
   "cell_type": "code",
   "execution_count": 35,
   "metadata": {},
   "outputs": [
    {
     "name": "stdout",
     "output_type": "stream",
     "text": [
      "C:\\Users\\mikam\\Anaconda3\\lib\\collections\\__init__.py\n"
     ]
    }
   ],
   "source": [
    "print(collections.__file__)"
   ]
  },
  {
   "cell_type": "code",
   "execution_count": 38,
   "metadata": {},
   "outputs": [
    {
     "name": "stdout",
     "output_type": "stream",
     "text": [
      "None\n"
     ]
    }
   ],
   "source": [
    "print(lesson_package.__file__)"
   ]
  },
  {
   "cell_type": "code",
   "execution_count": 37,
   "metadata": {},
   "outputs": [
    {
     "name": "stdout",
     "output_type": "stream",
     "text": [
      "D:\\Python\\Python入門3\\config.py\n"
     ]
    }
   ],
   "source": [
    "print(config.__file__)"
   ]
  },
  {
   "cell_type": "code",
   "execution_count": 39,
   "metadata": {},
   "outputs": [
    {
     "name": "stdout",
     "output_type": "stream",
     "text": [
      "['D:\\\\Python\\\\Python入門3', 'C:\\\\Users\\\\mikam\\\\Anaconda3\\\\python37.zip', 'C:\\\\Users\\\\mikam\\\\Anaconda3\\\\DLLs', 'C:\\\\Users\\\\mikam\\\\Anaconda3\\\\lib', 'C:\\\\Users\\\\mikam\\\\Anaconda3', '', 'C:\\\\Users\\\\mikam\\\\Anaconda3\\\\lib\\\\site-packages', 'C:\\\\Users\\\\mikam\\\\Anaconda3\\\\lib\\\\site-packages\\\\win32', 'C:\\\\Users\\\\mikam\\\\Anaconda3\\\\lib\\\\site-packages\\\\win32\\\\lib', 'C:\\\\Users\\\\mikam\\\\Anaconda3\\\\lib\\\\site-packages\\\\Pythonwin', 'C:\\\\Users\\\\mikam\\\\Anaconda3\\\\lib\\\\site-packages\\\\IPython\\\\extensions', 'C:\\\\Users\\\\mikam\\\\.ipython']\n"
     ]
    }
   ],
   "source": [
    "#pythonでインポートしてつかるpathを調べるには\n",
    "print(sys.path)"
   ]
  },
  {
   "cell_type": "markdown",
   "metadata": {},
   "source": [
    "## 77.__name__と__main__"
   ]
  },
  {
   "cell_type": "code",
   "execution_count": 3,
   "metadata": {},
   "outputs": [
    {
     "name": "stdout",
     "output_type": "stream",
     "text": [
      "__main__\n"
     ]
    }
   ],
   "source": [
    "#自分がmainで使用している.pyでprint(__name__)とすると、__main__となる\n",
    "print(__name__)"
   ]
  },
  {
   "cell_type": "code",
   "execution_count": 4,
   "metadata": {},
   "outputs": [
    {
     "name": "stdout",
     "output_type": "stream",
     "text": [
      "config: config\n"
     ]
    }
   ],
   "source": [
    "# importしたファイルだと__main__でなくファイル名が表示\n",
    "import config\n"
   ]
  },
  {
   "cell_type": "code",
   "execution_count": 1,
   "metadata": {},
   "outputs": [],
   "source": [
    "# importなどで読み込まれる.pyで実行されたくない場合は\n",
    "#　if __name__== '__main__':\n",
    "#　と記載すると、そのファイルを直接開いた時に実行される"
   ]
  },
  {
   "cell_type": "code",
   "execution_count": 2,
   "metadata": {},
   "outputs": [
    {
     "data": {
      "text/plain": [
       "\"\\n通常の.pyファイルを作成する場合、\\ndef main():\\n    以下に実行プログラムを書く\\n    \\n最後に    \\nif__name__ =='__main__'\\n    main()\\n\\nとしておけば、他から.pyファイルをimportされても\\nトラブルにならない\\n\""
      ]
     },
     "execution_count": 2,
     "metadata": {},
     "output_type": "execute_result"
    }
   ],
   "source": [
    "\"\"\"\n",
    "通常の.pyファイルを作成する場合、\n",
    "def main():\n",
    "    以下に実行プログラムを書く\n",
    "    \n",
    "最後に    \n",
    "if__name__ =='__main__'\n",
    "    main()\n",
    "\n",
    "としておけば、他から.pyファイルをimportされても\n",
    "トラブルにならない\n",
    "\"\"\"\n"
   ]
  },
  {
   "cell_type": "markdown",
   "metadata": {},
   "source": [
    "# セクション7：オブジェクトとクラス"
   ]
  },
  {
   "cell_type": "markdown",
   "metadata": {},
   "source": [
    "## 78. クラスの定義"
   ]
  },
  {
   "cell_type": "code",
   "execution_count": 1,
   "metadata": {},
   "outputs": [],
   "source": [
    "class Person(object):\n",
    "    def say_something(self):\n",
    "        print('hello')        "
   ]
  },
  {
   "cell_type": "code",
   "execution_count": 3,
   "metadata": {},
   "outputs": [
    {
     "name": "stdout",
     "output_type": "stream",
     "text": [
      "hello\n"
     ]
    }
   ],
   "source": [
    "#ますオブジェクトを作り、その変数で関数を実行する\n",
    "person = Person()\n",
    "person.say_something()\n",
    "#関数を同じグループで集めたもの(定義したもの)がオブジェクト指向"
   ]
  },
  {
   "cell_type": "code",
   "execution_count": 4,
   "metadata": {},
   "outputs": [],
   "source": [
    "#クラスの引数を書かなくても良いが、codeスタイルでは書くべき\n",
    "class Person():\n",
    "    def say_something(self):\n",
    "        print('hello')        "
   ]
  },
  {
   "cell_type": "markdown",
   "metadata": {},
   "source": [
    "## 79. クラスの初期化とクラス変数"
   ]
  },
  {
   "cell_type": "code",
   "execution_count": 5,
   "metadata": {},
   "outputs": [],
   "source": [
    "# __init__は最初に実行され、初期設定を記載する\n",
    "class Person(object):\n",
    "    def __init__(self):\n",
    "        print('First')\n",
    "        \n",
    "    def say_something(self):\n",
    "        print('hello')"
   ]
  },
  {
   "cell_type": "code",
   "execution_count": 6,
   "metadata": {},
   "outputs": [
    {
     "name": "stdout",
     "output_type": "stream",
     "text": [
      "First\n"
     ]
    }
   ],
   "source": [
    "person = Person()"
   ]
  },
  {
   "cell_type": "code",
   "execution_count": 7,
   "metadata": {},
   "outputs": [],
   "source": [
    "# selfは関数自身のデータを保持するためのもの\n",
    "class Person(object):\n",
    "    def __init__(self, name):\n",
    "        self.name = name\n",
    "        print(self.name)\n",
    "        \n",
    "    def say_something(self):\n",
    "        print('hello')"
   ]
  },
  {
   "cell_type": "code",
   "execution_count": 8,
   "metadata": {},
   "outputs": [
    {
     "name": "stdout",
     "output_type": "stream",
     "text": [
      "Mike\n"
     ]
    }
   ],
   "source": [
    "person = Person('Mike')"
   ]
  },
  {
   "cell_type": "code",
   "execution_count": 12,
   "metadata": {},
   "outputs": [],
   "source": [
    "# selfは他の関数からも呼び出せる\n",
    "class Person(object):\n",
    "    def __init__(self, name):\n",
    "        self.name = name        \n",
    "        \n",
    "    def say_something(self):\n",
    "        print('I am {}. hello'.format(self.name))"
   ]
  },
  {
   "cell_type": "code",
   "execution_count": 13,
   "metadata": {},
   "outputs": [
    {
     "name": "stdout",
     "output_type": "stream",
     "text": [
      "I am Yasuo. hello\n"
     ]
    }
   ],
   "source": [
    "person = Person('Yasuo')\n",
    "person.say_something()"
   ]
  },
  {
   "cell_type": "code",
   "execution_count": 17,
   "metadata": {},
   "outputs": [],
   "source": [
    "# selfでクラス内の関数も呼び出せる\n",
    "class Person(object):\n",
    "    def __init__(self, name):\n",
    "        self.name = name        \n",
    "        \n",
    "    def say_something(self):\n",
    "        print('I am {}. hello'.format(self.name))\n",
    "        #クラス内から関数を呼び出し\n",
    "        self.run()\n",
    "        \n",
    "    def run(self):\n",
    "        print('run')"
   ]
  },
  {
   "cell_type": "code",
   "execution_count": 18,
   "metadata": {},
   "outputs": [
    {
     "name": "stdout",
     "output_type": "stream",
     "text": [
      "I am Yasuo. hello\n",
      "run\n"
     ]
    }
   ],
   "source": [
    "person = Person('Yasuo')\n",
    "person.say_something()"
   ]
  },
  {
   "cell_type": "code",
   "execution_count": 20,
   "metadata": {},
   "outputs": [
    {
     "name": "stdout",
     "output_type": "stream",
     "text": [
      "I am Yasuo. hello\n",
      "runrunrunrunrunrunrunrunrunrun\n"
     ]
    }
   ],
   "source": [
    "# 引数も使える\n",
    "class Person(object):\n",
    "    def __init__(self, name):\n",
    "        self.name = name        \n",
    "        \n",
    "    def say_something(self):\n",
    "        print('I am {}. hello'.format(self.name))\n",
    "        #クラス内から関数を呼び出し,引数を入れる\n",
    "        self.run(10)\n",
    "    \n",
    "    #k関数で引数を作る\n",
    "    def run(self, num):\n",
    "        print('run' * num)\n",
    "        \n",
    "person = Person('Yasuo')\n",
    "person.say_something()        "
   ]
  },
  {
   "cell_type": "markdown",
   "metadata": {},
   "source": [
    "## 80. コンストラクタとデストラクタ"
   ]
  },
  {
   "cell_type": "code",
   "execution_count": 23,
   "metadata": {},
   "outputs": [],
   "source": [
    "# def __init__(self)で初期化することをコンストラクタ\n",
    "# def __del__(self)でオブジェクトが終了するときはデストラクタ\n",
    "class Person(object):\n",
    "    def __init__(self, name):\n",
    "        self.name = name        \n",
    "        \n",
    "    def say_something(self):\n",
    "        print('I am {}. hello'.format(self.name))        \n",
    "        self.run(10)\n",
    "    \n",
    "    \n",
    "    def run(self, num):\n",
    "        print('run' * num)\n",
    "    \n",
    "    def __del__(self):\n",
    "        print('good bye')   "
   ]
  },
  {
   "cell_type": "code",
   "execution_count": 24,
   "metadata": {},
   "outputs": [
    {
     "name": "stdout",
     "output_type": "stream",
     "text": [
      "good bye\n",
      "I am Yasuo. hello\n",
      "runrunrunrunrunrunrunrunrunrun\n"
     ]
    }
   ],
   "source": [
    "person = Person('Yasuo')\n",
    "person.say_something()    "
   ]
  },
  {
   "cell_type": "markdown",
   "metadata": {},
   "source": [
    "## 81.クラスの継承"
   ]
  },
  {
   "cell_type": "code",
   "execution_count": 31,
   "metadata": {},
   "outputs": [],
   "source": [
    "# クラスの継承は他オブジェクトの機能を引き継いで拡張する\n",
    "class Car(object):\n",
    "    def run(self):\n",
    "        print('run')\n",
    "\n",
    "class ToyotaCar(Car):\n",
    "    pass\n",
    "\n",
    "class TeslaCar(Car):\n",
    "    def auto_run(self):\n",
    "        print('auto run')"
   ]
  },
  {
   "cell_type": "code",
   "execution_count": 28,
   "metadata": {},
   "outputs": [
    {
     "name": "stdout",
     "output_type": "stream",
     "text": [
      "run\n"
     ]
    }
   ],
   "source": [
    "car = Car()\n",
    "car.run()"
   ]
  },
  {
   "cell_type": "code",
   "execution_count": 30,
   "metadata": {},
   "outputs": [
    {
     "name": "stdout",
     "output_type": "stream",
     "text": [
      "run\n"
     ]
    }
   ],
   "source": [
    "#クラスの継承によりrunメソッドが実行される\n",
    "toyota_car = ToyotaCar()\n",
    "toyota_car.run()"
   ]
  },
  {
   "cell_type": "code",
   "execution_count": 33,
   "metadata": {},
   "outputs": [
    {
     "name": "stdout",
     "output_type": "stream",
     "text": [
      "run\n",
      "auto run\n"
     ]
    }
   ],
   "source": [
    "# teslaにしかないauto_runメソッドも呼び出せる\n",
    "tesla_car = TeslaCar()\n",
    "tesla_car.run()\n",
    "tesla_car.auto_run()"
   ]
  },
  {
   "cell_type": "markdown",
   "metadata": {},
   "source": [
    "## 82.メソッドのオーバーライドとsuperによる親のメソッドの呼び出し"
   ]
  },
  {
   "cell_type": "code",
   "execution_count": 35,
   "metadata": {},
   "outputs": [],
   "source": [
    "# クラス継承してもメソッドを再定義すれば上書きされる\n",
    "class Car(object):\n",
    "    def run(self):\n",
    "        print('run')\n",
    "\n",
    "class ToyotaCar(Car):\n",
    "    def run(self):\n",
    "        print('fast')\n",
    "        \n",
    "class TeslaCar(Car):\n",
    "    def run(self):\n",
    "        print('super fast')  \n",
    "    \n",
    "    def auto_run(self):\n",
    "        print('auto run')"
   ]
  },
  {
   "cell_type": "code",
   "execution_count": 36,
   "metadata": {},
   "outputs": [
    {
     "name": "stdout",
     "output_type": "stream",
     "text": [
      "fast\n",
      "###################\n",
      "super fast\n"
     ]
    }
   ],
   "source": [
    "toyota_car = ToyotaCar()\n",
    "toyota_car.run()\n",
    "print('###################')\n",
    "tesla_car = TeslaCar()\n",
    "tesla_car.run()"
   ]
  },
  {
   "cell_type": "code",
   "execution_count": 37,
   "metadata": {},
   "outputs": [],
   "source": [
    "class Car(object):\n",
    "    def __init__(self, model = None):\n",
    "        self.model = model\n",
    "    def run(self):\n",
    "        print('run')\n",
    "\n",
    "class ToyotaCar(Car):\n",
    "    def run(self):\n",
    "        print('fast')\n",
    "        \n",
    "class TeslaCar(Car):\n",
    "    def run(self):\n",
    "        print('super fast')  \n",
    "    \n",
    "    def auto_run(self):\n",
    "        print('auto run')"
   ]
  },
  {
   "cell_type": "code",
   "execution_count": 41,
   "metadata": {},
   "outputs": [
    {
     "name": "stdout",
     "output_type": "stream",
     "text": [
      "Lexus\n",
      "fast\n",
      "###################\n",
      "Model S\n",
      "super fast\n",
      "auto run\n"
     ]
    }
   ],
   "source": [
    "# クラスの変数も.model(.を使う)で呼び出せる\n",
    "toyota_car = ToyotaCar('Lexus')\n",
    "print(toyota_car.model)\n",
    "toyota_car.run()\n",
    "print('###################')\n",
    "tesla_car = TeslaCar('Model S')\n",
    "print(tesla_car.model)\n",
    "tesla_car.run()\n",
    "tesla_car.auto_run()"
   ]
  },
  {
   "cell_type": "code",
   "execution_count": 42,
   "metadata": {},
   "outputs": [],
   "source": [
    "# クラス継承後、そのクラスで__init__を作る場合(上書きする場合)、superを使うと親クラスのinitを呼び出す事が出来き,\n",
    "# initを上書きできる\n",
    "\n",
    "class Car(object):\n",
    "    def __init__(self, model = None):\n",
    "        self.model = model\n",
    "    def run(self):\n",
    "        print('run')\n",
    "\n",
    "class ToyotaCar(Car):\n",
    "    def run(self):\n",
    "        print('fast')\n",
    "        \n",
    "class TeslaCar(Car):\n",
    "    def __init__(self, model ='Model S', enabel_auto_run =False):\n",
    "        #self.model = model\n",
    "        super().__init__(model)\n",
    "        self.enable_auto_run = enable_auto_run\n",
    "        \n",
    "    def run(self):\n",
    "        print('super fast')  \n",
    "    \n",
    "    def auto_run(self):\n",
    "        print('auto run')"
   ]
  },
  {
   "cell_type": "markdown",
   "metadata": {},
   "source": [
    "## 83.プロパティを使った属性の設定"
   ]
  },
  {
   "cell_type": "code",
   "execution_count": 45,
   "metadata": {},
   "outputs": [],
   "source": [
    "class Car(object):\n",
    "    def __init__(self, model = None):\n",
    "        self.model = model\n",
    "    def run(self):\n",
    "        print('run')\n",
    "\n",
    "class ToyotaCar(Car):\n",
    "    def run(self):\n",
    "        print('fast')\n",
    "        \n",
    "class TeslaCar(Car):\n",
    "    def __init__(self, model ='Model S', enable_auto_run =False):\n",
    "        #self.model = model\n",
    "        super().__init__(model)\n",
    "        self.enable_auto_run = enable_auto_run\n",
    "        \n",
    "    def run(self):\n",
    "        print('super fast')  \n",
    "    \n",
    "    def auto_run(self):\n",
    "        print('auto run')"
   ]
  },
  {
   "cell_type": "code",
   "execution_count": 46,
   "metadata": {},
   "outputs": [
    {
     "name": "stdout",
     "output_type": "stream",
     "text": [
      "False\n"
     ]
    }
   ],
   "source": [
    "tesla_car = TeslaCar('Model S')\n",
    "print(tesla_car.enable_auto_run)"
   ]
  },
  {
   "cell_type": "code",
   "execution_count": 47,
   "metadata": {},
   "outputs": [
    {
     "name": "stdout",
     "output_type": "stream",
     "text": [
      "True\n"
     ]
    }
   ],
   "source": [
    "# 通常だとオブジェクト内の変数を書き換える事が出来る\n",
    "tesla_car = TeslaCar('Model S')\n",
    "tesla_car.enable_auto_run = True\n",
    "print(tesla_car.enable_auto_run)"
   ]
  },
  {
   "cell_type": "code",
   "execution_count": 48,
   "metadata": {},
   "outputs": [],
   "source": [
    "# @propertyのゲッターで関数定義すれば読み込みは出来るが書き換える事は不可\n",
    "\n",
    "class Car(object):\n",
    "    def __init__(self, model = None):\n",
    "        self.model = model\n",
    "    def run(self):\n",
    "        print('run')\n",
    "\n",
    "class ToyotaCar(Car):\n",
    "    def run(self):\n",
    "        print('fast')\n",
    "        \n",
    "class TeslaCar(Car):\n",
    "    def __init__(self, model ='Model S', enable_auto_run =False):\n",
    "        #self.model = model\n",
    "        super().__init__(model)\n",
    "        # self.enable_auto_runをself._enable_auto_runに変える\n",
    "        self._enable_auto_run = enable_auto_run\n",
    "    \n",
    "    @property\n",
    "    def enable_auto_run(self):\n",
    "        return self._enable_auto_run\n",
    "        \n",
    "    def run(self):\n",
    "        print('super fast')  \n",
    "    \n",
    "    def auto_run(self):\n",
    "        print('auto run')"
   ]
  },
  {
   "cell_type": "code",
   "execution_count": 52,
   "metadata": {},
   "outputs": [
    {
     "name": "stdout",
     "output_type": "stream",
     "text": [
      "False\n"
     ]
    },
    {
     "ename": "AttributeError",
     "evalue": "can't set attribute",
     "output_type": "error",
     "traceback": [
      "\u001b[1;31m---------------------------------------------------------------------------\u001b[0m",
      "\u001b[1;31mAttributeError\u001b[0m                            Traceback (most recent call last)",
      "\u001b[1;32m<ipython-input-52-bc3396a41816>\u001b[0m in \u001b[0;36m<module>\u001b[1;34m\u001b[0m\n\u001b[0;32m      2\u001b[0m \u001b[0mtesla_car\u001b[0m \u001b[1;33m=\u001b[0m \u001b[0mTeslaCar\u001b[0m\u001b[1;33m(\u001b[0m\u001b[1;34m'Model S'\u001b[0m\u001b[1;33m)\u001b[0m\u001b[1;33m\u001b[0m\u001b[1;33m\u001b[0m\u001b[0m\n\u001b[0;32m      3\u001b[0m \u001b[0mprint\u001b[0m\u001b[1;33m(\u001b[0m\u001b[0mtesla_car\u001b[0m\u001b[1;33m.\u001b[0m\u001b[0menable_auto_run\u001b[0m\u001b[1;33m)\u001b[0m\u001b[1;33m\u001b[0m\u001b[1;33m\u001b[0m\u001b[0m\n\u001b[1;32m----> 4\u001b[1;33m \u001b[0mtesla_car\u001b[0m\u001b[1;33m.\u001b[0m\u001b[0menable_auto_run\u001b[0m \u001b[1;33m=\u001b[0m \u001b[1;32mTrue\u001b[0m\u001b[1;33m\u001b[0m\u001b[1;33m\u001b[0m\u001b[0m\n\u001b[0m",
      "\u001b[1;31mAttributeError\u001b[0m: can't set attribute"
     ]
    }
   ],
   "source": [
    "# propertyが付くと関数呼び出しの時に()が必要ない\n",
    "tesla_car = TeslaCar('Model S')\n",
    "print(tesla_car.enable_auto_run)\n",
    "tesla_car.enable_auto_run = True"
   ]
  },
  {
   "cell_type": "code",
   "execution_count": 53,
   "metadata": {},
   "outputs": [],
   "source": [
    "# @setterのセッターで関数定義すれば書き換えが出来る\n",
    "# セッターはpropertyで設定している関数に.swtterとする事で引数を入れた値を書き換える事ができる\n",
    "\n",
    "class Car(object):\n",
    "    def __init__(self, model = None):\n",
    "        self.model = model\n",
    "    def run(self):\n",
    "        print('run')\n",
    "\n",
    "class ToyotaCar(Car):\n",
    "    def run(self):\n",
    "        print('fast')\n",
    "        \n",
    "class TeslaCar(Car):\n",
    "    def __init__(self, model ='Model S', enable_auto_run =False):\n",
    "        #self.model = model\n",
    "        super().__init__(model)\n",
    "        self._enable_auto_run = enable_auto_run\n",
    "    \n",
    "    @property\n",
    "    def enable_auto_run(self):\n",
    "        return self._enable_auto_run\n",
    "    \n",
    "    @enable_auto_run.setter\n",
    "    def enable_auto_run(self, is_enable):\n",
    "        self._enable_auto_run = is_enable\n",
    "        \n",
    "    def run(self):\n",
    "        print('super fast')  \n",
    "    \n",
    "    def auto_run(self):\n",
    "        print('auto run')"
   ]
  },
  {
   "cell_type": "code",
   "execution_count": 54,
   "metadata": {},
   "outputs": [
    {
     "name": "stdout",
     "output_type": "stream",
     "text": [
      "False\n",
      "True\n"
     ]
    }
   ],
   "source": [
    "tesla_car = TeslaCar('Model S')\n",
    "print(tesla_car.enable_auto_run)\n",
    "tesla_car.enable_auto_run = True\n",
    "print(tesla_car.enable_auto_run)"
   ]
  },
  {
   "cell_type": "code",
   "execution_count": 60,
   "metadata": {},
   "outputs": [],
   "source": [
    "#セッターの使用所はある条件が合致した時に書き換えていい場合\n",
    "\n",
    "class Car(object):\n",
    "    def __init__(self, model = None):\n",
    "        self.model = model\n",
    "    def run(self):\n",
    "        print('run')\n",
    "\n",
    "class ToyotaCar(Car):\n",
    "    def run(self):\n",
    "        print('fast')\n",
    "        \n",
    "class TeslaCar(Car):\n",
    "    def __init__(self, model ='Model S',\n",
    "                 enable_auto_run =False,\n",
    "                 passwd='123'):\n",
    "        #self.model = model\n",
    "        super().__init__(model)\n",
    "        self._enable_auto_run = enable_auto_run\n",
    "        self.passwd = passwd\n",
    "    \n",
    "    @property\n",
    "    def enable_auto_run(self):\n",
    "        return self._enable_auto_run\n",
    "    \n",
    "    @enable_auto_run.setter\n",
    "    def enable_auto_run(self, is_enable):\n",
    "        if self.passwd == '456':\n",
    "            self._enable_auto_run = is_enable\n",
    "        else:\n",
    "            raise ValueError\n",
    "            \n",
    "    def run(self):\n",
    "        print('super fast')  \n",
    "    \n",
    "    def auto_run(self):\n",
    "        print('auto run')"
   ]
  },
  {
   "cell_type": "code",
   "execution_count": 63,
   "metadata": {},
   "outputs": [
    {
     "name": "stdout",
     "output_type": "stream",
     "text": [
      "False\n",
      "True\n"
     ]
    }
   ],
   "source": [
    "tesla_car = TeslaCar('Model S',passwd='456')\n",
    "print(tesla_car.enable_auto_run)\n",
    "tesla_car.enable_auto_run = True\n",
    "print(tesla_car.enable_auto_run)"
   ]
  },
  {
   "cell_type": "code",
   "execution_count": 67,
   "metadata": {},
   "outputs": [],
   "source": [
    "# self._enable_auto_run = enable_auto_runを\n",
    "# self.__enable_auto_run = enable_auto_runにすると\n",
    "# 外からはアクセスできない、classからはアクセス可能\n",
    "\n",
    "class Car(object):\n",
    "    def __init__(self, model = None):\n",
    "        self.model = model\n",
    "    def run(self):\n",
    "        print('run')\n",
    "\n",
    "class ToyotaCar(Car):\n",
    "    def run(self):\n",
    "        print('fast')\n",
    "        \n",
    "class TeslaCar(Car):\n",
    "    def __init__(self, model ='Model S',\n",
    "                 enable_auto_run =False,\n",
    "                 passwd='123'):\n",
    "        super().__init__(model)\n",
    "        # ここで__にしている\n",
    "        self.__enable_auto_run = enable_auto_run\n",
    "        self.passwd = passwd\n",
    "    \n",
    "    @property\n",
    "    def enable_auto_run(self):\n",
    "        return self._enable_auto_run\n",
    "    \n",
    "    @enable_auto_run.setter\n",
    "    def enable_auto_run(self, is_enable):\n",
    "        if self.passwd == '456':\n",
    "            self._enable_auto_run = is_enable\n",
    "        else:\n",
    "            raise ValueError\n",
    "            \n",
    "    def run(self):\n",
    "        print(self.__enable_auto_run)\n",
    "        print('super fast')  \n",
    "    \n",
    "    def auto_run(self):\n",
    "        print('auto run')"
   ]
  },
  {
   "cell_type": "code",
   "execution_count": 69,
   "metadata": {},
   "outputs": [
    {
     "name": "stdout",
     "output_type": "stream",
     "text": [
      "False\n",
      "super fast\n"
     ]
    },
    {
     "ename": "AttributeError",
     "evalue": "'TeslaCar' object has no attribute '__enable_auto_run'",
     "output_type": "error",
     "traceback": [
      "\u001b[1;31m---------------------------------------------------------------------------\u001b[0m",
      "\u001b[1;31mAttributeError\u001b[0m                            Traceback (most recent call last)",
      "\u001b[1;32m<ipython-input-69-0c62b0453131>\u001b[0m in \u001b[0;36m<module>\u001b[1;34m\u001b[0m\n\u001b[0;32m      1\u001b[0m \u001b[0mtesla_car\u001b[0m \u001b[1;33m=\u001b[0m \u001b[0mTeslaCar\u001b[0m\u001b[1;33m(\u001b[0m\u001b[1;34m'Model S'\u001b[0m\u001b[1;33m,\u001b[0m\u001b[0mpasswd\u001b[0m\u001b[1;33m=\u001b[0m\u001b[1;34m'456'\u001b[0m\u001b[1;33m)\u001b[0m\u001b[1;33m\u001b[0m\u001b[1;33m\u001b[0m\u001b[0m\n\u001b[0;32m      2\u001b[0m \u001b[0mtesla_car\u001b[0m\u001b[1;33m.\u001b[0m\u001b[0mrun\u001b[0m\u001b[1;33m(\u001b[0m\u001b[1;33m)\u001b[0m\u001b[1;33m\u001b[0m\u001b[1;33m\u001b[0m\u001b[0m\n\u001b[1;32m----> 3\u001b[1;33m \u001b[0mprint\u001b[0m\u001b[1;33m(\u001b[0m\u001b[0mtesla_car\u001b[0m\u001b[1;33m.\u001b[0m\u001b[0m__enable_auto_run\u001b[0m\u001b[1;33m)\u001b[0m\u001b[1;33m\u001b[0m\u001b[1;33m\u001b[0m\u001b[0m\n\u001b[0m",
      "\u001b[1;31mAttributeError\u001b[0m: 'TeslaCar' object has no attribute '__enable_auto_run'"
     ]
    }
   ],
   "source": [
    "tesla_car = TeslaCar('Model S',passwd='456')\n",
    "tesla_car.run()\n",
    "print(tesla_car.__enable_auto_run)\n"
   ]
  },
  {
   "cell_type": "markdown",
   "metadata": {},
   "source": [
    "## 84.クラスを構造体として扱う時の注意点　"
   ]
  },
  {
   "cell_type": "code",
   "execution_count": 70,
   "metadata": {},
   "outputs": [
    {
     "name": "stdout",
     "output_type": "stream",
     "text": [
      "kayo 43\n"
     ]
    }
   ],
   "source": [
    "# クラスを定義後、後からオブジェクトに変数を作って代入出来る\n",
    "\n",
    "class T(object):\n",
    "    pass\n",
    "\n",
    "t = T()\n",
    "t.name ='kayo'\n",
    "t.age = 43\n",
    "print(t.name, t.age)\n"
   ]
  },
  {
   "cell_type": "markdown",
   "metadata": {},
   "source": [
    "## 85.ダックタイピング"
   ]
  },
  {
   "cell_type": "code",
   "execution_count": 79,
   "metadata": {},
   "outputs": [
    {
     "ename": "Exception",
     "evalue": "No drive",
     "output_type": "error",
     "traceback": [
      "\u001b[1;31m---------------------------------------------------------------------------\u001b[0m",
      "\u001b[1;31mException\u001b[0m                                 Traceback (most recent call last)",
      "\u001b[1;32m<ipython-input-79-2484fc09e95c>\u001b[0m in \u001b[0;36m<module>\u001b[1;34m\u001b[0m\n\u001b[0;32m     43\u001b[0m \u001b[1;33m\u001b[0m\u001b[0m\n\u001b[0;32m     44\u001b[0m \u001b[0mcar\u001b[0m \u001b[1;33m=\u001b[0m \u001b[0mCar\u001b[0m\u001b[1;33m(\u001b[0m\u001b[1;33m)\u001b[0m\u001b[1;33m\u001b[0m\u001b[1;33m\u001b[0m\u001b[0m\n\u001b[1;32m---> 45\u001b[1;33m \u001b[0mcar\u001b[0m\u001b[1;33m.\u001b[0m\u001b[0mride\u001b[0m\u001b[1;33m(\u001b[0m\u001b[0mbaby\u001b[0m\u001b[1;33m)\u001b[0m\u001b[1;33m\u001b[0m\u001b[1;33m\u001b[0m\u001b[0m\n\u001b[0m",
      "\u001b[1;32m<ipython-input-79-2484fc09e95c>\u001b[0m in \u001b[0;36mride\u001b[1;34m(self, person)\u001b[0m\n\u001b[0;32m     39\u001b[0m         \u001b[0mprint\u001b[0m\u001b[1;33m(\u001b[0m\u001b[1;34m'run'\u001b[0m\u001b[1;33m)\u001b[0m\u001b[1;33m\u001b[0m\u001b[1;33m\u001b[0m\u001b[0m\n\u001b[0;32m     40\u001b[0m     \u001b[1;32mdef\u001b[0m \u001b[0mride\u001b[0m\u001b[1;33m(\u001b[0m\u001b[0mself\u001b[0m\u001b[1;33m,\u001b[0m \u001b[0mperson\u001b[0m\u001b[1;33m)\u001b[0m\u001b[1;33m:\u001b[0m\u001b[1;33m\u001b[0m\u001b[1;33m\u001b[0m\u001b[0m\n\u001b[1;32m---> 41\u001b[1;33m         \u001b[0mperson\u001b[0m\u001b[1;33m.\u001b[0m\u001b[0mdrive\u001b[0m\u001b[1;33m(\u001b[0m\u001b[1;33m)\u001b[0m\u001b[1;33m\u001b[0m\u001b[1;33m\u001b[0m\u001b[0m\n\u001b[0m\u001b[0;32m     42\u001b[0m \u001b[1;33m\u001b[0m\u001b[0m\n\u001b[0;32m     43\u001b[0m \u001b[1;33m\u001b[0m\u001b[0m\n",
      "\u001b[1;32m<ipython-input-79-2484fc09e95c>\u001b[0m in \u001b[0;36mdrive\u001b[1;34m(self)\u001b[0m\n\u001b[0;32m     10\u001b[0m             \u001b[0mprint\u001b[0m\u001b[1;33m(\u001b[0m\u001b[1;34m'ok'\u001b[0m\u001b[1;33m)\u001b[0m\u001b[1;33m\u001b[0m\u001b[1;33m\u001b[0m\u001b[0m\n\u001b[0;32m     11\u001b[0m         \u001b[1;32melse\u001b[0m\u001b[1;33m:\u001b[0m\u001b[1;33m\u001b[0m\u001b[1;33m\u001b[0m\u001b[0m\n\u001b[1;32m---> 12\u001b[1;33m             \u001b[1;32mraise\u001b[0m \u001b[0mException\u001b[0m\u001b[1;33m(\u001b[0m\u001b[1;34m'No drive'\u001b[0m\u001b[1;33m)\u001b[0m\u001b[1;33m\u001b[0m\u001b[1;33m\u001b[0m\u001b[0m\n\u001b[0m\u001b[0;32m     13\u001b[0m \u001b[1;33m\u001b[0m\u001b[0m\n\u001b[0;32m     14\u001b[0m \u001b[1;32mclass\u001b[0m \u001b[0mBaby\u001b[0m\u001b[1;33m(\u001b[0m\u001b[0mPerson\u001b[0m\u001b[1;33m)\u001b[0m\u001b[1;33m:\u001b[0m\u001b[1;33m\u001b[0m\u001b[1;33m\u001b[0m\u001b[0m\n",
      "\u001b[1;31mException\u001b[0m: No drive"
     ]
    }
   ],
   "source": [
    "# クラスが異なっていても、同じ名前のメソッドを使用することで\n",
    "# オブジェクトを切り替えて使うことができることを、ダックタイピングという\n",
    "\n",
    "class Person(object):\n",
    "    def __init__(self, age=1):\n",
    "        self.age = age\n",
    "        \n",
    "    def drive(self):\n",
    "        if self.age >=18:\n",
    "            print('ok')\n",
    "        else:\n",
    "            raise Exception('No drive')\n",
    "            \n",
    "class Baby(Person):\n",
    "    def __init__(self, age=1):\n",
    "        if age < 18:\n",
    "            super().__init__(age)\n",
    "            \n",
    "        else:\n",
    "            raise ValueError\n",
    "            \n",
    "class Adult(Person):\n",
    "    def __init__(self, age=18):\n",
    "        if age >= 18:\n",
    "            super().__init__(age)\n",
    "            \n",
    "        else:\n",
    "            raise ValueError            \n",
    "\n",
    "            \n",
    "baby = Baby()\n",
    "adult = Adult()          \n",
    "\n",
    "\n",
    "class Car(object):\n",
    "    def __init__(self, model = None):\n",
    "        self.model = model\n",
    "    def run(self):\n",
    "        print('run')\n",
    "    def ride(self, person):\n",
    "        person.drive()        \n",
    "        \n",
    "        \n",
    "car = Car()\n",
    "car.ride(baby)"
   ]
  },
  {
   "cell_type": "markdown",
   "metadata": {},
   "source": [
    "## 86.抽象クラス"
   ]
  },
  {
   "cell_type": "code",
   "execution_count": 81,
   "metadata": {},
   "outputs": [
    {
     "ename": "Exception",
     "evalue": "No drive",
     "output_type": "error",
     "traceback": [
      "\u001b[1;31m---------------------------------------------------------------------------\u001b[0m",
      "\u001b[1;31mException\u001b[0m                                 Traceback (most recent call last)",
      "\u001b[1;32m<ipython-input-81-6d4c19bc8789>\u001b[0m in \u001b[0;36m<module>\u001b[1;34m\u001b[0m\n\u001b[0;32m     36\u001b[0m \u001b[1;33m\u001b[0m\u001b[0m\n\u001b[0;32m     37\u001b[0m \u001b[0mbaby\u001b[0m \u001b[1;33m=\u001b[0m \u001b[0mBaby\u001b[0m\u001b[1;33m(\u001b[0m\u001b[1;33m)\u001b[0m\u001b[1;33m\u001b[0m\u001b[1;33m\u001b[0m\u001b[0m\n\u001b[1;32m---> 38\u001b[1;33m \u001b[0mbaby\u001b[0m\u001b[1;33m.\u001b[0m\u001b[0mdrive\u001b[0m\u001b[1;33m(\u001b[0m\u001b[1;33m)\u001b[0m\u001b[1;33m\u001b[0m\u001b[1;33m\u001b[0m\u001b[0m\n\u001b[0m\u001b[0;32m     39\u001b[0m \u001b[1;33m\u001b[0m\u001b[0m\n\u001b[0;32m     40\u001b[0m \u001b[1;33m\u001b[0m\u001b[0m\n",
      "\u001b[1;32m<ipython-input-81-6d4c19bc8789>\u001b[0m in \u001b[0;36mdrive\u001b[1;34m(self)\u001b[0m\n\u001b[0;32m     21\u001b[0m \u001b[1;33m\u001b[0m\u001b[0m\n\u001b[0;32m     22\u001b[0m     \u001b[1;32mdef\u001b[0m \u001b[0mdrive\u001b[0m\u001b[1;33m(\u001b[0m\u001b[0mself\u001b[0m\u001b[1;33m)\u001b[0m\u001b[1;33m:\u001b[0m\u001b[1;33m\u001b[0m\u001b[1;33m\u001b[0m\u001b[0m\n\u001b[1;32m---> 23\u001b[1;33m         \u001b[1;32mraise\u001b[0m \u001b[0mException\u001b[0m\u001b[1;33m(\u001b[0m\u001b[1;34m'No drive'\u001b[0m\u001b[1;33m)\u001b[0m\u001b[1;33m\u001b[0m\u001b[1;33m\u001b[0m\u001b[0m\n\u001b[0m\u001b[0;32m     24\u001b[0m \u001b[1;33m\u001b[0m\u001b[0m\n\u001b[0;32m     25\u001b[0m \u001b[1;32mclass\u001b[0m \u001b[0mAdult\u001b[0m\u001b[1;33m(\u001b[0m\u001b[0mPerson\u001b[0m\u001b[1;33m)\u001b[0m\u001b[1;33m:\u001b[0m\u001b[1;33m\u001b[0m\u001b[1;33m\u001b[0m\u001b[0m\n",
      "\u001b[1;31mException\u001b[0m: No drive"
     ]
    }
   ],
   "source": [
    "#クラス継承で継承先で必ず定義が必要な関数がある場合、オブジェクトを作るときに記述エラーになる方法\n",
    "# 基のクラスを抽象クラスにする\n",
    "\n",
    "\n",
    "import abc\n",
    "\n",
    "# classの時にmetaclass=abc.ABCMetaとする\n",
    "class Person(metaclass=abc.ABCMeta):\n",
    "    def __init__(self, age=1):\n",
    "        self.age = age\n",
    "\n",
    "# 継承先で必要な関数の前に@abc.abstractmethodをつける        \n",
    "    @abc.abstractmethod    \n",
    "    def drive(self):\n",
    "        pass\n",
    "            \n",
    "class Baby(Person):\n",
    "    def __init__(self, age=1):\n",
    "        if age < 18:\n",
    "            super().__init__(age)\n",
    "            \n",
    "        else:\n",
    "            raise ValueError\n",
    "            \n",
    "    def drive(self):\n",
    "        raise Exception('No drive')\n",
    "            \n",
    "class Adult(Person):\n",
    "    def __init__(self, age=18):\n",
    "        if age >= 18:\n",
    "            super().__init__(age)\n",
    "            \n",
    "        else:\n",
    "            raise ValueError       \n",
    "            \n",
    "    def drive(self):\n",
    "        print('ok')            \n",
    "         \n",
    "            \n",
    "baby = Baby()\n",
    "baby.drive()        \n",
    "\n",
    "\n",
    "class Car(object):\n",
    "    def __init__(self, model = None):\n",
    "        self.model = model\n",
    "    def run(self):\n",
    "        print('run')\n",
    "    def ride(self, person):\n",
    "        person.drive()      "
   ]
  },
  {
   "cell_type": "markdown",
   "metadata": {},
   "source": [
    "## 87.多重継承"
   ]
  },
  {
   "cell_type": "code",
   "execution_count": 3,
   "metadata": {},
   "outputs": [],
   "source": [
    "class Person(object):\n",
    "    def talk(self):\n",
    "        print('talk')\n",
    "        \n",
    "class Car(object):\n",
    "    def run(self):\n",
    "        print('run')\n",
    "        \n",
    "        \n",
    "# ２つのクラスを継承する場合\n",
    "class PersonCarRobot(Person, Car):\n",
    "    def fly(self):\n",
    "        print('fly')"
   ]
  },
  {
   "cell_type": "code",
   "execution_count": 5,
   "metadata": {},
   "outputs": [
    {
     "name": "stdout",
     "output_type": "stream",
     "text": [
      "talk\n",
      "run\n",
      "fly\n"
     ]
    }
   ],
   "source": [
    "person_car_robot = PersonCarRobot()\n",
    "person_car_robot.talk()\n",
    "person_car_robot.run()\n",
    "person_car_robot.fly()"
   ]
  },
  {
   "cell_type": "code",
   "execution_count": 6,
   "metadata": {},
   "outputs": [],
   "source": [
    "class Person(object):\n",
    "    def talk(self):\n",
    "        print('talk')\n",
    "    \n",
    "    # Personにもrunを入れる\n",
    "    def run(self):\n",
    "        print('person_run')\n",
    "        \n",
    "class Car(object):\n",
    "    def run(self):\n",
    "        print('run')\n",
    "        \n",
    "\n",
    "class PersonCarRobot(Person, Car):\n",
    "    def fly(self):\n",
    "        print('fly')"
   ]
  },
  {
   "cell_type": "code",
   "execution_count": 7,
   "metadata": {},
   "outputs": [
    {
     "name": "stdout",
     "output_type": "stream",
     "text": [
      "talk\n",
      "person_run\n"
     ]
    }
   ],
   "source": [
    "# 多重継承した時は最初に書いたクラスのメソッドが優先される\n",
    "# 可能であればバグに繋がるので多重継承は使わない方がいい\n",
    "person_car_robot = PersonCarRobot()\n",
    "person_car_robot.talk()\n",
    "person_car_robot.run()"
   ]
  },
  {
   "cell_type": "markdown",
   "metadata": {},
   "source": [
    "## 88.クラス変数"
   ]
  },
  {
   "cell_type": "code",
   "execution_count": 9,
   "metadata": {},
   "outputs": [
    {
     "name": "stdout",
     "output_type": "stream",
     "text": [
      "A human\n",
      "B human\n"
     ]
    }
   ],
   "source": [
    "class Person(object):\n",
    "    \n",
    "    def __init__(self, name):\n",
    "        self.kind = 'human'\n",
    "        self.name = name\n",
    "        \n",
    "    def who_are_you(self):\n",
    "        print(self.name, self.kind)\n",
    "        \n",
    "a = Person('A')\n",
    "a.who_are_you()\n",
    "b = Person('B')\n",
    "b.who_are_you()"
   ]
  },
  {
   "cell_type": "code",
   "execution_count": 10,
   "metadata": {},
   "outputs": [
    {
     "name": "stdout",
     "output_type": "stream",
     "text": [
      "A human\n",
      "B human\n"
     ]
    }
   ],
   "source": [
    "class Person(object):\n",
    "    \n",
    "    # クラス変数を書く、全てのオブジェクトで共有できる\n",
    "    kind = 'human'\n",
    "    \n",
    "    def __init__(self, name):\n",
    "        self.name = name\n",
    "        \n",
    "    def who_are_you(self):\n",
    "        print(self.name, self.kind)\n",
    "        \n",
    "a = Person('A')\n",
    "a.who_are_you()\n",
    "b = Person('B')\n",
    "b.who_are_you()"
   ]
  },
  {
   "cell_type": "code",
   "execution_count": 15,
   "metadata": {},
   "outputs": [
    {
     "name": "stdout",
     "output_type": "stream",
     "text": [
      "['yasu', 'yasu1']\n",
      "['yasu', 'yasu1', 'kayo', 'kayo']\n"
     ]
    }
   ],
   "source": [
    "# 変数が共有されるのでリストの場合だとリストに追加される\n",
    "class T(object):\n",
    "        \n",
    "    words = []\n",
    "    \n",
    "    def add_word(self, word):\n",
    "        self.words.append(word)\n",
    "        \n",
    "c = T()\n",
    "c.add_word('yasu')\n",
    "c.add_word('yasu1')\n",
    "print(c.words)\n",
    "\n",
    "d = T()\n",
    "d.add_word('kayo')\n",
    "d.add_word('kayo')\n",
    "print(d.words)"
   ]
  },
  {
   "cell_type": "code",
   "execution_count": 16,
   "metadata": {},
   "outputs": [
    {
     "name": "stdout",
     "output_type": "stream",
     "text": [
      "['yasu', 'yasu1']\n",
      "['kayo', 'kayo']\n"
     ]
    }
   ],
   "source": [
    "class T(object):\n",
    "        \n",
    "    def __init__(self):\n",
    "        self.words = []\n",
    "    \n",
    "    def add_word(self, word):\n",
    "        self.words.append(word)\n",
    "        \n",
    "c = T()\n",
    "c.add_word('yasu')\n",
    "c.add_word('yasu1')\n",
    "print(c.words)\n",
    "\n",
    "d = T()\n",
    "d.add_word('kayo')\n",
    "d.add_word('kayo')\n",
    "print(d.words)"
   ]
  },
  {
   "cell_type": "markdown",
   "metadata": {},
   "source": [
    "## 89.クラスメソッドとスタティックメソッド　"
   ]
  },
  {
   "cell_type": "code",
   "execution_count": 17,
   "metadata": {},
   "outputs": [],
   "source": [
    "class Person(object):\n",
    "    \n",
    "    kind = 'human'\n",
    "    \n",
    "    def __init__(self):\n",
    "        self.x = 100   "
   ]
  },
  {
   "cell_type": "code",
   "execution_count": 19,
   "metadata": {},
   "outputs": [
    {
     "name": "stdout",
     "output_type": "stream",
     "text": [
      "<__main__.Person object at 0x00000250752C6888>\n",
      "<class '__main__.Person'>\n"
     ]
    }
   ],
   "source": [
    "a = Person()\n",
    "print(a)\n",
    "b = Person\n",
    "print(b)"
   ]
  },
  {
   "cell_type": "code",
   "execution_count": 20,
   "metadata": {},
   "outputs": [
    {
     "name": "stdout",
     "output_type": "stream",
     "text": [
      "human\n",
      "human\n"
     ]
    }
   ],
   "source": [
    "# bはオブジェクト化してなくてもkindの変数は呼び出せる\n",
    "a = Person()\n",
    "print(a.kind)\n",
    "b = Person\n",
    "print(b.kind)"
   ]
  },
  {
   "cell_type": "code",
   "execution_count": 21,
   "metadata": {},
   "outputs": [],
   "source": [
    "class Person(object):\n",
    "    \n",
    "    kind = 'human'\n",
    "    \n",
    "    def __init__(self):\n",
    "        self.x = 100   \n",
    "        \n",
    "    def what_is_your_kind(self):\n",
    "        return self.kind        "
   ]
  },
  {
   "cell_type": "code",
   "execution_count": 24,
   "metadata": {},
   "outputs": [
    {
     "name": "stdout",
     "output_type": "stream",
     "text": [
      "human\n"
     ]
    },
    {
     "ename": "TypeError",
     "evalue": "what_is_your_kind() missing 1 required positional argument: 'self'",
     "output_type": "error",
     "traceback": [
      "\u001b[1;31m---------------------------------------------------------------------------\u001b[0m",
      "\u001b[1;31mTypeError\u001b[0m                                 Traceback (most recent call last)",
      "\u001b[1;32m<ipython-input-24-461ed4aae148>\u001b[0m in \u001b[0;36m<module>\u001b[1;34m\u001b[0m\n\u001b[0;32m      4\u001b[0m \u001b[1;31m#オブジェクト生成前だからエラーになる\u001b[0m\u001b[1;33m\u001b[0m\u001b[1;33m\u001b[0m\u001b[1;33m\u001b[0m\u001b[0m\n\u001b[0;32m      5\u001b[0m \u001b[0mb\u001b[0m \u001b[1;33m=\u001b[0m \u001b[0mPerson\u001b[0m\u001b[1;33m\u001b[0m\u001b[1;33m\u001b[0m\u001b[0m\n\u001b[1;32m----> 6\u001b[1;33m \u001b[0mprint\u001b[0m\u001b[1;33m(\u001b[0m\u001b[0mb\u001b[0m\u001b[1;33m.\u001b[0m\u001b[0mwhat_is_your_kind\u001b[0m\u001b[1;33m(\u001b[0m\u001b[1;33m)\u001b[0m\u001b[1;33m)\u001b[0m\u001b[1;33m\u001b[0m\u001b[1;33m\u001b[0m\u001b[0m\n\u001b[0m",
      "\u001b[1;31mTypeError\u001b[0m: what_is_your_kind() missing 1 required positional argument: 'self'"
     ]
    }
   ],
   "source": [
    "a = Person()\n",
    "print(a.what_is_your_kind())\n",
    "\n",
    "#オブジェクト生成前だからエラーになる\n",
    "b = Person\n",
    "print(b.what_is_your_kind())"
   ]
  },
  {
   "cell_type": "code",
   "execution_count": 25,
   "metadata": {},
   "outputs": [],
   "source": [
    "#　クラスメソッドを使えばオブジェクト生成しなくても関数の実行が可能\n",
    "class Person(object):\n",
    "    \n",
    "    kind = 'human'\n",
    "    \n",
    "    def __init__(self):\n",
    "        self.x = 100   \n",
    "     \n",
    "    @classmethod\n",
    "    def what_is_your_kind(cls):\n",
    "        return cls.kind        "
   ]
  },
  {
   "cell_type": "code",
   "execution_count": 29,
   "metadata": {},
   "outputs": [
    {
     "name": "stdout",
     "output_type": "stream",
     "text": [
      "human\n",
      "human\n",
      "human\n",
      "human\n"
     ]
    }
   ],
   "source": [
    "a = Person()\n",
    "print(a.what_is_your_kind())\n",
    "\n",
    "\n",
    "# オブジェクトを生成しなくても、クラス変数やクラスメソッドにアクセス出来る\n",
    "b = Person\n",
    "print(b.what_is_your_kind())\n",
    "print(Person.kind)\n",
    "print(Person.what_is_your_kind())"
   ]
  },
  {
   "cell_type": "code",
   "execution_count": 32,
   "metadata": {},
   "outputs": [],
   "source": [
    "# スタテックメソッド\n",
    "# オブジェクト内の変数等は一切使わないので、関数としてオブジェクト外でも使えるが\n",
    "# オブジェクトとして登録する時に使う\n",
    "\n",
    "class Person(object):\n",
    "    \n",
    "    kind = 'human'\n",
    "    \n",
    "    def __init__(self):\n",
    "        self.x = 100   \n",
    "     \n",
    "    @staticmethod\n",
    "    def about(year):\n",
    "        print('about human {}'.format(year))    "
   ]
  },
  {
   "cell_type": "code",
   "execution_count": 31,
   "metadata": {},
   "outputs": [
    {
     "name": "stdout",
     "output_type": "stream",
     "text": [
      "about human 2020\n"
     ]
    }
   ],
   "source": [
    "Person.about(2020)"
   ]
  },
  {
   "cell_type": "markdown",
   "metadata": {},
   "source": [
    "## 90.特殊メソッド"
   ]
  },
  {
   "cell_type": "code",
   "execution_count": 49,
   "metadata": {},
   "outputs": [],
   "source": [
    "# __　アンダースコア2個使うのが特殊メソッド\n",
    "# 特殊メソッドでよく使われるのはstr\n",
    "\n",
    "class Word(object):\n",
    "    \n",
    "    def __init__(self, text):\n",
    "        self.text = text\n",
    "        \n",
    "    #文字列を扱う時に呼ばれる\n",
    "    def __str__(self):\n",
    "        return 'Word!!!!!'\n",
    "    \n",
    "    def __len__(self):\n",
    "        return len(self.text)\n",
    "    \n",
    "    def __add__(self, word):\n",
    "        return self.text.lower() + word.text.lower()    #クラスを足し合わせる \n",
    "    \n",
    "    def __eq__(self, word):\n",
    "        return self.text.lower() == word.text.lower()\n",
    "        "
   ]
  },
  {
   "cell_type": "code",
   "execution_count": 46,
   "metadata": {},
   "outputs": [
    {
     "name": "stdout",
     "output_type": "stream",
     "text": [
      "Word!!!!!\n",
      "4\n"
     ]
    },
    {
     "data": {
      "text/plain": [
       "4"
      ]
     },
     "execution_count": 46,
     "metadata": {},
     "output_type": "execute_result"
    }
   ],
   "source": [
    "w = Word('test')\n",
    "print(w)\n",
    "print(len(w))\n",
    "len(w.text)"
   ]
  },
  {
   "cell_type": "code",
   "execution_count": 48,
   "metadata": {},
   "outputs": [
    {
     "name": "stdout",
     "output_type": "stream",
     "text": [
      "test#####\n"
     ]
    }
   ],
   "source": [
    "w = Word('test')\n",
    "w2 = Word('#####')\n",
    "\n",
    "print(w + w2)\n",
    "\n",
    "#本来なら\n",
    "w.text + w2.text"
   ]
  },
  {
   "cell_type": "code",
   "execution_count": 50,
   "metadata": {},
   "outputs": [
    {
     "name": "stdout",
     "output_type": "stream",
     "text": [
      "False\n"
     ]
    }
   ],
   "source": [
    "print(w ==w2)"
   ]
  },
  {
   "cell_type": "markdown",
   "metadata": {},
   "source": [
    "# セクション8:ファイル操作とシステム"
   ]
  },
  {
   "cell_type": "markdown",
   "metadata": {},
   "source": [
    "## 91. ファイルの作成"
   ]
  },
  {
   "cell_type": "code",
   "execution_count": 55,
   "metadata": {},
   "outputs": [],
   "source": [
    "# ファイルを作成する場合\n",
    "f = open('test.txt','w')\n",
    "f.write('Test')\n",
    "f.close()"
   ]
  },
  {
   "cell_type": "code",
   "execution_count": 56,
   "metadata": {},
   "outputs": [],
   "source": [
    "#　文字列を追加する場合はa\n",
    "f = open('test.txt','a')\n",
    "f.write('Test')\n",
    "f.close()"
   ]
  },
  {
   "cell_type": "code",
   "execution_count": 59,
   "metadata": {},
   "outputs": [],
   "source": [
    "# printでも文字を書ける\n",
    "# wirteの方がよく使われる\n",
    "f = open('test.txt','w')\n",
    "f.write('Test\\n')\n",
    "print('I am print', file=f)\n",
    "print('My', 'name', 'is', 'Mike', file=f)\n",
    "print('My', 'name', 'is', 'Mike', sep='#', file=f)\n",
    "print('My', 'name', 'is', 'Mike', sep='#',end='!', file=f)\n",
    "f.close()"
   ]
  },
  {
   "cell_type": "markdown",
   "metadata": {},
   "source": [
    "## 92. withステートメントでファイルをopenする"
   ]
  },
  {
   "cell_type": "code",
   "execution_count": 61,
   "metadata": {},
   "outputs": [],
   "source": [
    "# withを使うとclse文を書く必要がない\n",
    "with open('test.txt','w') as f:\n",
    "    f.write('Test\\n')\n",
    "    print('My', 'name', 'is', 'Mike', sep='#',end='!', file=f)"
   ]
  },
  {
   "cell_type": "markdown",
   "metadata": {},
   "source": [
    "## 93. ファイルの読み込み"
   ]
  },
  {
   "cell_type": "code",
   "execution_count": 62,
   "metadata": {},
   "outputs": [],
   "source": [
    "s = \"\"\"\\\n",
    "AAA\n",
    "BBB\n",
    "CCC\n",
    "DDD\n",
    "\"\"\"\n",
    "\n",
    "with open('test.txt','w') as f:\n",
    "    f.write(s)"
   ]
  },
  {
   "cell_type": "code",
   "execution_count": 63,
   "metadata": {},
   "outputs": [
    {
     "name": "stdout",
     "output_type": "stream",
     "text": [
      "AAA\n",
      "BBB\n",
      "CCC\n",
      "DDD\n",
      "\n"
     ]
    }
   ],
   "source": [
    "# ファイルの読み込みはr\n",
    "with open('test.txt','r') as f:\n",
    "    print(f.read())"
   ]
  },
  {
   "cell_type": "code",
   "execution_count": 65,
   "metadata": {},
   "outputs": [
    {
     "name": "stdout",
     "output_type": "stream",
     "text": [
      "AAA\n",
      "BBB\n",
      "CCC\n",
      "DDD\n"
     ]
    }
   ],
   "source": [
    "# 一行づつ読む場合はreadline\n",
    "with open('test.txt','r') as f:\n",
    "    while True:\n",
    "        line = f.readline()\n",
    "        print(line, end='')\n",
    "        if not line:\n",
    "            break"
   ]
  },
  {
   "cell_type": "code",
   "execution_count": 66,
   "metadata": {},
   "outputs": [
    {
     "name": "stdout",
     "output_type": "stream",
     "text": [
      "AA\n",
      "A\n",
      "\n",
      "BB\n",
      "B\n",
      "\n",
      "CC\n",
      "C\n",
      "\n",
      "DD\n",
      "D\n",
      "\n",
      "\n"
     ]
    }
   ],
   "source": [
    "# チャンク毎(指定文字数)づつ読み込む場合はchunk\n",
    "# ネットワークのパケットを読み込むときなどに使う\n",
    "with open('test.txt','r') as f:\n",
    "    while True:\n",
    "        chunk = 2\n",
    "        line = f.read(chunk)\n",
    "        print(line)\n",
    "        if not line:\n",
    "            break"
   ]
  },
  {
   "cell_type": "markdown",
   "metadata": {},
   "source": [
    "## 94. seekを使って移動する"
   ]
  },
  {
   "cell_type": "code",
   "execution_count": 88,
   "metadata": {},
   "outputs": [
    {
     "name": "stdout",
     "output_type": "stream",
     "text": [
      "0\n",
      "A\n",
      "1\n",
      "B\n",
      "6\n",
      "D\n",
      "D\n",
      "\n",
      "\n",
      "B\n"
     ]
    }
   ],
   "source": [
    "# tellで読み込んだtxtのどこの場所にいるか分かる\n",
    "# seekで指定場所に移動する\n",
    "\n",
    "with open('test.txt','r') as f:\n",
    "    print(f.tell())\n",
    "    print(f.read(1))\n",
    "    print(f.tell())\n",
    "    f.seek(5)\n",
    "    print(f.read(1))\n",
    "    print(f.tell())\n",
    "    f.seek(15)\n",
    "    print(f.read(1))\n",
    "    f.seek(16)\n",
    "    print(f.read(1))\n",
    "    f.seek(18)\n",
    "    print(f.read(1))    \n",
    "   \n",
    "    f.seek(5)\n",
    "    print(f.read(1))"
   ]
  },
  {
   "cell_type": "markdown",
   "metadata": {},
   "source": [
    "## 95.書き込み読み込みモード"
   ]
  },
  {
   "cell_type": "code",
   "execution_count": 89,
   "metadata": {},
   "outputs": [
    {
     "name": "stdout",
     "output_type": "stream",
     "text": [
      "AAA\n",
      "BBB\n",
      "CCC\n",
      "DDD\n",
      "\n"
     ]
    }
   ],
   "source": [
    "# 書き込み読み込みをする場合はw+\n",
    "# seekを使って先頭行に戻す必要あり\n",
    "s = \"\"\"\\\n",
    "AAA\n",
    "BBB\n",
    "CCC\n",
    "DDD\n",
    "\"\"\"\n",
    "\n",
    "with open('test.txt','w+') as f:\n",
    "    f.write(s)\n",
    "    f.seek(0)\n",
    "    print(f.read())"
   ]
  },
  {
   "cell_type": "code",
   "execution_count": 93,
   "metadata": {},
   "outputs": [
    {
     "name": "stdout",
     "output_type": "stream",
     "text": [
      "AAA\n",
      "BBB\n",
      "CCC\n",
      "DDD\n",
      "\n"
     ]
    }
   ],
   "source": [
    "# 読み込んで書き込みする場合はr+\n",
    "\n",
    "with open('test.txt', 'r+') as f:\n",
    "    print(f.read())\n",
    "    f.seek(0)\n",
    "    f.write(s)\n",
    "    "
   ]
  },
  {
   "cell_type": "markdown",
   "metadata": {},
   "source": [
    "## 96.テンプレート"
   ]
  },
  {
   "cell_type": "code",
   "execution_count": 3,
   "metadata": {},
   "outputs": [
    {
     "name": "stdout",
     "output_type": "stream",
     "text": [
      "Hi Mike.\n",
      "\n",
      "How are you?\n",
      "\n",
      "Have a good day\n",
      "\n"
     ]
    }
   ],
   "source": [
    "#$に文字を代入できる\n",
    "#文字列を読み込み専用として扱える\n",
    "import string\n",
    "\n",
    "\n",
    "s = \"\"\"\\\n",
    "Hi $name.\n",
    "\n",
    "$contents\n",
    "\n",
    "Have a good day\n",
    "\"\"\"\n",
    "\n",
    "t = string.Template(s)\n",
    "contents = t.substitute(name='Mike', contents='How are you?')\n",
    "print(contents)"
   ]
  },
  {
   "cell_type": "code",
   "execution_count": 7,
   "metadata": {},
   "outputs": [
    {
     "name": "stdout",
     "output_type": "stream",
     "text": [
      "\n",
      "Hi Yasu.\n",
      "\n",
      "Good morning\n",
      "\n",
      "Have a good day\n",
      "\n"
     ]
    }
   ],
   "source": [
    "#$が書いてあるtxtファイルを読み込んで処理\n",
    "\n",
    "with open('design/email_template.txt') as f:\n",
    "    t = string.Template(f.read())\n",
    "    contents= t.substitute(name='Yasu', contents='Good morning')\n",
    "    print(contents)\n",
    "    "
   ]
  },
  {
   "cell_type": "markdown",
   "metadata": {},
   "source": [
    "## 97.CSVファイルへの書き込みと読み込み"
   ]
  },
  {
   "cell_type": "code",
   "execution_count": 13,
   "metadata": {},
   "outputs": [],
   "source": [
    "# windowsの場合は改行が\\r\\nとなり読み込みの際に2行改行されるのでnewline=''をいれる\n",
    "\n",
    "# csvファイルの書き込み\n",
    "import csv\n",
    "\n",
    "with open('test.csv', 'w', newline='') as csv_file:\n",
    "    fieldnames = ['Name', 'Count']\n",
    "    writer = csv.DictWriter(csv_file, fieldnames=fieldnames)\n",
    "    writer.writeheader()\n",
    "    writer.writerow({'Name': 'A', 'Count': 1})\n",
    "    writer.writerow({'Name': 'B', 'Count': 2})\n",
    "    "
   ]
  },
  {
   "cell_type": "code",
   "execution_count": 14,
   "metadata": {},
   "outputs": [
    {
     "name": "stdout",
     "output_type": "stream",
     "text": [
      "A 1\n",
      "B 2\n"
     ]
    }
   ],
   "source": [
    "# csvファイルの読み込み\n",
    "with open ('test.csv', 'r') as csv_file:\n",
    "    reader = csv.DictReader(csv_file)\n",
    "    for row in reader:\n",
    "        print(row['Name'], row['Count'])        "
   ]
  },
  {
   "cell_type": "markdown",
   "metadata": {},
   "source": [
    "## 98.ファイルの操作\n",
    "- import os\n",
    "- import pathlib\n",
    "- import glob\n",
    "- import shutil"
   ]
  },
  {
   "cell_type": "code",
   "execution_count": 1,
   "metadata": {},
   "outputs": [
    {
     "name": "stdout",
     "output_type": "stream",
     "text": [
      "True\n"
     ]
    }
   ],
   "source": [
    "import os\n",
    "\n",
    "# test.txtがあるか？\n",
    "print(os.path.exists('test.txt'))"
   ]
  },
  {
   "cell_type": "code",
   "execution_count": 3,
   "metadata": {},
   "outputs": [
    {
     "name": "stdout",
     "output_type": "stream",
     "text": [
      "True\n"
     ]
    }
   ],
   "source": [
    "#ファイルかどうか？\n",
    "print(os.path.isfile('test.txt'))"
   ]
  },
  {
   "cell_type": "code",
   "execution_count": 4,
   "metadata": {},
   "outputs": [
    {
     "name": "stdout",
     "output_type": "stream",
     "text": [
      "True\n"
     ]
    }
   ],
   "source": [
    "#dirがあるかどうか？\n",
    "print(os.path.isdir('design'))"
   ]
  },
  {
   "cell_type": "code",
   "execution_count": 5,
   "metadata": {},
   "outputs": [],
   "source": [
    "# txtファイルの名前を変える\n",
    "os.rename('test.txt', 'renamed.txt')"
   ]
  },
  {
   "cell_type": "code",
   "execution_count": 9,
   "metadata": {},
   "outputs": [
    {
     "ename": "OSError",
     "evalue": "symbolic link privilege not held",
     "output_type": "error",
     "traceback": [
      "\u001b[1;31m---------------------------------------------------------------------------\u001b[0m",
      "\u001b[1;31mOSError\u001b[0m                                   Traceback (most recent call last)",
      "\u001b[1;32m<ipython-input-9-f1cb4c49d1e4>\u001b[0m in \u001b[0;36m<module>\u001b[1;34m\u001b[0m\n\u001b[0;32m      1\u001b[0m \u001b[1;31m# symlink(ファイルのショートカットみないなやつ)を作る場合\u001b[0m\u001b[1;33m\u001b[0m\u001b[1;33m\u001b[0m\u001b[1;33m\u001b[0m\u001b[0m\n\u001b[1;32m----> 2\u001b[1;33m \u001b[0mos\u001b[0m\u001b[1;33m.\u001b[0m\u001b[0msymlink\u001b[0m\u001b[1;33m(\u001b[0m\u001b[1;34m'renamed.txt'\u001b[0m\u001b[1;33m,\u001b[0m \u001b[1;34m'ff.txt'\u001b[0m\u001b[1;33m)\u001b[0m\u001b[1;33m\u001b[0m\u001b[1;33m\u001b[0m\u001b[0m\n\u001b[0m",
      "\u001b[1;31mOSError\u001b[0m: symbolic link privilege not held"
     ]
    }
   ],
   "source": [
    "# symlink(ファイルのショートカットみないなやつ)を作る場合\n",
    "os.symlink('renamed.txt', 'ff.txt')"
   ]
  },
  {
   "cell_type": "code",
   "execution_count": 27,
   "metadata": {},
   "outputs": [],
   "source": [
    "# dirを作る\n",
    "os.mkdir('test_dir')"
   ]
  },
  {
   "cell_type": "code",
   "execution_count": 11,
   "metadata": {},
   "outputs": [],
   "source": [
    "# dirを消す場合(中身に何もない場合可能)\n",
    "os.rmdir('test_dir')"
   ]
  },
  {
   "cell_type": "code",
   "execution_count": 13,
   "metadata": {},
   "outputs": [],
   "source": [
    "#中身が空のファイルを作成する\n",
    "\n",
    "import pathlib\n",
    "pathlib.Path('empty.txt').touch()"
   ]
  },
  {
   "cell_type": "code",
   "execution_count": 14,
   "metadata": {},
   "outputs": [],
   "source": [
    "#ファイルを消す場合\n",
    "os.remove('empty.txt')"
   ]
  },
  {
   "cell_type": "code",
   "execution_count": 15,
   "metadata": {},
   "outputs": [],
   "source": [
    "os.mkdir('test_dir')"
   ]
  },
  {
   "cell_type": "code",
   "execution_count": 16,
   "metadata": {},
   "outputs": [],
   "source": [
    "os.mkdir('test_dir/test_dir2')"
   ]
  },
  {
   "cell_type": "code",
   "execution_count": 18,
   "metadata": {},
   "outputs": [
    {
     "name": "stdout",
     "output_type": "stream",
     "text": [
      "['test_dir2']\n"
     ]
    }
   ],
   "source": [
    "#dir内にどんなdirがあるか？\n",
    "print(os.listdir('test_dir'))"
   ]
  },
  {
   "cell_type": "code",
   "execution_count": 19,
   "metadata": {},
   "outputs": [],
   "source": [
    "# test_dir/test_dir2にempty.txtを作る\n",
    "pathlib.Path('test_dir/test_dir2/empty.txt').touch()"
   ]
  },
  {
   "cell_type": "code",
   "execution_count": 22,
   "metadata": {},
   "outputs": [
    {
     "name": "stdout",
     "output_type": "stream",
     "text": [
      "['test_dir/test_dir2\\\\empty.txt']\n"
     ]
    }
   ],
   "source": [
    "# dir内にどんなフィアルがあるか？\n",
    "import glob\n",
    "print(glob.glob('test_dir/test_dir2/*'))"
   ]
  },
  {
   "cell_type": "code",
   "execution_count": 24,
   "metadata": {},
   "outputs": [
    {
     "name": "stdout",
     "output_type": "stream",
     "text": [
      "['test_dir/test_dir2\\\\empty.txt', 'test_dir/test_dir2\\\\empty2.txt']\n"
     ]
    }
   ],
   "source": [
    "# ファイルをコピーする場合\n",
    "\n",
    "import shutil\n",
    "shutil.copy('test_dir/test_dir2/empty.txt',\n",
    "           'test_dir/test_dir2/empty2.txt')\n",
    "\n",
    "print(glob.glob('test_dir/test_dir2/*'))"
   ]
  },
  {
   "cell_type": "code",
   "execution_count": 25,
   "metadata": {},
   "outputs": [],
   "source": [
    "#フォルダ内のファイルを全て削除する場合\n",
    "shutil.rmtree('test_dir')"
   ]
  },
  {
   "cell_type": "code",
   "execution_count": 26,
   "metadata": {},
   "outputs": [
    {
     "name": "stdout",
     "output_type": "stream",
     "text": [
      "D:\\Python\\Python入門3\n"
     ]
    }
   ],
   "source": [
    "#現在のファイルが実行されているPathが知りたい\n",
    "print(os.getcwd())"
   ]
  },
  {
   "cell_type": "markdown",
   "metadata": {},
   "source": [
    "## 99.tarfileの圧縮展開"
   ]
  },
  {
   "cell_type": "code",
   "execution_count": 28,
   "metadata": {},
   "outputs": [],
   "source": [
    "import tarfile"
   ]
  },
  {
   "cell_type": "code",
   "execution_count": 32,
   "metadata": {},
   "outputs": [],
   "source": [
    "# 圧縮するには通常のwではなく、w:gzとする\n",
    "\n",
    "with tarfile.open('test.tar.gz', 'w:gz') as tr:\n",
    "    tr.add('test_dir')"
   ]
  },
  {
   "cell_type": "code",
   "execution_count": 33,
   "metadata": {},
   "outputs": [],
   "source": [
    "# Pythonで解凍する場合\n",
    "\n",
    "with tarfile.open('test.tar.gz', 'r:gz') as tr:\n",
    "    tr.extractall(path='test_tar')"
   ]
  },
  {
   "cell_type": "code",
   "execution_count": 34,
   "metadata": {},
   "outputs": [
    {
     "name": "stdout",
     "output_type": "stream",
     "text": [
      "b'subS'\n"
     ]
    }
   ],
   "source": [
    "# 解凍しないで中身のファイルをみる場合\n",
    "with tarfile.open('test.tar.gz', 'r:gz') as tr:\n",
    "    with tr.extractfile('test_dir/sub_dir/sub_test.txt') as f:\n",
    "        print(f.read())"
   ]
  },
  {
   "cell_type": "markdown",
   "metadata": {},
   "source": [
    "## 100.zipfileの圧縮展開"
   ]
  },
  {
   "cell_type": "code",
   "execution_count": 36,
   "metadata": {},
   "outputs": [],
   "source": [
    "import zipfile\n",
    "\n",
    "# zipfileの場合は圧縮するファイル・フォルダを指定する必要あり\n",
    "with zipfile.ZipFile('test.zip', 'w') as z:\n",
    "    z.write('test_dir')\n",
    "    z.write('test_dir/test.txt')"
   ]
  },
  {
   "cell_type": "code",
   "execution_count": 38,
   "metadata": {},
   "outputs": [
    {
     "name": "stdout",
     "output_type": "stream",
     "text": [
      "test_dir\\\n",
      "test_dir\\sub_dir\n",
      "test_dir\\sub_dir\\subsub_dir\n",
      "test_dir\\sub_dir\\subsub_dir\\subsub.txt\n",
      "test_dir\\sub_dir\\sub_test.txt\n",
      "test_dir\\test.txt\n"
     ]
    }
   ],
   "source": [
    "# zipfileをdir内全て圧縮する場合,globライブラリを活用する\n",
    "import glob\n",
    "\n",
    "with zipfile.ZipFile('test.zip', 'w') as z:\n",
    "    for f in glob.glob('test_dir/**', recursive=True):\n",
    "        print(f)\n",
    "        z.write(f)\n"
   ]
  },
  {
   "cell_type": "code",
   "execution_count": 39,
   "metadata": {},
   "outputs": [],
   "source": [
    "# zipファイル展開する場合\n",
    "with zipfile.ZipFile('test.zip', 'r') as z:\n",
    "    z.extractall('zzz2')"
   ]
  },
  {
   "cell_type": "code",
   "execution_count": 40,
   "metadata": {},
   "outputs": [
    {
     "name": "stdout",
     "output_type": "stream",
     "text": [
      "b'test'\n"
     ]
    }
   ],
   "source": [
    "# 解凍しないで中身のファイルをみる場合\n",
    "with zipfile.ZipFile('test.zip', 'r') as z:\n",
    "    with z.open('test_dir/test.txt') as f:\n",
    "        print(f.read())"
   ]
  },
  {
   "cell_type": "markdown",
   "metadata": {},
   "source": [
    "## 101.tempfile"
   ]
  },
  {
   "cell_type": "code",
   "execution_count": 2,
   "metadata": {},
   "outputs": [
    {
     "name": "stdout",
     "output_type": "stream",
     "text": [
      "hello\n"
     ]
    }
   ],
   "source": [
    "#実ファイルを作らずI/Oバッファにファイルを作る\n",
    "\n",
    "import tempfile\n",
    "\n",
    "with tempfile.TemporaryFile(mode='w+') as t:\n",
    "    t.write('hello')\n",
    "    t.seek(0)\n",
    "    print(t.read())\n"
   ]
  },
  {
   "cell_type": "code",
   "execution_count": 3,
   "metadata": {},
   "outputs": [
    {
     "name": "stdout",
     "output_type": "stream",
     "text": [
      "C:\\Users\\mikam\\AppData\\Local\\Temp\\tmp97jht7gx\n",
      "test\n",
      "\n"
     ]
    }
   ],
   "source": [
    "# tempfileを実ファイルとして残す場合\n",
    "with tempfile.NamedTemporaryFile(delete=False) as t:\n",
    "    print(t.name)\n",
    "    with open(t.name, 'w+') as f:\n",
    "        f.write('test\\n')\n",
    "        f.seek(0)\n",
    "        print(f.read())"
   ]
  },
  {
   "cell_type": "code",
   "execution_count": 4,
   "metadata": {},
   "outputs": [
    {
     "name": "stdout",
     "output_type": "stream",
     "text": [
      "C:\\Users\\mikam\\AppData\\Local\\Temp\\tmpmeo0rln0\n"
     ]
    }
   ],
   "source": [
    "# 一時dirも作ることが出来る\n",
    "with tempfile.TemporaryDirectory() as td:\n",
    "    print(td)"
   ]
  },
  {
   "cell_type": "code",
   "execution_count": 15,
   "metadata": {},
   "outputs": [
    {
     "name": "stdout",
     "output_type": "stream",
     "text": [
      "C:\\Users\\mikam\\AppData\\Local\\Temp\\tmpjywcmk_q\n"
     ]
    }
   ],
   "source": [
    "# フォルダを残す場合は\n",
    "temp_dir = tempfile.mkdtemp()\n",
    "print(temp_dir)"
   ]
  },
  {
   "cell_type": "markdown",
   "metadata": {},
   "source": [
    "## 102.subprocessでコマンドを実行する"
   ]
  },
  {
   "cell_type": "code",
   "execution_count": 32,
   "metadata": {},
   "outputs": [
    {
     "name": "stdout",
     "output_type": "stream",
     "text": [
      " ドライブ D のボリューム ラベルは DATA です\n",
      " ボリューム シリアル番号は 8E0D-4CBA です\n",
      "\n",
      " D:\\Python\\Python入門3 のディレクトリ\n",
      "\n",
      "2020/07/23  10:09    <DIR>          .\n",
      "2020/07/23  10:09    <DIR>          ..\n",
      "2020/07/21  20:31    <DIR>          .ipynb_checkpoints\n",
      "2020/07/14  08:19                78 config.py\n",
      "2020/07/21  20:13    <DIR>          design\n",
      "2020/07/12  10:40               585 lesson.ipynb\n",
      "2020/07/12  10:54                96 lesson.py\n",
      "2020/07/12  11:26    <DIR>          lesson_package\n",
      "2020/07/23  10:09           176,202 Python入門.ipynb\n",
      "2020/07/19  11:59                40 renamed.txt\n",
      "2020/07/21  20:32                22 test.csv\n",
      "2020/07/22  19:01               197 test.tar.gz\n",
      "2020/07/22  19:21               767 test.zip\n",
      "2020/07/22  18:57    <DIR>          test_dir\n",
      "2020/07/22  19:04    <DIR>          test_tar\n",
      "2020/07/22  19:24    <DIR>          zzz2\n",
      "2020/07/14  08:19    <DIR>          __pycache__\n",
      "               8 個のファイル             177,987 バイト\n",
      "               9 個のディレクトリ  580,025,356,288 バイトの空き領域\n",
      "\n"
     ]
    }
   ],
   "source": [
    "#ターミナルで実行しているのをpython上で行う\n",
    "import subprocess\n",
    "\n",
    "#lsコマンドを実行する\n",
    "#windowsではshell=Trueが必要\n",
    "result = subprocess.run(['dir'], shell=True, stdout=subprocess.PIPE)\n",
    "print(result.stdout.decode('cp932'))"
   ]
  },
  {
   "cell_type": "code",
   "execution_count": 35,
   "metadata": {},
   "outputs": [
    {
     "name": "stdout",
     "output_type": "stream",
     "text": [
      "1\n"
     ]
    }
   ],
   "source": [
    "# subprocessでエラーがないと、0それ以外は数値が返ってくる\n",
    "# returncodeを用いてexceptionでエラーを表示できる\n",
    "r= subprocess.run(['dirr'],shell=True)\n",
    "print(r.returncode)"
   ]
  },
  {
   "cell_type": "code",
   "execution_count": 36,
   "metadata": {},
   "outputs": [
    {
     "ename": "CalledProcessError",
     "evalue": "Command '['dirr']' returned non-zero exit status 1.",
     "output_type": "error",
     "traceback": [
      "\u001b[1;31m---------------------------------------------------------------------------\u001b[0m",
      "\u001b[1;31mCalledProcessError\u001b[0m                        Traceback (most recent call last)",
      "\u001b[1;32m<ipython-input-36-3db642d39435>\u001b[0m in \u001b[0;36m<module>\u001b[1;34m\u001b[0m\n\u001b[1;32m----> 1\u001b[1;33m \u001b[0mr\u001b[0m\u001b[1;33m=\u001b[0m \u001b[0msubprocess\u001b[0m\u001b[1;33m.\u001b[0m\u001b[0mrun\u001b[0m\u001b[1;33m(\u001b[0m\u001b[1;33m[\u001b[0m\u001b[1;34m'dirr'\u001b[0m\u001b[1;33m]\u001b[0m\u001b[1;33m,\u001b[0m\u001b[0mshell\u001b[0m\u001b[1;33m=\u001b[0m\u001b[1;32mTrue\u001b[0m\u001b[1;33m,\u001b[0m \u001b[0mcheck\u001b[0m\u001b[1;33m=\u001b[0m\u001b[1;32mTrue\u001b[0m\u001b[1;33m)\u001b[0m\u001b[1;33m\u001b[0m\u001b[1;33m\u001b[0m\u001b[0m\n\u001b[0m\u001b[0;32m      2\u001b[0m \u001b[0mprint\u001b[0m\u001b[1;33m(\u001b[0m\u001b[0mr\u001b[0m\u001b[1;33m.\u001b[0m\u001b[0mreturncode\u001b[0m\u001b[1;33m)\u001b[0m\u001b[1;33m\u001b[0m\u001b[1;33m\u001b[0m\u001b[0m\n",
      "\u001b[1;32m~\\Anaconda3\\lib\\subprocess.py\u001b[0m in \u001b[0;36mrun\u001b[1;34m(input, capture_output, timeout, check, *popenargs, **kwargs)\u001b[0m\n\u001b[0;32m    485\u001b[0m         \u001b[1;32mif\u001b[0m \u001b[0mcheck\u001b[0m \u001b[1;32mand\u001b[0m \u001b[0mretcode\u001b[0m\u001b[1;33m:\u001b[0m\u001b[1;33m\u001b[0m\u001b[1;33m\u001b[0m\u001b[0m\n\u001b[0;32m    486\u001b[0m             raise CalledProcessError(retcode, process.args,\n\u001b[1;32m--> 487\u001b[1;33m                                      output=stdout, stderr=stderr)\n\u001b[0m\u001b[0;32m    488\u001b[0m     \u001b[1;32mreturn\u001b[0m \u001b[0mCompletedProcess\u001b[0m\u001b[1;33m(\u001b[0m\u001b[0mprocess\u001b[0m\u001b[1;33m.\u001b[0m\u001b[0margs\u001b[0m\u001b[1;33m,\u001b[0m \u001b[0mretcode\u001b[0m\u001b[1;33m,\u001b[0m \u001b[0mstdout\u001b[0m\u001b[1;33m,\u001b[0m \u001b[0mstderr\u001b[0m\u001b[1;33m)\u001b[0m\u001b[1;33m\u001b[0m\u001b[1;33m\u001b[0m\u001b[0m\n\u001b[0;32m    489\u001b[0m \u001b[1;33m\u001b[0m\u001b[0m\n",
      "\u001b[1;31mCalledProcessError\u001b[0m: Command '['dirr']' returned non-zero exit status 1."
     ]
    }
   ],
   "source": [
    "# check=Trueにするとエラー表示してくれる\n",
    "r= subprocess.run(['dirr'],shell=True, check=True)\n",
    "print(r.returncode)"
   ]
  },
  {
   "cell_type": "code",
   "execution_count": 37,
   "metadata": {},
   "outputs": [
    {
     "name": "stdout",
     "output_type": "stream",
     "text": [
      "2020/07/21  20:32                22 test.csv\n",
      "2020/07/22  19:01               197 test.tar.gz\n",
      "2020/07/22  19:21               767 test.zip\n",
      "2020/07/22  18:57    <DIR>          test_dir\n",
      "2020/07/22  19:04    <DIR>          test_tar\n",
      "\n"
     ]
    }
   ],
   "source": [
    "# 上級者向け　PIPEを使った処理\n",
    "import subprocess\n",
    " \n",
    "p1 = subprocess.Popen('dir *', stdout=subprocess.PIPE, shell=True)\n",
    "p2 = subprocess.Popen(\n",
    "    'find \"test\"', stdin=p1.stdout, stdout=subprocess.PIPE, shell=True\n",
    ")\n",
    "p1.stdout.close()\n",
    "output = p2.communicate()[0]\n",
    "print(output.decode('cp932'))"
   ]
  },
  {
   "cell_type": "markdown",
   "metadata": {},
   "source": [
    "## 103.datetime"
   ]
  },
  {
   "cell_type": "code",
   "execution_count": 39,
   "metadata": {},
   "outputs": [
    {
     "name": "stdout",
     "output_type": "stream",
     "text": [
      "2020-07-23 10:56:02.930018\n"
     ]
    }
   ],
   "source": [
    "import datetime\n",
    "\n",
    "#現在の時刻を表示する\n",
    "now = datetime.datetime.now()\n",
    "print(now)\n"
   ]
  },
  {
   "cell_type": "code",
   "execution_count": 40,
   "metadata": {},
   "outputs": [
    {
     "name": "stdout",
     "output_type": "stream",
     "text": [
      "2020-07-23T10:56:02.930018\n"
     ]
    }
   ],
   "source": [
    "#ISOフォーマットで表示\n",
    "print(now.isoformat())"
   ]
  },
  {
   "cell_type": "code",
   "execution_count": 44,
   "metadata": {},
   "outputs": [
    {
     "name": "stdout",
     "output_type": "stream",
     "text": [
      "23/07/20-10/5602930018\n",
      "2020/07/23-10:56\n"
     ]
    }
   ],
   "source": [
    "#表示方法を変更する\n",
    "print(now.strftime('%d/%m/%y-%H/%M%S%f'))\n",
    "print(now.strftime('%Y/%m/%d-%H:%M'))"
   ]
  },
  {
   "cell_type": "code",
   "execution_count": 46,
   "metadata": {},
   "outputs": [
    {
     "name": "stdout",
     "output_type": "stream",
     "text": [
      "2020-07-23\n",
      "2020-07-23\n",
      "23/07/20\n"
     ]
    }
   ],
   "source": [
    "# 年月日を表示\n",
    "today = datetime.date.today()\n",
    "print(today)\n",
    "print(today.isoformat())\n",
    "print(today.strftime('%d/%m/%y'))"
   ]
  },
  {
   "cell_type": "code",
   "execution_count": 51,
   "metadata": {},
   "outputs": [
    {
     "name": "stdout",
     "output_type": "stream",
     "text": [
      "01:10:05.000100\n",
      "01:10:05.000100\n",
      "01_10_05_000100\n"
     ]
    }
   ],
   "source": [
    "# 時間を自分で作成する\n",
    "t = datetime.time(hour=1, minute=10, second=5, microsecond=100)\n",
    "print(t)\n",
    "print(t.isoformat())\n",
    "print(t.strftime('%H_%M_%S_%f'))"
   ]
  },
  {
   "cell_type": "code",
   "execution_count": 64,
   "metadata": {},
   "outputs": [
    {
     "name": "stdout",
     "output_type": "stream",
     "text": [
      "2020-07-16 11:15:35.640023\n"
     ]
    }
   ],
   "source": [
    "# 1週間前の日付を計算したい場合　timedeltaを使う\n",
    "# timedelta(days=0, seconds=0, microseconds=0, milliseconds=0, minutes=0, hours=0, weeks=0)\n",
    "now = datetime.datetime.now()\n",
    "d = datetime.timedelta(weeks= 1)\n",
    "print(now - d)"
   ]
  },
  {
   "cell_type": "code",
   "execution_count": 63,
   "metadata": {},
   "outputs": [
    {
     "name": "stdout",
     "output_type": "stream",
     "text": [
      "2020-07-23 06:10:54.870854\n"
     ]
    }
   ],
   "source": [
    "d = datetime.timedelta(hours= -5)\n",
    "print(now + d)"
   ]
  },
  {
   "cell_type": "code",
   "execution_count": 66,
   "metadata": {},
   "outputs": [
    {
     "name": "stdout",
     "output_type": "stream",
     "text": [
      "###\n",
      "###\n"
     ]
    }
   ],
   "source": [
    "#時間を一時的に止める sleep\n",
    "import time\n",
    "print('###')\n",
    "time.sleep(1)\n",
    "print('###')"
   ]
  },
  {
   "cell_type": "code",
   "execution_count": 67,
   "metadata": {},
   "outputs": [
    {
     "name": "stdout",
     "output_type": "stream",
     "text": [
      "1595470804.875569\n"
     ]
    }
   ],
   "source": [
    "# エポックタイム　1970年1月1日から秒で加算されたもの\n",
    "# 秒で加算加算されたもの\n",
    "print(time.time())"
   ]
  },
  {
   "cell_type": "code",
   "execution_count": 71,
   "metadata": {},
   "outputs": [],
   "source": [
    "# ファイルバックアップ時に名前に時間を入れたい場合\n",
    "\n",
    "import datetime\n",
    "import os\n",
    "import shutil\n",
    "\n",
    "now = datetime.datetime.now()\n",
    "\n",
    "file_name = 'text.txt'\n",
    "\n",
    "if os.path.exists(file_name):\n",
    "    shutil.copy(file_name, \"{}.{}\".format(file_name,\n",
    "                                         now.strftime('%Y_%m_%d_%H_%M_%S')))\n",
    "    \n",
    "with open(file_name, 'w') as f:\n",
    "    f.write('testtttt')"
   ]
  },
  {
   "cell_type": "markdown",
   "metadata": {},
   "source": [
    "# セクション9：入門編の終了"
   ]
  },
  {
   "cell_type": "markdown",
   "metadata": {},
   "source": [
    "## 104.windowsとMacのコマンド"
   ]
  },
  {
   "cell_type": "markdown",
   "metadata": {},
   "source": [
    "### windowsコマンド\n",
    "\n",
    "- where : 検索したいコマンドを指定する\n",
    "- cls : 表示をクリアにする\n",
    "- dir : ファイルやディレクトリの情報を表示する\n",
    "- cd : ディレクトリ間の移動\n",
    "- md : ディレクトリを作成\n",
    "- type : テキストファイルの内容を表示\n",
    "- move : ディレクトリを移動\n",
    "- xcopy/e/c/h : ディレクトリをコピー\n",
    "- rd : ディレクトリを削除\n",
    "- move : ファイルの移動\n",
    "- copy : ファイルのコピー\n",
    "- del : ファイルを削除\n",
    "- dir : 現在のディレクトリの場所を確認する"
   ]
  },
  {
   "cell_type": "markdown",
   "metadata": {},
   "source": [
    "### macコマンド\n",
    "- which : 検索したいコマンドを指定する\n",
    "- clear : 表示をクリアにする\n",
    "- ls : ファイルやディレクトリの情報を表示する\n",
    "- cd : ディレクトリ間の移動\n",
    "- mkdir : ディレクトリを作成\n",
    "- cat : テキストファイルの内容を表示\n",
    "- mv : ディレクトリを移動\n",
    "- cp -r : ディレクトリをコピー\n",
    "- rm -r : ディレクトリを削除\n",
    "- mv : ファイルの移動\n",
    "- cp : ファイルのコピー\n",
    "- rm : ファイルを削除\n",
    "- pwd : 現在のディレクトリの場所を確認する"
   ]
  },
  {
   "cell_type": "markdown",
   "metadata": {},
   "source": [
    "## Jupyterで.pyファイルをスクリプト実行\n",
    "- %run -i test.py\n"
   ]
  },
  {
   "cell_type": "code",
   "execution_count": 7,
   "metadata": {},
   "outputs": [
    {
     "name": "stdout",
     "output_type": "stream",
     "text": [
      "<built-in method get of dict object at 0x000002CCE53DB778>\n"
     ]
    }
   ],
   "source": [
    "d2 = {'x':1000,'j':500}\n",
    "print(d2.get)"
   ]
  },
  {
   "cell_type": "code",
   "execution_count": null,
   "metadata": {},
   "outputs": [],
   "source": []
  }
 ],
 "metadata": {
  "kernelspec": {
   "display_name": "Python 3",
   "language": "python",
   "name": "python3"
  },
  "language_info": {
   "codemirror_mode": {
    "name": "ipython",
    "version": 3
   },
   "file_extension": ".py",
   "mimetype": "text/x-python",
   "name": "python",
   "nbconvert_exporter": "python",
   "pygments_lexer": "ipython3",
   "version": "3.7.4"
  }
 },
 "nbformat": 4,
 "nbformat_minor": 4
}

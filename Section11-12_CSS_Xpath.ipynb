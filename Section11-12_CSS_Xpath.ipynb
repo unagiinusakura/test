{
 "cells": [
  {
   "cell_type": "markdown",
   "metadata": {},
   "source": [
    "## 72. CSSセレクタの基本と属性の設定"
   ]
  },
  {
   "cell_type": "markdown",
   "metadata": {},
   "source": [
    "- cssセレクタで要素を指定する場合はそのまま要素を記述する\n",
    "- 複数取得する場合は,で繋ぐ　例: p, title\n",
    "- class属性を取得する場合は.の後に属性値を記入する 例: .end\n",
    "- 要素と合わせてclass属性を指定出来る 例: p.end\n",
    "- 複数のclass属性の場合 例: .recent.books\n",
    "- id属性をもつものは#のあとに記述する　例: #link2"
   ]
  },
  {
   "cell_type": "markdown",
   "metadata": {},
   "source": [
    "#### ■属性の指定方法\n",
    "- 要素[属性='属性値']\n",
    "- [属性='属性値']"
   ]
  },
  {
   "cell_type": "markdown",
   "metadata": {},
   "source": [
    "#### ■正規表現を用いたhref属性の指定"
   ]
  },
  {
   "cell_type": "markdown",
   "metadata": {},
   "source": [
    "- 前方一致：[href^='属性値（先頭）’] 例：a[href^='http']\n",
    "- 後方一致：[href＄='属性値（末尾）’]　例:a[href＄='96B']\n",
    "- あいまい検索：[href*='属性値']"
   ]
  },
  {
   "cell_type": "markdown",
   "metadata": {},
   "source": [
    "#### ■CSSセレクタを入力し結果を確認できるサイト\n",
    "https://try.jsoup.org/"
   ]
  },
  {
   "cell_type": "markdown",
   "metadata": {},
   "source": [
    "## 73. CSSセレクタでの子・子孫・兄弟要素の指定"
   ]
  },
  {
   "cell_type": "markdown",
   "metadata": {},
   "source": [
    "#### ■body要素の子孫要素aを指定する\n",
    "- 子孫要素を指定するには自信の要素スペース子孫要素と記述する\n",
    "- 例：body a"
   ]
  },
  {
   "cell_type": "markdown",
   "metadata": {},
   "source": [
    "#### ■子要素の指定\n",
    "- body > p.end"
   ]
  },
  {
   "cell_type": "markdown",
   "metadata": {},
   "source": [
    "#### ■隣接する直後の兄弟要素の指定\n",
    "- 例：class Pの後のP要素を指定する　p.title + p"
   ]
  },
  {
   "cell_type": "markdown",
   "metadata": {},
   "source": [
    "#### ■後ろの全ての兄弟要素の指定\n",
    "- p.title ~ p"
   ]
  },
  {
   "cell_type": "markdown",
   "metadata": {},
   "source": [
    "## 74. CSSセレクタでのリストの要素の指定\n",
    "- 例：ul.book > li\n",
    "- リストを指定する場合は、ul.book > li:nth-of-type(1)"
   ]
  },
  {
   "cell_type": "markdown",
   "metadata": {},
   "source": [
    "# セクション12. XPathの記述方法"
   ]
  },
  {
   "cell_type": "markdown",
   "metadata": {},
   "source": [
    "#### ■XPathを入力し試す事ができるサイト\n",
    "https://scrapinghub.github.io/xpath-playground/"
   ]
  },
  {
   "cell_type": "markdown",
   "metadata": {},
   "source": [
    "## 77. Xpathの基本"
   ]
  },
  {
   "cell_type": "markdown",
   "metadata": {},
   "source": [
    "#### ■htmlのルートから辿る場合は/から記述する\n",
    "- 例：/html/head/title"
   ]
  },
  {
   "cell_type": "markdown",
   "metadata": {},
   "source": [
    "#### ■要素に含まれるテキストを抽出する場合はtext( )\n",
    "-  例：/html/head/title/text()"
   ]
  },
  {
   "cell_type": "markdown",
   "metadata": {},
   "source": [
    "#### ■fullpassを省略して記述するには//\n",
    "- 例：//title/text()"
   ]
  },
  {
   "cell_type": "markdown",
   "metadata": {},
   "source": [
    "## 78. Xpathによる属性の取得"
   ]
  },
  {
   "cell_type": "markdown",
   "metadata": {},
   "source": [
    "#### ■要素[@属性= 属性値]で取得できる\n",
    "- 例：//a[@id=\"link1\"]"
   ]
  },
  {
   "cell_type": "markdown",
   "metadata": {},
   "source": [
    "#### ■属性名を任意にする場合は*をつける\n",
    "- 例：//a[@*=\"link1\"]"
   ]
  },
  {
   "cell_type": "markdown",
   "metadata": {},
   "source": [
    "#### ■属性値を表示したい場合は@をつかう\n",
    "- 例：//a[@*=\"link1\"]/@href"
   ]
  },
  {
   "cell_type": "markdown",
   "metadata": {},
   "source": [
    "### ■属性にある特定の値が含まれているかで指定するにはcontains\n",
    "- contains(属性,属性値)\n",
    "- 例　//a[contains(@href,\"B07SRLRS4M\")]"
   ]
  },
  {
   "cell_type": "markdown",
   "metadata": {},
   "source": [
    "#### ■Xpathは論理演算子(and,or,not)が使える\n",
    "- 例：//a[not(contains(@href,\"B07SRLRS4M\"))]\n",
    "- 例: //a[not(contains(@href,\"B07SRLRS4M\")) and contains(@id,\"link1\")]\n",
    "- 例：//a[contains(@href,\"B07SRLRS4M\") or contains(@id,\"link1\")]"
   ]
  },
  {
   "cell_type": "markdown",
   "metadata": {},
   "source": [
    "#### ■前方一致で検索する場合はstarts-with\n",
    "- 例：//a[starts-with(@href,\"http://www.amazon.co.jp/\")]"
   ]
  },
  {
   "cell_type": "markdown",
   "metadata": {},
   "source": [
    "#### ■後方一致で検索する場合はends-with\n",
    "- //a[ends-with(@href,\"96B\")]\n",
    "- ends-withはXpath_ver2のみ対応しており、chormeではサポートされていない"
   ]
  },
  {
   "cell_type": "markdown",
   "metadata": {},
   "source": [
    "#### ■containsはテキストに含まれる文字列を検索する事が出来る(大文字、小文字を識別するので注意必要)\n",
    "- 例：//a[contains(text(),\"NumPy\")]"
   ]
  },
  {
   "cell_type": "markdown",
   "metadata": {},
   "source": [
    "## 79. Xpathでリストの要素を取得"
   ]
  },
  {
   "cell_type": "markdown",
   "metadata": {},
   "source": [
    "- 例：//ul[@class=\"book\"]/li"
   ]
  },
  {
   "cell_type": "markdown",
   "metadata": {},
   "source": [
    "#### ■リストから要素を指定する場合\n",
    "- 例：　//ul[@class=\"book\"]/li[1]\n",
    "- 例：　//ul[@class=\"book\"]/li[2]\n",
    "- 例：　//ul[@class=\"book\"]/li[3]"
   ]
  },
  {
   "cell_type": "markdown",
   "metadata": {},
   "source": [
    "#### ■positionを使っても指定出来る\n",
    "- 例：　//ul[@class=\"book\"]/li[position()=1]"
   ]
  },
  {
   "cell_type": "markdown",
   "metadata": {},
   "source": [
    "#### ■positonを使えば複数の指定が出来る\n",
    "- 例：//ul[@class=\"book\"]/li[position()=1 or position()=4]"
   ]
  },
  {
   "cell_type": "markdown",
   "metadata": {},
   "source": [
    "#### ■positonで最後の要素を指定するにはlastも使える\n",
    "- 例：　//ul[@class=\"book\"]/li[position()=last()]"
   ]
  },
  {
   "cell_type": "markdown",
   "metadata": {},
   "source": [
    "#### ■positionで＞をつかって抽出できる\n",
    "- 例： 1番目より大きいもの　：//ul[@class=\"book\"]/li[position()>1]"
   ]
  },
  {
   "cell_type": "markdown",
   "metadata": {},
   "source": [
    "## 80. Xpathでの親・先祖・兄弟・子・子孫要素の取得"
   ]
  },
  {
   "cell_type": "markdown",
   "metadata": {},
   "source": [
    "#### ■Xpathでは軸を使って指定する\n",
    "- 例：　/軸:: ノードテスト[述語]/ ノードテスト/軸:: ノードテスト\n"
   ]
  },
  {
   "cell_type": "markdown",
   "metadata": {},
   "source": [
    "## 81. Xpathによる前方にある要素の取得"
   ]
  },
  {
   "cell_type": "markdown",
   "metadata": {},
   "source": [
    "#### ■親要素を取得\n",
    "- 例：自身がp要素のid='link2'にいた場合、そこから親要素を指定\n",
    "- →　//a[@id=\"link2\"]/parent::p"
   ]
  },
  {
   "cell_type": "markdown",
   "metadata": {},
   "source": [
    "#### ■親の要素が解らない場合はnode()を使う\n",
    "- →　//a[@id=\"link2\"]/parent::node()"
   ]
  },
  {
   "cell_type": "markdown",
   "metadata": {},
   "source": [
    "#### ■先祖要素をたどる場合はancestor\n",
    "- 例　//a[@id=\"link2\"]/ancestor::node()"
   ]
  },
  {
   "cell_type": "markdown",
   "metadata": {},
   "source": [
    "#### ■自分自身を含めた先祖要素表示させるにはancestor-or-self\n",
    "- 例　//a[@id=\"link2\"]/ancestor-or-self::node()"
   ]
  },
  {
   "cell_type": "markdown",
   "metadata": {},
   "source": [
    "#### ■自分自身を含めた先祖要素を除くものはpreceding\n",
    "- 例　//a[@id=\"link2\"]/preceding::node()"
   ]
  },
  {
   "cell_type": "markdown",
   "metadata": {},
   "source": [
    "#### ■自分自身の前にある兄弟要素を全て取得するにはpreceding-sibling\n",
    "- 例 //a[@id=\"link2\"]/preceding-sibling::node()"
   ]
  },
  {
   "cell_type": "markdown",
   "metadata": {},
   "source": [
    "## 82. Xpathによる後方にある要素の取得"
   ]
  },
  {
   "cell_type": "markdown",
   "metadata": {},
   "source": [
    "#### ■子要素を取得\n",
    "- 例：自身がp要素のclass='recent books'にいた場合、そこから子要素を指定\n",
    "- →　//p[@class=\"recent books\"]/child::a\n",
    "\n",
    "#### ■子要素が解らない場合はnode()を使う\n",
    "- 例　//p[@class=\"recent books\"]/child::node()\n",
    "\n",
    "#### ■ある要素の後続の要素全てを取得するにはfollowing\n",
    "- 例　//p[@class=\"recent books\"]/following::node()\n",
    "\n",
    "#### ■ある要素起点にして後ろの兄弟要素を取得するにはfollowing-sibling\n",
    "- 例　//p[@class=\"recent books\"]/following-sibling::node()\n",
    "\n",
    "#### ■ある要素の後続の子孫要素全てを取得するにはdecendant\n",
    "- 例　//p[@class=\"recent books\"]/descendant::node()\n",
    "\n",
    "#### ■自分自身を含めた子孫要素全てを取得するにはdecendant-or-self\n",
    "- 例　//p[@class=\"recent books\"]/descendant-or-self::node()\n",
    "\n",
    "#### ■自分自身の要素を取得するにはself\n",
    "- 例　//p[@class=\"recent books\"]/self::node()\n",
    "- 通常は省略される　/p[@class=\"recent books\"]\n",
    "\n",
    "#### ■自分自身の要素の属性取得するにはattribute\n",
    "- 例　//p[@class=\"recent books\"]/attribute::node()"
   ]
  },
  {
   "cell_type": "code",
   "execution_count": null,
   "metadata": {},
   "outputs": [],
   "source": []
  },
  {
   "cell_type": "code",
   "execution_count": null,
   "metadata": {},
   "outputs": [],
   "source": []
  }
 ],
 "metadata": {
  "kernelspec": {
   "display_name": "Python 3",
   "language": "python",
   "name": "python3"
  },
  "language_info": {
   "codemirror_mode": {
    "name": "ipython",
    "version": 3
   },
   "file_extension": ".py",
   "mimetype": "text/x-python",
   "name": "python",
   "nbconvert_exporter": "python",
   "pygments_lexer": "ipython3",
   "version": "3.7.4"
  }
 },
 "nbformat": 4,
 "nbformat_minor": 4
}
